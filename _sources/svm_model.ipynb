{
 "cells": [
  {
   "attachments": {},
   "cell_type": "markdown",
   "metadata": {},
   "source": [
    "# Máquinas de vectores de soporte"
   ]
  },
  {
   "cell_type": "markdown",
   "metadata": {},
   "source": [
    "````{admonition} Introducción\n",
    "- Las ***máquinas de vectores de soporte (SVM)*** propuestas por ***Vapnik (1996, 1998)***, se caracterizan por ser un proceso interno de ***construcción de reglas de clasificación, bastante diferente al de las de los métodos estadísticos***. Las ***SVM*** suelen ser eficaces en casos en los que los métodos de clasificación tradicionales no lo son, como por ejemplo, los ***problemas basados en datos con estructura no lineal***, además las ***SVM*** se han adaptado y aplicado en muchos campos de investigación. En esta sección, nos centramos en las ***SVM*** para la solución de ***problemas de regresión y clasificación***, así como también el proceso de construcción, luego abordaremos los pasos de su extensión, de sistemas lineales a sistemas no lineales.\n",
    "- El paradigma algorítmico de las ***SVM*** aborda el reto de la complejidad de la muestra mediante la **búsqueda de separadores de \"mayor margen\"**. A grandes rasgos, un semiespacio separa un conjunto de entrenamiento con un gran margen si ***todos los ejemplos no sólo están en el lado correcto del hiperplano de separación, sino también lejos de él***. Restringir el algoritmo a la salida de un separador de gran margen puede producir una complejidad de muestra pequeña, incluso si la dimensionalidad del espacio de características es alta (e incluso infinita). Introduciremos el concepto de margen y lo relacionamos con el ***paradigma de minimización de pérdidas regularizadas***.\n",
    "````"
   ]
  },
  {
   "attachments": {},
   "cell_type": "markdown",
   "metadata": {},
   "source": [
    "## Análisis"
   ]
  },
  {
   "attachments": {},
   "cell_type": "markdown",
   "metadata": {},
   "source": [
    "## Espacios de Hilbert con Kernel reproductor"
   ]
  },
  {
   "attachments": {},
   "cell_type": "markdown",
   "metadata": {},
   "source": [
    "Sea $H$ un ***espacio lineal de funciones reales*** definidas sobre $\\mathcal{X}\\subseteq\\mathcal{R}^{l}$. Además, suponga que $H$ es un ***espacio de Hilbert***, con producto interno $\\langle\\cdot,\\cdot\\rangle_{H}$ que induce la norma $\\|\\cdot\\|_{H}$, con respecto a la cual $H$ es completo."
   ]
  },
  {
   "attachments": {},
   "cell_type": "markdown",
   "metadata": {},
   "source": [
    "````{prf:definition}\n",
    ":label: def_hilbert_rep\n",
    "\n",
    "Un espacio de Hilbert $H$ es llamado `espacio de Hilbert con kernel reproductor (RKHS)` si existe una función:\n",
    "\n",
    "$$\n",
    "\\kappa:\\mathcal{X}\\times\\mathcal{X}\\mapsto\\mathbb{R}\n",
    "$$\n",
    "\n",
    "con las siguientes propiedades:\n",
    "\n",
    "- Para cada $\\boldsymbol{x}\\in\\mathcal{X},~\\kappa(\\cdot, \\boldsymbol{x})$ pertenece a $H$\n",
    "- $\\kappa(\\cdot, \\cdot)$ tiene la llamada `propiedad de reproducción`, esto es:\n",
    "\n",
    "$$\n",
    "f(\\boldsymbol{x})=\\langle f, \\kappa(\\cdot, \\boldsymbol{x})\\rangle,\\quad\\forall f\\in H,~\\forall \\boldsymbol{x}\\in\\mathcal{X}\n",
    "$$ (prop_reproductora)\n",
    "\n",
    "````"
   ]
  },
  {
   "attachments": {},
   "cell_type": "markdown",
   "metadata": {},
   "source": [
    "- Una consecuencia directa de la ***propiedad reproductora*** es, si definimos $f(\\cdot)=\\kappa(\\cdot, \\boldsymbol{y}),~\\boldsymbol{y}\\in\\mathcal{X}$ entonces\n",
    "\n",
    "$$\n",
    "\\kappa(\\boldsymbol{x}, \\boldsymbol{y})=\\langle\\kappa(\\cdot, \\boldsymbol{y}), \\kappa(\\cdot, \\boldsymbol{x})\\rangle=\\langle\\kappa(\\cdot, \\boldsymbol{x}), \\kappa(\\cdot, \\boldsymbol{y})\\rangle=\\kappa(\\boldsymbol{y}, \\boldsymbol{x})\n",
    "$$"
   ]
  },
  {
   "attachments": {},
   "cell_type": "markdown",
   "metadata": {},
   "source": [
    "````{prf:definition}\n",
    ":label: def_features_map\n",
    "\n",
    "Sea $H$ un `(RKHS)` asociado con una función kernel $\\kappa(\\cdot, \\cdot)$ y $\\mathcal{X}$ un conjunto de elementos. Entonces el mapeo\n",
    "\n",
    "$$\n",
    "\\mathcal{X}\\ni\\boldsymbol{x}\\mapsto\\Phi(\\boldsymbol{x}):=\\kappa(\\cdot, \\boldsymbol{x})\\in H\n",
    "$$\n",
    "\n",
    "es conocido como `mapeo de características` y el espacio $H$ es el `espacio de características`. Esto es $\\Phi$ mapea cada vector $\\boldsymbol{x}\\in\\mathcal{X}$ en el (RKHS) $H$.\n",
    "````"
   ]
  },
  {
   "attachments": {},
   "cell_type": "markdown",
   "metadata": {},
   "source": [
    "- $H$ puede ser de `dimensión finita o inifinita y sus elementos pueden ser funciones`. Esto es, cada `punto de entrenamiento es mapeado en un espacio de funciones`. Si $H$ es de dimensión finita, por ejemplo el Espacio Euclidiano $\\mathbb{R}^{k},~\\Phi(\\boldsymbol{x})\\in\\mathbb{R}^{k}$.\n",
    "\n",
    "- Consideraremos el caso de dimensión infinita cuyas imágenes son funciones de $\\Phi(\\cdot)$. Veamos las ventajas de este `mapeo, del espacio original a otro de dimensión infinita (RKHS)`."
   ]
  },
  {
   "attachments": {},
   "cell_type": "markdown",
   "metadata": {},
   "source": [
    "````{prf:definition}\n",
    ":label: def_kernel_trick\n",
    "\n",
    "Sean $\\boldsymbol{x}, \\boldsymbol{y}\\in\\mathcal{X}\\subseteq\\mathbb{R}^{l}$, entonces el `producto interno del respectivo mapeo de imágenes` es escrito como:\n",
    "\n",
    "$$\n",
    "\\langle\\Phi(\\boldsymbol{x}), \\Phi(\\boldsymbol{y})\\rangle_{H}=\\langle \\kappa(\\cdot, \\boldsymbol{x}), \\kappa(\\cdot, \\boldsymbol{y})\\rangle\n",
    "$$\n",
    "\n",
    "o\n",
    "\n",
    "$$\n",
    "\\langle\\Phi(\\boldsymbol{x}), \\Phi(\\boldsymbol{y})\\rangle_{H}=\\kappa(\\boldsymbol{x}, \\boldsymbol{y}),\\quad\\text{Kernel trick}\n",
    "$$\n",
    "\n",
    "````"
   ]
  },
  {
   "cell_type": "markdown",
   "metadata": {},
   "source": [
    "```{figure} ./imgs/kernel_map_ilust.png\n",
    ":name: fig_kernel_map_ilust\n",
    ":align: center\n",
    ":scale: 70\n",
    "```"
   ]
  },
  {
   "attachments": {},
   "cell_type": "markdown",
   "metadata": {},
   "source": [
    "- Empleando este tipo de mapeo a nuestro problema, calculamos `operaciones de producto interno en` $H$ en una manera eficiente, vía `evaluación de funciones sobre el espacio de baja dimensión`. "
   ]
  },
  {
   "cell_type": "markdown",
   "metadata": {},
   "source": [
    "````{figure} ./imgs/non-linear-classifier-using-kernel-trick.png\n",
    ":name: non-linear-classifier-using-kernel-trick_fig\n",
    ":align: center\n",
    "\n",
    "Ilustración de la propiedad **kernel trick**. Fuente {cite}`hachimi2020multi`.\n",
    "````"
   ]
  },
  {
   "attachments": {},
   "cell_type": "markdown",
   "metadata": {},
   "source": [
    "````{prf:property}\n",
    ":label: props_features_map\n",
    "\n",
    "El mapeo $\\Phi(\\cdot)$ satisface las siguientes propiedades\n",
    "\n",
    "- `Mapea implícitamente inputs (datos de entrenamiento) en un espacio RKHS`\n",
    "- Soluciona tareas de `estimación lineal en` $H$, involucrando las imágenes: \n",
    "\n",
    "$$\n",
    "\\Phi(x_{n}),~n=1,2,\\dots,N.\n",
    "$$\n",
    "\n",
    "- **Proyecta el algoritmo que soluciona problemas de parámetros desconocidos, en términos del producto interno** en la forma:\n",
    "\n",
    "$$\n",
    "\\langle\\Phi(x_{i}), \\Phi(x_{j})\\rangle,\\quad i,j=1,2,\\dots,N\n",
    "$$\n",
    "\n",
    "- Considera la `evaluación kernel como el producto interno`:\n",
    "\n",
    "$$\n",
    "\\langle\\Phi(x_{i}),\\Phi(x_{j})\\rangle=\\kappa(x_{i}, x_{j}).\n",
    "$$\n",
    "````"
   ]
  },
  {
   "attachments": {},
   "cell_type": "markdown",
   "metadata": {},
   "source": [
    "- Nótese que este procedimiento de mapeo explicito es necesario para calcular la operación kernel en el último paso. La forma especifica de $\\kappa(\\cdot,\\cdot)$ no concierne en el análisis."
   ]
  },
  {
   "attachments": {},
   "cell_type": "markdown",
   "metadata": {},
   "source": [
    "````{prf:example}\n",
    ":label: ej_feature_map\n",
    "\n",
    "Considere el caso del `espacio de 2 dimensiones` y el mapeo\n",
    "\n",
    "$$\n",
    "\\mathbb{R}^{2}\\ni \\boldsymbol{x}\\mapsto\\Phi(x)=(x_{1}^{2}, \\sqrt{2}x_{1}x_{2}, x_{2}^{2})\\in\\mathbb{R}^{3}\n",
    "$$\n",
    "\n",
    "Entonces, dados los vectores $\\boldsymbol{x}=(x_{1}, x_{2})^{T}$ y $\\boldsymbol{y}=(y_{1}, y_{2})^{T}$, es facil ver que\n",
    "\n",
    "$$\n",
    "\\kappa(\\boldsymbol{x}, \\boldsymbol{y})=\\langle\\Phi(\\boldsymbol{x}), \\Phi(\\boldsymbol{y})\\rangle_{\\mathbb{R}^{3}}=\\Phi(\\boldsymbol{x})^{T}\\Phi(\\boldsymbol{y})=(x_{1}y_{1}+x_{2}y_{2})^{2}=(\\boldsymbol{x}^{T}\\boldsymbol{y})^{2}\n",
    "$$\n",
    "\n",
    "Es decir, el producto interior en el espacio tridimensional, después del mapeo, está dado en términos de una `función de las variables en el espacio original`.\n",
    "````"
   ]
  },
  {
   "attachments": {},
   "cell_type": "markdown",
   "metadata": {},
   "source": [
    "````{prf:property}\n",
    ":label: prop_kcompacto\n",
    "\n",
    "Sea $\\mathcal{X}$ un conjunto de puntos. Típicamente, $\\mathcal{X}\\subseteq\\mathbb{R}^{l}$ es **compacto, esto es, cada sucesión en** $X$ **tiene una subsucesión convergente**. Sea $\\kappa$ la función\n",
    "\n",
    "$$\n",
    "\\kappa:\\mathcal{X}\\times\\mathcal{X}\\mapsto\\mathbb{R}.\n",
    "$$\n",
    "\n",
    "La función $\\kappa$ es llamada `kernel definido positivo si satisface`\n",
    "\n",
    "$$\n",
    "\\sum_{n=1}^{N}\\sum_{m=1}^{N}a_{n}a_{m}\\kappa(x_{n}, x_{m})\\geq0,\n",
    "$$\n",
    "\n",
    "para cualquier número real $a_{n}, a_{m}$ y cualquier punto $x_{n}, x_{m}\\in\\mathcal{X}$ y cualquier $N\\in\\mathbb{N}$. O equivalentemente, si definimos la matriz $K$, de orden $N$\n",
    "\n",
    "$$\n",
    "K=\n",
    "\\begin{pmatrix}\n",
    "k(x_{1}, x_{1}) & \\cdots & k(x_{1}, x_{N})\\\\\n",
    "\\vdots & \\vdots & \\vdots\\\\\n",
    "k(x_{N}, x_{1}) & \\cdots & k(x_{N}, x_{N})\\\\\n",
    "\\end{pmatrix}\n",
    "$$\n",
    "\n",
    "$a^{T}Ka\\geq0$, donde $a=(a_{1}, a_{2},\\dots, a_{N})^{T}$.\n",
    "````"
   ]
  },
  {
   "attachments": {},
   "cell_type": "markdown",
   "metadata": {},
   "source": [
    "````{prf:example}\n",
    ":label: ej_kernel_functions\n",
    "\n",
    "Los siguientes son algunos `ejemplos típicos de funciones kernel`, las cuales son comúnmente usadas en varias aplicaciones. Estas funciones kernel son utilizadas en `Python` para los modelos `SVC` y `SVR` (ver [kernel-functions](https://scikit-learn.org/stable/modules/svm.html#kernel-functions)). \n",
    "\n",
    "- El `kernel gaussiano` está entre las más populares y está dado por la función\n",
    "\n",
    "    $$\n",
    "    \\kappa(\\boldsymbol{x}, \\boldsymbol{y})=\\exp\\left(-\\frac{\\|\\boldsymbol{x}-\\boldsymbol{y}\\|^{2}}{2\\sigma^2}\\right),\\quad\\sigma>0\n",
    "    $$\n",
    "\n",
    "- El `kernel polinomial` homogéneo tiene la forma\n",
    "\n",
    "    $$\n",
    "    \\kappa(\\boldsymbol{x}, \\boldsymbol{y})=(\\boldsymbol{x}^{T}\\boldsymbol{y})^{r},\n",
    "    $$\n",
    "    \n",
    "    donde $r$ es un parámetro.\n",
    "\n",
    "- El `kernel polinómico no-homogéneo` tiene la forma\n",
    "\n",
    "    $$\n",
    "    \\kappa(\\boldsymbol{x}, \\boldsymbol{y})=(\\boldsymbol{x}^{T}\\boldsymbol{y}+c)^{r},\n",
    "    $$\n",
    "    \n",
    "    donde $c\\geq0,~r$ son parámetros.\n",
    "\n",
    "- El `kernel laplaciano` está dado por\n",
    "\n",
    "    $$\n",
    "    \\kappa(\\boldsymbol{x}, \\boldsymbol{y})=\\exp(-t\\|\\boldsymbol{x}-\\boldsymbol{y}\\|),\n",
    "    $$\n",
    "    \n",
    "    donde $t>0$ es un parámetro.\n",
    "````"
   ]
  },
  {
   "cell_type": "markdown",
   "metadata": {},
   "source": [
    "````{figure} ./imgs/sphx_glr_plot_iris_svc_001.png\n",
    ":name: sphx_glr_plot_iris_svc_001_fig\n",
    ":align: center\n",
    "\n",
    "`SVC` y `LinearSVC` para clasificación en un conjunto de datos. Ver [scikit-learn](https://scikit-learn.org/stable/modules/svm.html#classification).\n",
    "````"
   ]
  },
  {
   "attachments": {},
   "cell_type": "markdown",
   "metadata": {},
   "source": [
    "## Construcción de kernels"
   ]
  },
  {
   "attachments": {},
   "cell_type": "markdown",
   "metadata": {},
   "source": [
    "Además de los ejemplos previos, se pueden `construir otros kernels aplicando las siguientes propiedades`"
   ]
  },
  {
   "attachments": {},
   "cell_type": "markdown",
   "metadata": {},
   "source": [
    "- Si\n",
    "\n",
    "    $$\n",
    "    \\kappa_{1}(\\boldsymbol{x}, \\boldsymbol{y}):\\mathcal{X}\\times\\mathcal{X}\\mapsto\\mathbb{R}\\\\\n",
    "    \\kappa_{1}(\\boldsymbol{x}, \\boldsymbol{y}):\\mathcal{X}\\times\\mathcal{X}\\mapsto\\mathbb{R}$$\n",
    "\n",
    "    son kernels, entonces\n",
    "    \n",
    "    $$\n",
    "    \\kappa(\\boldsymbol{x}, \\boldsymbol{y})=\\kappa_{1}(\\boldsymbol{x}, \\boldsymbol{y})+\\kappa_{2}(\\boldsymbol{x}, \\boldsymbol{y})\\\\\n",
    "    \\kappa(\\boldsymbol{x}, \\boldsymbol{y})=\\alpha\\kappa_{1}(\\boldsymbol{x}, \\boldsymbol{y})$$\n",
    "    \n",
    "    y\n",
    "    \n",
    "    $$\n",
    "    \\kappa(\\boldsymbol{x}, \\boldsymbol{y})=\\kappa_{1}(\\boldsymbol{x}, \\boldsymbol{y})\\kappa_{2}(\\boldsymbol{x}, \\boldsymbol{y}),\n",
    "    $$\n",
    "    \n",
    "    son kernels."
   ]
  },
  {
   "attachments": {},
   "cell_type": "markdown",
   "metadata": {},
   "source": [
    "- Sea\n",
    "\n",
    "    $$\n",
    "    f:\\mathcal{X}\\mapsto\\mathbb{R}\n",
    "    $$\n",
    "\n",
    "    entonces\n",
    "\n",
    "    $$\n",
    "    \\kappa(\\boldsymbol{x}, \\boldsymbol{y})=f(\\boldsymbol{x})f(\\boldsymbol{y})\n",
    "    $$\n",
    "\n",
    "    es un kernel"
   ]
  },
  {
   "attachments": {},
   "cell_type": "markdown",
   "metadata": {},
   "source": [
    "- Sea una función \n",
    "\n",
    "    $$\n",
    "    g:\\mathcal{X}\\mapsto\\mathbb{R}^{l}\n",
    "    $$\n",
    "\n",
    "    y una función kernel\n",
    "\n",
    "    $$\n",
    "    \\kappa_{1}(\\cdot, \\cdot):\\mathbb{R}^{l}\\times\\mathbb{R}^{l}\\mapsto\\mathbb{R}.\n",
    "    $$\n",
    "\n",
    "    Entonces\n",
    "\n",
    "    $$\n",
    "    \\kappa(\\boldsymbol{x}, \\boldsymbol{y})=\\kappa_{1}(g(\\boldsymbol{x}), g(\\boldsymbol{y}))\n",
    "    $$\n",
    "\n",
    "    es también un kernel."
   ]
  },
  {
   "attachments": {},
   "cell_type": "markdown",
   "metadata": {},
   "source": [
    "- Sea $A$ una `matriz definida positiva` con dimensión $l\\times l$. Entonces\n",
    "\n",
    "    $$\n",
    "    \\kappa(\\boldsymbol{x}, \\boldsymbol{y})=\\boldsymbol{x}^{T}A\\boldsymbol{y}\n",
    "    $$\n",
    "\n",
    "    es un kernel."
   ]
  },
  {
   "attachments": {},
   "cell_type": "markdown",
   "metadata": {},
   "source": [
    "- Si\n",
    "\n",
    "    $$\n",
    "    \\kappa_{1}(\\boldsymbol{x}, \\boldsymbol{y}):\\mathcal{X}\\times\\mathcal{X}\\mapsto\\mathbb{R},\n",
    "    $$\n",
    "\n",
    "    entonces\n",
    "\n",
    "    $$\n",
    "    \\kappa(\\boldsymbol{x}, \\boldsymbol{y})=\\exp(\\kappa_{1}(\\boldsymbol{x}, \\boldsymbol{y}))\n",
    "    $$\n",
    "\n",
    "    es también un kernel, y si $p(\\cdot)$ es un polinomio con coeficientes no negativos,\n",
    "\n",
    "    $$\n",
    "    \\kappa(\\boldsymbol{x}, \\boldsymbol{y})=p(\\kappa_{1}(\\boldsymbol{x}, \\boldsymbol{y}))\n",
    "    $$\n",
    "\n",
    "    también es un kernel."
   ]
  },
  {
   "attachments": {},
   "cell_type": "markdown",
   "metadata": {},
   "source": [
    "Para mas información sobre los kernel y su construción (ver {cite}`hofmann2008kernel, shawe2004kernel, slavakis2014online`)."
   ]
  },
  {
   "attachments": {},
   "cell_type": "markdown",
   "metadata": {},
   "source": [
    "## Teorema de representación"
   ]
  },
  {
   "attachments": {},
   "cell_type": "markdown",
   "metadata": {},
   "source": [
    "- El teorema que se presentará en esta sección es de gran importancia desde un punto de vista práctico. Este nos permite llevar a cabo,  **optimización empírica de funciones de pérdida**, basado en un conjunto finito de puntos de entrenamiento, en una manera muy eficiente *si la función a estimar pertenece a un espacio de dimensión alta* o incluso infinita $H$."
   ]
  },
  {
   "attachments": {},
   "cell_type": "markdown",
   "metadata": {},
   "source": [
    "````{prf:theorem}\n",
    ":label: th_representation\n",
    "\n",
    "Sea \n",
    "\n",
    "$$\n",
    "\\Omega: [0, +\\infty)\\longmapsto\\mathbb{R}\n",
    "$$\n",
    "\n",
    "una función arbitraria, `estrictamente monotona creciente`. Sea también \n",
    "\n",
    "$$\n",
    "\\mathcal{L}:\\mathbb{R}^{2}\\longmapsto\\mathbb{R}\\cup\\{\\infty\\}\n",
    "$$\n",
    "\n",
    "una `función de pérdida`. Entonces, cada minimizador $f\\in H$, de una `tarea de minimización regularizada`\n",
    "\n",
    "$$\n",
    "\\min_{f\\in H} J(f)=\\sum_{n=1}^{N}\\mathcal{L}(y_{n}, f(\\boldsymbol{x}_{n}))+\\lambda\\Omega(\\|f\\|^{2})\n",
    "$$ (eq_min_reg)\n",
    "\n",
    "admite una `representación` de la forma\n",
    "\n",
    "$$\n",
    "f(\\cdot)=\\sum_{n=1}^{N}\\theta_{n}\\kappa(\\cdot, \\boldsymbol{x}_{n}),\n",
    "$$\n",
    "\n",
    "donde $\\theta_{n}\\in\\mathbb{R},~n=1,2,\\dots,N$. La regularización de la forma $\\Omega(\\|f\\|^{2})$ es una `función cuadrática, y por lo tanto estrictamente monotona` en el intervalo $[0, \\infty)$.\n",
    "````"
   ]
  },
  {
   "attachments": {},
   "cell_type": "markdown",
   "metadata": {},
   "source": [
    "**`Demostración`**"
   ]
  },
  {
   "attachments": {},
   "cell_type": "markdown",
   "metadata": {},
   "source": [
    "Sea \n",
    "\n",
    "$$\n",
    "A=\\text{span}\\{\\kappa(\\cdot, \\boldsymbol{x}_{1}), \\kappa(\\cdot, \\boldsymbol{x}_{2}),\\dots,\\kappa(\\cdot, \\boldsymbol{x}_{N})\\}.\n",
    "$$\n",
    "\n",
    "Dado que cada $\\kappa(\\cdot, \\boldsymbol{x}_{i})\\in H,~i=1,2,\\dots,N,~A\\subseteq H$ y $N<\\infty$, entonces, $A$ es cerrado. "
   ]
  },
  {
   "attachments": {},
   "cell_type": "markdown",
   "metadata": {},
   "source": [
    "Por **Teorema de descomposición ortogonal**, como $A$ es un subespacio cerrado de $H$, entonces, $H=A\\oplus A^{T}$. Esto es, si $f\\in H$ entonces\n",
    "\n",
    "$$\n",
    "f(\\cdot)=\\sum_{n=1}^{N}\\theta_{n}\\kappa(\\cdot, \\boldsymbol{x}_{n})+f_{\\perp}\n",
    "$$\n",
    "\n",
    "donde $f_{\\perp}$ es la parte de $f$ que es ortogonal a $A$. "
   ]
  },
  {
   "attachments": {},
   "cell_type": "markdown",
   "metadata": {},
   "source": [
    "Usando la **propiedad reproductora** {eq}`prop_reproductora` se tiene que $\\forall f\\in H$\n",
    "\n",
    "$$\n",
    "\\begin{align}\n",
    "f(\\boldsymbol{x}_{m})&=\\langle f, \\kappa(\\cdot, \\boldsymbol{x}_{m})\\rangle\\\\\n",
    "&=\\left\\langle\\sum_{n=1}^{N}\\theta_{n}\\kappa(\\cdot, \\boldsymbol{x}_{n})+f_{\\perp}, \\kappa(\\cdot, \\boldsymbol{x}_{m})\\right\\rangle\\\\\n",
    "&=\\left\\langle\\sum_{n=1}^{N}\\theta_{n}\\kappa(\\cdot, \\boldsymbol{x}_{n}), \\kappa(\\cdot, \\boldsymbol{x}_{m})\\right\\rangle\\\\\n",
    "&=\\sum_{n=1}^{N}\\theta_{n}\\langle\\kappa(\\cdot, \\boldsymbol{x}_{n}), \\kappa(\\cdot, \\boldsymbol{x}_{m})\\rangle\\\\\n",
    "&=\\sum_{n=1}^{N}\\theta_{n}\\kappa(\\boldsymbol{x}_{m}, \\boldsymbol{x}_{n}).\n",
    "\\end{align}\n",
    "$$"
   ]
  },
  {
   "attachments": {},
   "cell_type": "markdown",
   "metadata": {},
   "source": [
    "Nótese que **la propiedad de reproducción garantiza que en los puntos de entrenamiento el valor de** $f$ **no depende de** $f_{\\perp}$, y, por lo tanto, tampoco el primer término de $\\min_{f\\in H}J(f)$ en {eq}`eq_min_reg`."
   ]
  },
  {
   "attachments": {},
   "cell_type": "markdown",
   "metadata": {},
   "source": [
    "Además, para todo $f_{\\perp}$ tenemos que:\n",
    "\n",
    "$$\n",
    "\\begin{align*}\n",
    "\\Omega(\\|f\\|^{2})&=\\Omega\\left(\\left\\langle\\sum_{n=1}^{N}\\theta_{n}\\kappa(\\cdot, \\boldsymbol{x}_{n})+f_{\\perp}, \\sum_{n=1}^{N}\\theta_{n}\\kappa(\\cdot, \\boldsymbol{x}_{n})+f_{\\perp}\\right\\rangle\\right)\\\\\n",
    "&=\\Omega\\left(\\left\\langle\\sum_{n=1}^{N}\\theta_{n}\\kappa(\\cdot, \\boldsymbol{x}_{n}), \\sum_{n=1}^{N}\\theta_{n}\\kappa(\\cdot, \\boldsymbol{x}_{n})\\right\\rangle+\\langle f_{\\perp}, f_{\\perp}\\rangle\\right)\\\\\n",
    "&=\\Omega\\left(\\left\\|\\sum_{n=1}^{N}\\theta_{n}\\kappa(\\cdot, \\boldsymbol{x}_{n})\\right\\|^{2}+\\|f_{\\perp}\\|^{2}\\right)\\\\\n",
    "&\\geq\\Omega\\left(\\left\\|\\sum_{n=1}^{N}\\theta_{n}\\kappa(\\cdot, \\boldsymbol{x}_{n})\\right\\|^{2}\\right)\n",
    "\\end{align*}\n",
    "$$"
   ]
  },
  {
   "attachments": {},
   "cell_type": "markdown",
   "metadata": {},
   "source": [
    "Por lo tanto `para cualquier selección de` $\\theta_{n},~n=1,2,\\dots,N$, `la función de coste es minimizada por` $f_{\\perp}=0$."
   ]
  },
  {
   "attachments": {},
   "cell_type": "markdown",
   "metadata": {},
   "source": [
    "````{prf:observation}\n",
    "- La importancia de este teorema radica en que, para optimizar $J(f)$ en {eq}`eq_min_reg` con respecto a $f$, usamos la expresión $f(\\cdot)$ en {eq}`prop_reproductora` y **la minimización es llevada a cabo con respecto a los parámetros** $\\theta_{n},~n=1,2,\\dots,N$. \n",
    "\n",
    "- En casos que la regularización no es necesaria, usualmente un término de sesgo es agregado y se supone que la `función a minimizar admite la representación`\n",
    "\n",
    "    $$\n",
    "    \\tilde{f}=f+b,\\quad f(\\cdot)=\\sum_{n=1}^{N}\\theta_{n}\\kappa(\\cdot, \\boldsymbol{x}_{n})\n",
    "    $$\n",
    "````"
   ]
  },
  {
   "cell_type": "markdown",
   "metadata": {},
   "source": [
    "- La esencia del siguiente teorema es expandir la solución en dos partes. **Una que pertenece al RKHS**, $H$, y otra que está dada como una **combinación lineal de un conjunto de funciones preseleccionadas**."
   ]
  },
  {
   "attachments": {},
   "cell_type": "markdown",
   "metadata": {},
   "source": [
    "````{prf:theorem} Teorema de representación semiparamétrico\n",
    ":label: th_rep_semipar\n",
    "\n",
    "Supongamos que adicionalmente a los supuestos adoptados en el {prf:ref}`th_representation`, es dado el siguiente **conjunto de funciones reales**\n",
    "\n",
    "$$\n",
    "\\varphi_{m}:\\mathcal{X}\\longmapsto\\mathbb{R},\\quad m=1,2,\\dots,M,\n",
    "$$\n",
    "\n",
    "con la propiedad que la matriz de $N\\times M$ con elementos $\\varphi_{m}(\\boldsymbol{x}_{n})$, $~n=1,2,\\dots,N$, $~m=1,2,\\dots,M$, tiene rango $M$. Entonces, cualquier\n",
    "\n",
    "$$\n",
    "\\tilde{f}=f+h,\\quad f\\in H,~ h\\in\\text{span}\\{\\varphi_{m}, m=1,2,\\dots,M\\},\n",
    "$$\n",
    "\n",
    "que soluciona la tarea de minimización\n",
    "\n",
    "$$\n",
    "\\min_{\\tilde{f}} J(\\tilde{f}):=\\sum_{n=1}^{N}\\mathcal{L}(y_{n}, \\tilde{f}(\\boldsymbol{x}_{n}))+\\Omega(\\|f\\|^{2}),\n",
    "$$\n",
    "\n",
    "**admite la representación**\n",
    "\n",
    "$$\n",
    "\\tilde{f}(\\cdot)=\\sum_{n=1}^{N}\\theta_{n}\\kappa(\\cdot, \\boldsymbol{x}_{n})+\\sum_{m=1}^{M}b_{m}\\psi_{m}(\\cdot).\n",
    "$$\n",
    "\n",
    "````"
   ]
  },
  {
   "attachments": {},
   "cell_type": "markdown",
   "metadata": {},
   "source": [
    "```{prf:observation}\n",
    "Un ejemplo de `aplicación exitosa de este teorema fue demostrada en el contexto de procesamiento de imágenes` {cite}`bouboulis2010adaptive`. Un conjunto de funciones no lineales en lugar de $\\psi_{m}$ fueron usadas para **detección de bordes en una imagen con (saltos no suaves)**. La parte de $f$ que pertenece al espacio `RKHS` es usada para las partes suaves en la imagen. \n",
    "```"
   ]
  },
  {
   "attachments": {},
   "cell_type": "markdown",
   "metadata": {},
   "source": [
    "## Regresión ridge con Kernel"
   ]
  },
  {
   "attachments": {},
   "cell_type": "markdown",
   "metadata": {},
   "source": [
    "- En esta sección abordaremos la tarea de ***regresión ridge en un espacio general RKHS***. El camino a seguir es el usado típicamente para ***extender técnicas, las cuales han sido desarrolladas para modelos lineales, a espacios más generales RKSH***.\n",
    "\n",
    "- Sea $(y_{n}, \\boldsymbol{x}_{n})\\in\\mathbb{R}\\times\\mathbb{R}^{l}$ la representación de un mecanismo de generación de datos, modelados vía tarea de ***regresión no lineal***\n",
    "\n",
    "    $$\n",
    "    y_{n}=g(\\boldsymbol{x}_{n})+\\eta_{n},\\quad n=1,2,\\dots,N.\n",
    "    $$\n",
    "\n",
    "- Denotemos por $f$ es el ***estimador de la función*** $g$ desconocida. $f$ ***es llamada la hipótesis*** y $H$ ***el espacio de hipótesis***, donde $f$ es buscada. Supongamos que $f$ está en ***RKHS*** y está asociada con el kernel \n",
    "\n",
    "$$\n",
    "\\kappa:\\mathbb{R}^{l}\\times\\mathbb{R}^{l}\\longmapsto\\mathbb{R}.\n",
    "$$"
   ]
  },
  {
   "cell_type": "markdown",
   "metadata": {},
   "source": [
    "- Por el ***teorema de representación*** se tiene que\n",
    "\n",
    "$$\n",
    "f(\\boldsymbol{x})=\\sum_{n=1}^{N}\\theta_{n}\\kappa(\\boldsymbol{x}, \\boldsymbol{x}_{n}).\n",
    "$$\n",
    "\n",
    "- De acuerdo a la ***regresión ridge con kernel***, los coeficientes desconocidos son estimados por medio de la siguiente tarea\n",
    "\n",
    "    $$\n",
    "    \\hat{\\theta}=\\text{argmin}_{\\theta} J(\\theta),\\quad J(\\theta)=\\sum_{n=1}^{N}\\left(y_{n}-\\sum_{m=1}^{N}\\theta_{m}\\kappa(\\boldsymbol{x}_{n}, \\boldsymbol{x}_{m})\\right)^{2}+C\\langle f, f\\rangle,\n",
    "    $$ (eq_task_ridge_reg)\n",
    "\n",
    "    donde $C$ es el ***parámetro de regularización***. La Ecuación {eq}`eq_task_ridge_reg` puede reescribirse como\n",
    "\n",
    "    $$\n",
    "    J(\\theta)=(\\boldsymbol{y}-K\\theta)^{T}(\\boldsymbol{y}-K\\theta)+C\\theta^{T}K\\theta,\n",
    "    $$(loss_ridge_kernel)\n",
    "\n",
    "    donde $\\boldsymbol{y}=(y_{1}, y_{2},\\dots, y_{N})^{T}$ y $\\theta=(\\theta_{1}, \\theta_{2}, \\dots,\\theta_{M})^{T}$, $K$ es la matriz kernel tal que $\\langle\\kappa(\\cdot, \\boldsymbol{x}_{m}), \\kappa(\\cdot, \\boldsymbol{x}_{m})\\rangle=\\kappa(\\boldsymbol{x}_{m}, \\boldsymbol{x}_{n})$, y $y$ es ***determinada por la función kernel y los valores de entrenamiento***."
   ]
  },
  {
   "cell_type": "markdown",
   "metadata": {},
   "source": [
    "- ***Minimizando*** $J(\\theta)$ con respecto a $\\theta$ y ***suponiendo que*** $K^{T}=K$ ***es invertible***, utilizando el ***mismo procedimiento en la regresión ridge***, tenemos que\n",
    "\n",
    "$$\n",
    "(K^{T}K+CK^{T})\\hat{\\theta}=K^{T}\\boldsymbol{y}\\quad\\text{o}\\quad\\boldsymbol{y} = (K+CI)\\hat{\\theta}.\n",
    "$$\n",
    "\n",
    "- Una vez $\\hat{\\theta}$ es obtenido, dado un vector $\\boldsymbol{x}\\in\\mathbb{R}^{l}$ la correspondiente ***predicción de la variable dependiente*** está dada por:\n",
    "\n",
    "    $$\n",
    "    \\hat{\\boldsymbol{y}}=\\sum_{n=1}^{N}\\hat{\\theta}_{n}\\kappa(\\boldsymbol{x}, \\boldsymbol{x}_{n})=\\theta^{T}\\boldsymbol{\\kappa}(\\boldsymbol{x})=\\boldsymbol{y}^{T}(K+CI)^{-1}\\boldsymbol{\\kappa}(\\boldsymbol{x}),\n",
    "    $$\n",
    "\n",
    "    donde $\\boldsymbol{\\kappa}(\\boldsymbol{x})=(\\kappa(\\boldsymbol{x},\\boldsymbol{x}_{1}),\\dots,\\boldsymbol{\\kappa}(\\boldsymbol{x}, \\boldsymbol{x}_{N}))^{T}$."
   ]
  },
  {
   "attachments": {},
   "cell_type": "markdown",
   "metadata": {},
   "source": [
    "## Regresión de vectores de soporte"
   ]
  },
  {
   "cell_type": "markdown",
   "metadata": {},
   "source": [
    "```{admonition} Método de mínimos módulos\n",
    "- El método de ***mínimos cuadrados no es siempre el mejor criterio de optimización***, debido a que, ***en presencia de ruido no Gaussiano*** con colas largas y por lo tanto número creciente de outliers, ***la dependencia cuadrática de el método se sesga hacia valores asociados con presencia de outliers***\n",
    "\n",
    "- Una manera de darle solución a este problema es escoger una ***función de pérdida que se ajuste mejor al modelo del ruido*** (ver Huber 1992, {cite}`huber1992robust`). Bajo el ***supuesto de que el ruido tiene función de densidad de probabilidad (fdp) simétrica***, la tarea optima de regresión es obtenida minimizando la función de pérdida\n",
    "\n",
    "    $$\n",
    "    \\mathcal{L}(y, f(\\boldsymbol{x}))=|y-f(\\boldsymbol{x})|\n",
    "    $$\n",
    "\n",
    "    la cual es conocida como el ***método de mínimos módulos***.\n",
    "```"
   ]
  },
  {
   "cell_type": "markdown",
   "metadata": {},
   "source": [
    "```{admonition} Pérdida de Huber\n",
    "- Huber demostró que ***si el ruido tiene dos componentes: Gaussiana y otra fdp arbitraria (simétrica)***, entonces la ***mejor función de pérdida en el sentido minimax*** está dada por:\n",
    "\n",
    "    $$\n",
    "    \\mathcal{L}(y, f(\\boldsymbol{x}))=\n",
    "    \\begin{cases}\n",
    "    \\displaystyle{\\varepsilon|y-f(\\boldsymbol{x})|-\\varepsilon^{2}/2} & \\text{si}~|y-f(\\boldsymbol{x})|>\\varepsilon,\\\\[2mm]\n",
    "    \\displaystyle{|y-f(\\boldsymbol{x})|/2-\\varepsilon^{2}/2} & \\text{si}~|y-f(\\boldsymbol{x})|\\leq\\varepsilon,\n",
    "    \\end{cases}\n",
    "    $$\n",
    "\n",
    "    para algún parámetro $\\varepsilon$. Esta es conocida como función de ***pérdida de Huber***.\n",
    "```"
   ]
  },
  {
   "cell_type": "markdown",
   "metadata": {},
   "source": [
    "```{admonition} Pérdida $\\varepsilon$-insensible\n",
    "- Una ***función de pérdida que se aproxima a la de Huber*** y tiene excelentes propiedades computacionales es llamada ***función de pérdida lineal*** $\\varepsilon$-***insensible*** y está dada por \n",
    "\n",
    "    $$\n",
    "    \\mathcal{L}(y, f(\\boldsymbol{x}))=\n",
    "    \\begin{cases}\n",
    "    |y-f(\\boldsymbol{x})|-\\varepsilon & \\text{si}~|y-f(\\boldsymbol{x})|>\\varepsilon\\\\[2mm]\n",
    "    0 & \\text{si}~|y-f(\\boldsymbol{x})|\\leq\\varepsilon\n",
    "    \\end{cases}\n",
    "    $$ (eq_lin_ins)\n",
    "\n",
    "    y la función de pérdida ***cuadrática*** $\\epsilon$***-insensible***\n",
    "\n",
    "    $$\n",
    "    \\mathcal{L}(y, f(\\boldsymbol{x}))=\n",
    "    \\begin{cases}\n",
    "    |y-f(\\boldsymbol{x})|^{2}-\\varepsilon & \\text{si}~|y-f(\\boldsymbol{x})|>\\varepsilon\\\\[2mm]\n",
    "    0 & \\text{si}~|y-f(\\boldsymbol{x})|\\leq\\varepsilon\n",
    "    \\end{cases}\n",
    "    $$\n",
    "\n",
    "    la cuales ***coinciden con la función de pérdida de mínimos módulos para*** $\\varepsilon=0$ y es ***cercana a la función de pérdida de Huber para*** $\\varepsilon<1$.\n",
    "```"
   ]
  },
  {
   "attachments": {},
   "cell_type": "markdown",
   "metadata": {},
   "source": [
    "```{figure} ./imgs/huber_loss_plot.png\n",
    ":name: huber_loss_plot\n",
    ":align: center\n",
    ":scale: 90\n",
    "\n",
    "Función de pérdida de Huber (gris punteado). Función de pérdida lineal $\\varepsilon$-insensible (gris completo). Función de pérdida cuadrática $\\varepsilon$-insensible (rojo) para $\\varepsilon = 0.7$. Fuente {cite}`theodoridis2020machine`.\n",
    "```"
   ]
  },
  {
   "cell_type": "markdown",
   "metadata": {},
   "source": [
    "````{admonition} Observación\n",
    "- La función de pérdida $\\epsilon$-insensible se utiliza en escenarios donde ***queremos que nuestro modelo tolere errores hasta cierto punto***. La pérdida $\\epsilon$-insensible permite que el modelo sea ***menos sensible a valores atípicos o puntos de datos ruidosos***\n",
    "- La función de pérdida $\\epsilon$-insensible proporciona una herramienta útil para ***construir modelos que sean robustos, flexibles y capaces de equilibrar la precisión con la generalización***, especialmente en ***situaciones donde los datos pueden contener ruido o valores atípicos***.\n",
    "````"
   ]
  },
  {
   "attachments": {},
   "cell_type": "markdown",
   "metadata": {},
   "source": [
    "## Regresión óptima lineal $\\varepsilon$-insensible"
   ]
  },
  {
   "attachments": {},
   "cell_type": "markdown",
   "metadata": {},
   "source": [
    "- Usaremos la ***función de pérdida lineal*** $\\varepsilon$-insensible {eq}`eq_lin_ins` para ***cuantificar el error de desajuste del modelo***. El valor de $\\epsilon$ *determina la cantidad de \"slack\" (grado de error) que se permite*.\n",
    "\n",
    "- Trataremos la tarea de regresión\n",
    "\n",
    "    $$\n",
    "    y=g(\\boldsymbol{x})+\\eta_{n},\n",
    "    $$\n",
    "\n",
    "    usando un model lineal de la forma:\n",
    "\n",
    "    $$\n",
    "    f(\\boldsymbol{x})=\\boldsymbol{\\theta}^{T}\\boldsymbol{x}+\\theta_{0}.\n",
    "    $$\n",
    "    \n",
    "    La solución más general en la que $f$ ***es una función en RKHS será obtenida vía kernel trick*** (producto interno reemplazado por ***evaluación de kernel***).\n",
    "\n",
    "- Introducimos ahora ***dos conjuntos de variables auxiliares***\n",
    "\n",
    "    $$\n",
    "    \\text{Si}~ y_{n}-\\boldsymbol{\\theta}^{T}\\boldsymbol{x}_{n}-\\theta_{0}\\geq\\varepsilon,~\\text{definimos}~\\tilde{\\xi}_{n}~\\text{tal que},\\quad y_{n}-\\boldsymbol{\\theta}^{T}\\boldsymbol{x}_{n}-\\theta_{0}\\leq\\varepsilon+\\tilde{\\xi}_{n}.\n",
    "    $$ (eq_restric_1)\n",
    "\n",
    "    Nótese que ***idealmente, deseamos seleccionar*** $\\boldsymbol{\\theta}, \\theta_{0}$ ***tales que*** $\\tilde{\\xi}_{n}=0$, dado que este valor entregaría la ***contribución del respectivo término en la función de pérdida igual a cero***, pues $\\mathcal{L}(y, f(\\boldsymbol{x}))=0$ si $|y-f(\\boldsymbol{x})|\\leq\\varepsilon$. Análogamente,\n",
    "\n",
    "    $$\n",
    "    \\text{Si}~ y_{n}-\\boldsymbol{\\theta}^{T}\\boldsymbol{x}_{n}-\\theta_{0}\\leq-\\varepsilon,~\\text{definimos}~\\xi_{n}~\\text{tal que},\\quad\\boldsymbol{\\theta}^{T}\\boldsymbol{x}_{n}+\\theta_{0}-y_{n}\\leq\\varepsilon+\\xi_{n}.\n",
    "    $$ (eq_restric_2)    "
   ]
  },
  {
   "attachments": {},
   "cell_type": "markdown",
   "metadata": {},
   "source": [
    "- Estamos ahora listos para formular la ***tarea de minimización para el correspondiente coste empírico***, regularizado por la norma de $\\boldsymbol{\\theta}$, el cual es ***proyectado en términos de las variables auxiliares*** como:\n",
    "\n",
    "$$\n",
    "\\begin{cases}\n",
    "\\text{minimizar} & J(\\boldsymbol{\\theta}, \\theta_{0}, \\xi, \\tilde{\\xi})=\\frac{1}{2}\\|\\boldsymbol{\\theta}\\|^{2}+C\\left(\\displaystyle{\\sum_{n=1}^{N}\\xi_{n}+\\sum_{n=1}^{N}\\tilde{\\xi}_{n}}\\right),\\\\[2mm]\n",
    "\\text{sujeto a} & y_{n}-\\boldsymbol{\\theta}^{T}\\boldsymbol{x}_{n}-\\theta_{0}\\leq\\varepsilon+\\tilde{\\xi}_{n},\\quad n=1,2,\\dots,N,\\\\[2mm]\n",
    " & \\boldsymbol{\\theta}^{T}\\boldsymbol{x}_{n}+\\theta_{0}-y_{n}\\leq\\varepsilon+\\xi_{n},\\quad n=1,2,\\dots,N,\\\\[2mm]\n",
    "&\\tilde{\\xi}_{n}\\geq0,\\quad\\tilde{\\xi}_{n}\\geq0,~ n=1,2,\\dots,N.\n",
    "\\end{cases}\n",
    "$$"
   ]
  },
  {
   "attachments": {},
   "cell_type": "markdown",
   "metadata": {},
   "source": [
    "- El término $\\frac{1}{2}\\|\\boldsymbol{\\theta}\\|^{2}$, surge de la necesidad de ***maximizar el margen asociado al hiperplano que separa dos clases*** (ver sección ***máquinas de vectores de soporte*** *Vapnik and Chervonenkis 1960s*).\n",
    "- Dicho margen: $2/\\|\\boldsymbol{\\theta}\\|$, el cual, en ***problemas de clasificación, se desea maximizar, es equivalente a minimizar la norma*** $\\frac{1}{2}\\|\\boldsymbol{\\theta}\\|^2$ para el caso de ***modelos regresivos***. El factor $\\frac{1}{2}$ es incluido de forma numéricamente conveniente, y no altera la solución. A este tipo de problemas se les denomina de ***programación cuadrática***."
   ]
  },
  {
   "cell_type": "markdown",
   "metadata": {},
   "source": [
    "````{admonition} ¿Por qué maximizar el margen?\n",
    ":class: tip, dropdown\n",
    "\n",
    "- Maximizar el margen permite ***lograr un buen rendimiento de generalización***. El ***margen representa el nivel de confianza del clasificador, y maximizarlo ayuda a minimizar el error de generalización***.\n",
    "\n",
    "- Maximizar el margen corresponde a ***minimizar la*** [Dimensión VC (Vapnik-Chervonenkis)](https://es.wikipedia.org/wiki/Dimensi%C3%B3n_VC), que es una ***medida de la capacidad o complejidad del modelo***. Al maximizar el margen, SVM busca ***encontrar el límite de decisión más simple que separa las clases de manera efectiva***, lo que conduce a una ***mejor generalización a datos no vistos***.\n",
    "\n",
    "- Maximizar el margen ayuda a ***crear un límite de decisión que es robusto al ruido y a los valores atípicos en los datos de entrenamiento***. Al enfocarse en los puntos de datos cerca del margen, ***SVM puede tolerar mejor el ruido y los valores atípicos, lo que lleva a un clasificador más confiable y preciso***.\n",
    "````"
   ]
  },
  {
   "cell_type": "markdown",
   "metadata": {},
   "source": [
    "```{figure} ./imgs/largest_margin.png\n",
    ":name: largest_margin_fig\n",
    ":align: center\n",
    ":scale: 60\n",
    "Dos ***líneas de separación***: una buena con un ***margen grande*** (derecha) y una línea de separación menos aceptable con un ***margen pequeño*** (izquierda).\n",
    "```"
   ]
  },
  {
   "attachments": {},
   "cell_type": "markdown",
   "metadata": {},
   "source": [
    "- Las variables auxiliares, $\\tilde{\\xi}_{n}$ y $\\xi_{n},~ n=1,2,\\dots,N$ que ***miden el exceso de error con respecto a*** $\\varepsilon$, son conocidas como ***variables de relajación***. Nótese que cualquier contribución de la función de coste, para un error obtenido con un valor absoluto menor o igual que $\\varepsilon$ es cero. La tarea de optimización previa, intenta ***estimar*** $\\boldsymbol{\\theta}, \\theta_{0}$ ***tal que valores de error mayores que*** $\\epsilon$ ***y menores que*** $-\\epsilon$ ***sean minimizados***.\n",
    "\n",
    "- Por lo tanto, la tarea de optimización es equivalente a ***minimizar la función de pérdida empírica***\n",
    "\n",
    "    $$\n",
    "    \\frac{1}{2}\\|\\boldsymbol{\\theta}\\|^{2}+C\\sum_{n=1}^{N}\\mathcal{L}(y_{n}, \\boldsymbol{\\theta}^{T}\\boldsymbol{x}_{n}+\\theta_{0}),\n",
    "    $$\n",
    "\n",
    "    donde la función de pérdida $\\mathcal{L}$ es $\\varepsilon$-insensible.\n",
    "\n",
    "- Nótese que debido a que el problema de optimización con restricción ***involucra las variables de relajación*** con valores históricos, empleamos el ***kernel trick***."
   ]
  },
  {
   "attachments": {},
   "cell_type": "markdown",
   "metadata": {},
   "source": [
    "**`Solución`**"
   ]
  },
  {
   "attachments": {},
   "cell_type": "markdown",
   "metadata": {},
   "source": [
    "- La solución de la tarea de optimización es obtenida introduciendo los ***multiplicadores de Lagrange*** y formando el correspondiente ***Lagrangiano***. ***Habiendo obtenido los multiplicadores, la solución estaría dada por***\n",
    "\n",
    "    $$\n",
    "    \\hat{\\boldsymbol{\\theta}}=\\sum_{n=1}^{N}(\\tilde{\\lambda}_{n}-\\lambda_{n})\\boldsymbol{x}_{n},\n",
    "    $$\n",
    "\n",
    "    donde $\\tilde{\\lambda}_{n},\\lambda_{n},~ n=1,2,\\dots,N$, son los ***multiplicadores asociados con cada una de las restricciones***."
   ]
  },
  {
   "cell_type": "markdown",
   "metadata": {},
   "source": [
    "- Los ***multiplicadores de Lagrange son distintos de cero, solo para puntos*** $\\boldsymbol{x}_{n}$, que corresponden a ***valores de error ya sean iguales o mayores que*** $\\varepsilon$. Estos son conocidos como ***vectores de soporte***.\n",
    "\n",
    "- Puntos para los que el valor del ***puntaje de error es menor que*** $\\varepsilon$, ***corresponden a multiplicadores de Lagrange ceros*** y por lo tanto ***no son vectores de soporte y no participan en la construcción de la función de decisión***"
   ]
  },
  {
   "cell_type": "markdown",
   "metadata": {},
   "source": [
    "```{figure} ./imgs/epsilon_tube.png\n",
    ":name: epsilon_tube_fig\n",
    ":align: center\n",
    ":scale: 70\n",
    "\n",
    "Parámetros utilizados en la ***regresión de vectores de soporte (unidimensional)***. Cuadrados rellenos son vectores de soporte, y los vacíos no lo son. Por lo tanto, los ***SV sólo pueden aparecer en el límite del tubo o fuera del tubo***\n",
    "```"
   ]
  },
  {
   "cell_type": "markdown",
   "metadata": {},
   "source": [
    "- El término de sesgo $\\hat{\\theta}_{0}$ ***puede ser obtenido a partir de las ecuaciones***\n",
    "\n",
    "    $$\n",
    "    \\begin{align}\n",
    "    y_{n}-\\boldsymbol{\\theta}^{T}\\boldsymbol{x}_{n}-\\theta_{0}&=\\varepsilon,\\\\[2mm]\n",
    "    \\boldsymbol{\\theta}^{T}\\boldsymbol{x}_{n}+\\theta_{0}-y_{n}&=\\varepsilon,\n",
    "    \\end{align} \n",
    "    $$ (eq_sistem_bias)\n",
    "\n",
    "    donde $n$ recorre todos los puntos que forman un ***subconjunto de vectores de soporte***, esto es, puntos asociados con:\n",
    "\n",
    "    $$\n",
    "    \\tilde{\\lambda}_{n}>0,~(\\lambda_{n}>0)\\quad\\text{y}\\quad\\tilde{\\xi}_{n}=0,~(\\xi_{n}=0).\n",
    "    $$\n",
    "\n",
    "    En la práctica, $\\hat{\\theta}_{0}$ ***es obtenido a partir del promedio de todas las ecuaciones en*** {eq}`eq_sistem_bias`."
   ]
  },
  {
   "attachments": {},
   "cell_type": "markdown",
   "metadata": {},
   "source": [
    "- Una vez $\\hat{\\boldsymbol{\\theta}}, \\hat{\\theta}_{0}$ han sido obtenidos, estamos listos para ***realizar predicciones***. Dado un valor $\\boldsymbol{x}$, primero desarrollamos el ***mapeo (implícito) usando el mapeo de características*** $\\boldsymbol{x}\\longmapsto\\kappa(\\cdot, \\boldsymbol{x})$ obtenemos\n",
    "\n",
    "    $$\n",
    "    \\hat{y}(\\boldsymbol{x})=\\langle\\hat{\\boldsymbol{\\theta}}, \\kappa(\\cdot, \\boldsymbol{x})\\rangle+\\hat{\\theta}_{0},\n",
    "    $$\n",
    "\n",
    "    o bien,\n",
    "\n",
    "    $$\n",
    "    \\hat{y}(\\boldsymbol{x})=\\sum_{n=1}^{N_{s}}(\\tilde{\\lambda}_{n}-\\tilde{\\lambda}_{n})\\kappa(\\boldsymbol{x}, \\boldsymbol{x}_{n})+\\hat{\\theta}_{0},\\quad\\text{Predicción SVR},\n",
    "    $$\n",
    "\n",
    "    donde $N_{s}\\leq N$, es el ***número de multiplicadores de Lagrange distintos de cero***. Nótese que esta última es una expansión en términos de funciones kernel no lineales."
   ]
  },
  {
   "attachments": {},
   "cell_type": "markdown",
   "metadata": {},
   "source": [
    "**`Solución de la tarea de optimización`**"
   ]
  },
  {
   "attachments": {},
   "cell_type": "markdown",
   "metadata": {},
   "source": [
    "- La tarea de ***optimización con desigualdades de restricción***, satisface las ***condiciones de Karush–Kuhn–Tucker (KKT)***\n",
    "\n",
    "    $$\n",
    "    \\begin{align*}\n",
    "    &\\frac{\\partial L}{\\partial\\boldsymbol{\\theta}}=\\boldsymbol{0},~\\frac{\\partial L}{\\partial\\theta_{0}}=0,~\\frac{\\partial L}{\\partial\\tilde{\\xi}_{n}}=0,~\\frac{\\partial L}{\\partial\\xi_{n}}=0,\\\\[2mm]\n",
    "    &\\tilde{\\lambda}_{n}(y_{n}-\\boldsymbol{\\theta}^{T}\\boldsymbol{x}_{n}-\\theta_{0}-\\varepsilon-\\tilde{\\xi}_{n})=0,\\quad n=1,2,\\dots,N,\\\\[2mm]\n",
    "    &\\lambda_{n}(\\boldsymbol{\\theta}^{T}\\boldsymbol{x}_{n}+\\theta_{0}-y_{n}-\\varepsilon-\\xi_{n})=0,\\quad n=1,2,\\dots,N,\\\\[2mm]\n",
    "    &\\tilde{\\mu}_{n}\\tilde{\\xi}_{n}=0,\\quad n=1,2,\\dots,N,\\\\[2mm]\n",
    "    &\\mu_{n}\\xi_{n}=0,\\quad n=1,2,\\dots,N,\\\\[2mm]\n",
    "    &\\tilde{\\lambda}_{n}\\geq0,~\\lambda_{n}\\geq0,~\\tilde{\\mu}_{n}\\geq0,~\\mu_{n}\\geq0,\\quad n=1,2,\\dots,N,\n",
    "    \\end{align*}\n",
    "    $$\n",
    "    \n",
    "    con respecto al ***Lagrangiano***\n",
    "\n",
    "    $$\n",
    "    \\begin{align*}\n",
    "    L(\\boldsymbol{\\theta}, \\theta_{0}, \\tilde{\\xi}, \\xi, \\lambda, \\mu)&=\\frac{1}{2}\\|\\boldsymbol{\\theta}\\|^{2}+C\\left(\\sum_{n=1}^{N}{\\xi}_{n}+\\sum_{n=1}^{N}\\tilde{\\xi}_{n}\\right)\\\\\n",
    "    &+\\sum_{n=1}^{N}\\tilde{\\lambda}_{n}(y_{n}-\\boldsymbol{\\theta}^{T}\\boldsymbol{x}_{n}-\\theta_{0}-\\varepsilon-\\tilde{\\xi}_{n})\\\\\n",
    "    &+\\sum_{n=1}^{N}\\lambda_{n}(\\boldsymbol{\\theta}^{T}\\boldsymbol{x}_{n}+\\theta_{0}-y_{n}-\\varepsilon-\\xi_{n})\\\\\n",
    "    &-\\sum_{n=1}^{N}\\tilde{\\mu}_{n}\\tilde{\\xi}_{n}-\\sum_{n=1}^{N}\\mu_{n}\\xi_{n},\n",
    "    \\end{align*}\n",
    "    $$ (eq_lagrangiano_general)\n",
    "\n",
    "    donde $\\tilde{\\lambda}_{n},~\\lambda_{n},~\\tilde{\\mu}_{n},~\\mu_{n}$ son los ***multiplicadores de Lagrange***."
   ]
  },
  {
   "attachments": {},
   "cell_type": "markdown",
   "metadata": {},
   "source": [
    "- ***Sumando las restricciones*** (multiplicando cada restricción por $\\tilde{\\lambda}_{n},\\lambda_{n}, \\tilde{\\xi}_{n}, \\xi_{n}$), se tiene que:\n",
    "\n",
    "    $$\n",
    "    \\tilde{\\lambda}_{n}\\lambda_{n}((y_{n}-\\boldsymbol{\\theta}^{T}\\boldsymbol{x}_{n}-\\theta_{0}-\\varepsilon)(\\xi_{n}-\\tilde{\\xi}_{n})-2\\tilde{\\xi}_{n}\\xi_{n})=0,\n",
    "    $$\n",
    "\n",
    "    dado que los ***multiplicadores de Lagrange que participan en la solución*** $\\hat{\\theta}$ son aquellos ***distintos de cero***, para puntos $\\boldsymbol{x}_{n}$ correspondientes a valores de ***errores que sean mayores o iguales que*** $\\varepsilon$, esto es, por ejemplo $(y_{n}-\\boldsymbol{\\theta}^{T}\\boldsymbol{x}_{n}-\\theta_{0})\\geq\\varepsilon,~\\lambda_{n}\\neq0$.\n",
    "\n",
    "    Si $y_{n}-\\boldsymbol{\\theta}^{T}\\boldsymbol{x}_{n}-\\theta_{0}=\\varepsilon$ (similar para $\\boldsymbol{\\theta}^{T}\\boldsymbol{x}_{n}+\\theta_{0}-y_{n}=\\varepsilon$), entonces\n",
    "\n",
    "    $$\n",
    "    (i)~\\tilde{\\lambda}_{n}\\lambda_{n}=0\\quad\\text{o}\\quad(ii)~(y_{n}-\\boldsymbol{\\theta}^{T}\\boldsymbol{x}_{n}-\\theta_{0}-\\varepsilon)(\\xi_{n}-\\tilde{\\xi}_{n})-2\\tilde{\\xi}_{n}\\xi_{n}=0\n",
    "    $$\n",
    "\n",
    "    Si $y_{n}-\\boldsymbol{\\theta}^{T}\\boldsymbol{x}_{n}-\\theta_{0}>\\varepsilon$ (similar para $y_{n}-\\boldsymbol{\\theta}^{T}\\boldsymbol{x}_{n}-\\theta_{0}<-\\varepsilon$), entonces $(i)~\\tilde{\\lambda}_{n}\\lambda_{n}=0$. Además, ***basados en la tarea de optimización***, seleccionando $\\boldsymbol{\\theta}^{T}, \\theta_{0}$ tales que $y_{n}-\\boldsymbol{\\theta}^{T}\\boldsymbol{x}_{n}-\\theta_{0}-\\varepsilon\\rightarrow0$ se tiene que \n",
    "\n",
    "    $$\n",
    "    (ii)~(y_{n}-\\boldsymbol{\\theta}^{T}\\boldsymbol{x}_{n}-\\theta_{0}-\\varepsilon)(\\xi_{n}-\\tilde{\\xi}_{n})-2\\tilde{\\xi}_{n}\\xi_{n}=0\\Rightarrow\\tilde{\\xi}_{n}\\xi_{n}=0.\n",
    "    $$"
   ]
  },
  {
   "cell_type": "markdown",
   "metadata": {},
   "source": [
    "- Esto es\n",
    "\n",
    "$$\n",
    "\\tilde{\\xi}_{n}\\xi_{n}=0,~\\tilde{\\lambda}_{n}\\lambda_{n}=0,~n=1,2,\\dots,N.\n",
    "$$(xin_xintilde_product)"
   ]
  },
  {
   "attachments": {},
   "cell_type": "markdown",
   "metadata": {},
   "source": [
    "- ***Derivando el Lagrangiano*** {eq}`eq_lagrangiano_general` tenemos los resultados"
   ]
  },
  {
   "attachments": {},
   "cell_type": "markdown",
   "metadata": {},
   "source": [
    "$$\n",
    "\\begin{align*}\n",
    "\\frac{\\partial L}{\\partial\\boldsymbol{\\theta}}&=\\boldsymbol{0}\\Leftrightarrow\\hat{\\boldsymbol{\\theta}}=\\sum_{n=1}^{N}(\\tilde{\\lambda}_{n}-\\lambda_{n})\\boldsymbol{x}_{n};\\quad\\frac{\\partial}{\\partial\\boldsymbol{\\theta}}(\\frac{1}{2}\\|\\boldsymbol{\\theta}\\|^{2})=\\boldsymbol{\\theta},~\\frac{\\partial}{\\partial\\boldsymbol{\\theta}}(\\boldsymbol{\\theta}^{T}\\boldsymbol{x}_{n})=\\boldsymbol{x}_{n}\\\\\n",
    "\\frac{\\partial L}{\\partial\\theta_{0}}&=0\\Leftrightarrow\\sum_{n=1}^{N}\\tilde{\\lambda}_{n}=\\sum_{n=1}^{N}\\lambda_{n};\\quad\\frac{\\partial}{\\partial\\theta_{0}}(\\theta_{0})=1,\\\\\n",
    "\\frac{\\partial L}{\\partial\\tilde{\\xi}_{n}}&=0\\Leftrightarrow C-\\tilde{\\lambda}_{n}-\\tilde{\\mu}_{n}=0;\\quad\n",
    "\\frac{\\partial}{\\partial\\tilde{\\xi}_{n}}\\left(\\sum_{n=1}^{N}\\tilde{\\xi}_{n}\\right)=1\\\\\n",
    "\\frac{\\partial L}{\\partial\\xi_{n}}&=0\\Leftrightarrow C-\\lambda_{n}-\\mu_{n}=0.\n",
    "\\end{align*}\n",
    "$$"
   ]
  },
  {
   "attachments": {},
   "cell_type": "markdown",
   "metadata": {},
   "source": [
    "- Para proceder a ***calcular los multiplicadores asociados a la tarea de optimización***, consideraremos la ***`Representación dual de Walfe`***. En esta representación es considerado el ***término de sesgo*** $\\theta_{0}=0$. Además, ***consideraremos solo el uso de vectores de soportes***, esto es valores asociados a $\\boldsymbol{\\xi}_{n}=\\tilde{\\boldsymbol{\\xi}}_{n}=0$, para proceder con la ***representación dual respectiva***. Esta representación es obtenida a partir del Lagrangiano $L(\\boldsymbol{\\theta}, \\theta_{0}, \\tilde{\\xi}, \\xi, \\lambda, \\mu)$."
   ]
  },
  {
   "attachments": {},
   "cell_type": "markdown",
   "metadata": {},
   "source": [
    "````{prf:property} Representación dual de Walfe\n",
    ":label: walfe_prop\n",
    "\n",
    "- Un ***problema de programación convexa*** es equivalente a \n",
    "\n",
    "    $$\n",
    "    \\max_{\\lambda\\geq0}&\\quad L(\\boldsymbol{\\theta}, \\boldsymbol{\\lambda}),\\\\\n",
    "    \\text{sujeto a}&\\quad\\frac{\\partial}{\\partial\\boldsymbol{\\theta}}L(\\boldsymbol{\\theta},\\boldsymbol{\\lambda})=\\boldsymbol{0}.\n",
    "    $$\n",
    "\n",
    "    La última ecuación garantiza que $\\boldsymbol{\\theta}$ es un ***mínimo del Lagrangiano***.\n",
    "\n",
    "- Considere el siguiente ***problema cuadrático***:\n",
    "\n",
    "    $$\n",
    "    \\begin{align*}\n",
    "    \\text{minimizar:}&\\quad\\frac{1}{2}\\boldsymbol{\\theta}^{T}\\boldsymbol{\\theta},\\\\\n",
    "    \\text{sujeto a:}&\\quad A\\boldsymbol{\\theta}\\geq b.\n",
    "    \\end{align*}\n",
    "    $$\n",
    "\n",
    "    el cual admite la siguiente ***representación de Wolfe***\n",
    "\n",
    "    $$\n",
    "    \\begin{align*}\n",
    "    \\text{minimizar:}&\\quad\\frac{1}{2}\\boldsymbol{\\theta}^{T}\\boldsymbol{\\theta}-\\lambda^{T}(A\\boldsymbol{\\theta}-\\boldsymbol{b}),\\\\\n",
    "    \\text{sujeto a:}&\\quad\\theta-A^{T}\\lambda=0.\n",
    "    \\end{align*}\n",
    "    $$\n",
    "\n",
    "- ***Solucionando la tarea de optimización de Wolfe*** con respecto a $\\boldsymbol{\\theta}$, podemos ***escribir el problema dual involucrando solo multiplicadores de Lagrange***. De esta forma obtenemos otro problema cuadrático, pero más simple\n",
    "\n",
    "    $$\n",
    "    \n",
    "    \\begin{align*}\n",
    "    \\max_{\\lambda}&\\left\\{\\displaystyle{-\\frac{1}{2}\\boldsymbol{\\lambda}^{T}AA^{T}\\boldsymbol{\\lambda}+\\boldsymbol{\\lambda}^{T}\\boldsymbol{b}}\\right\\}\\\\\n",
    "    \\text{sujeto a:}&\\quad\\lambda\\geq0.\n",
    "    \\end{align*}\n",
    "    $$\n",
    "\n",
    "````"
   ]
  },
  {
   "attachments": {},
   "cell_type": "markdown",
   "metadata": {},
   "source": [
    "- Nótese en la propiedad anterior que, $\\partial_{\\boldsymbol{\\theta}}(\\frac{1}{2}\\boldsymbol{\\theta}^{T}\\boldsymbol{\\theta}-\\lambda^{T}(A\\boldsymbol{\\theta}-\\boldsymbol{b}))=\\boldsymbol{\\theta}-A^{T}\\lambda$. Consideremos ahora la ***representación dual de Wolfe*** asociada a la tarea de optimización {eq}`eq_lagrangiano_general`. ***Con este fin, consideremos*** $A\\boldsymbol{\\theta}=\\boldsymbol{\\theta}\\boldsymbol{x_{n}}+\\theta_{0}$ y $b=y_{n}-\\varepsilon$, con $\\tilde{\\xi}_{n}, \\xi_{n}=0$, con base en el estimador obtenido para $\\hat{\\boldsymbol{\\theta}}$, ***la tarea de optimización se convierte en la siguiente representación dual de Walfe***"
   ]
  },
  {
   "attachments": {},
   "cell_type": "markdown",
   "metadata": {},
   "source": [
    "$$\n",
    "\\begin{align*}\n",
    "\\text{minimizar respecto a}~\\lambda,\\tilde{\\lambda}:&\\quad-\\frac{1}{2}\\sum_{n=1}^{N}\\sum_{m=1}^{N}(\\tilde{\\lambda}_{n}-\\lambda_{n})(\\tilde{\\lambda}_{m}-\\lambda_{m})\\boldsymbol{x}_{n}^{T}\\boldsymbol{x}_{m}\\\\\n",
    "&\\quad+\\sum_{n=1}^{N}(\\tilde{\\lambda}_{n}-\\lambda_{n})y_{n}-\\varepsilon(\\tilde{\\lambda}_{n}+\\lambda_{n})\\\\\n",
    "\\text{sujeto a:}&\\quad 0\\leq\\tilde{\\lambda}_{n}\\leq C\\quad\\text{y}\\quad 0\\leq\\lambda_{n}\\leq C,\\quad n=1,2,\\dots,N.\\\\\n",
    "&\\quad~\\sum_{n=1}^{N}\\tilde{\\lambda}_{n}=\\sum_{n=1}^{N}\\lambda_{n}.\n",
    "\\end{align*}\n",
    "$$(optimization_task_innerprod)"
   ]
  },
  {
   "cell_type": "markdown",
   "metadata": {},
   "source": [
    "- El primer producto interior es reemplazado por $\\kappa(\\boldsymbol{x}_{n}, \\boldsymbol{x}_{m})$ vía ***kernel trick***. Nótese que la ***primera restricción proviene de la igualdad*** $C-\\tilde{\\lambda}-\\tilde{\\mu}_{n}=0$, con la cual se tiene que\n",
    "\n",
    "    $$\n",
    "    0\\leq\\tilde{\\lambda}_{n}\\leq\\tilde{\\lambda}_{n}+\\tilde{\\mu}_{n}\\leq C\\Rightarrow 0\\leq\\tilde{\\lambda}_{n}\\leq C,\n",
    "    $$\n",
    "\n",
    "    análogamente, $0\\leq\\lambda_{n}\\leq C,\\quad n=1,2,\\dots,N.$"
   ]
  },
  {
   "attachments": {},
   "cell_type": "markdown",
   "metadata": {},
   "source": [
    "- El ***primer término proviene la siguiente igualdad obtenida a partir del Lagrangiano***, el ***segundo resulta de factorizar*** los términos que incluyen los autovalores, con $\\xi_{n}=\\tilde{\\xi}_{n}=0$ (`verifíquelo`) (***vectores de soporte***) \n",
    "\n",
    "$$\n",
    "\\|\\boldsymbol{\\theta}\\|^{2}=\\sum_{n=1}^{N}\\sum_{m=1}^{N}(\\tilde{\\lambda}_{n}-\\lambda_{n})(\\tilde{\\lambda}_{m}-\\lambda_{m})\\boldsymbol{x}_{n}^{T}\\boldsymbol{x}_{m}\n",
    "$$"
   ]
  },
  {
   "cell_type": "markdown",
   "metadata": {},
   "source": [
    "````{admonition} Observación\n",
    "\n",
    "- La belleza de la forma de ***representación dual*** radica en que ***involucra los vectores de observación en forma de operaciones de producto interno***. Así, cuando se resuelve la tarea en un `RKHS`, {eq}`optimization_task_innerprod` se convierte en\n",
    "\n",
    "$$\n",
    "\\begin{align*}\n",
    "\\text{minimizar respecto a}~\\lambda,\\tilde{\\lambda}:&\\quad-\\frac{1}{2}\\sum_{n=1}^{N}\\sum_{m=1}^{N}(\\tilde{\\lambda}_{n}-\\lambda_{n})(\\tilde{\\lambda}_{m}-\\lambda_{m})\\kappa(\\boldsymbol{x}_{n}^{T}\\boldsymbol{x}_{m})\\\\\n",
    "&\\quad+\\sum_{n=1}^{N}(\\tilde{\\lambda}_{n}-\\lambda_{n})y_{n}-\\varepsilon(\\tilde{\\lambda}_{n}+\\lambda_{n})\n",
    "\\end{align*}\n",
    "$$\n",
    "\n",
    "- Las condiciones `KKT` transmiten información importante. Los ***multiplicadores de Lagrange***, $\\tilde{\\lambda}_{n},\\lambda_{n}$, para puntos que obtienen un error menor que $\\varepsilon$, es decir,\n",
    "\n",
    "$$\n",
    "|\\boldsymbol{\\theta}^{T}\\boldsymbol{x}_{n}+\\theta_{0}-y_{n}|<\\varepsilon,~\\text{son cero}.\n",
    "$$\n",
    "\n",
    "- Por lo tanto, los ***multiplicadores de Lagrange son distintos de cero solo para puntos que obtienen un error igual a*** $\\varepsilon~(\\tilde{\\xi}_{n}, \\xi_{n} = 0)$ o valores más grandes ($\\tilde{\\xi}_{n}, \\xi_{n}>0$) (***vectores de soporte***).\n",
    "\n",
    "- Debido a {eq}`xin_xintilde_product`, ya sea $\\tilde{\\xi}_{n}$ o $\\xi_{n}$ ***pueden ser distintos de cero, pero no ambos***. Esto también se aplica a los multiplicadores de Lagrange correspondientes.\n",
    "````"
   ]
  },
  {
   "cell_type": "code",
   "execution_count": null,
   "metadata": {},
   "outputs": [],
   "source": []
  },
  {
   "cell_type": "code",
   "execution_count": null,
   "metadata": {},
   "outputs": [],
   "source": []
  },
  {
   "cell_type": "code",
   "execution_count": null,
   "metadata": {},
   "outputs": [],
   "source": []
  },
  {
   "cell_type": "code",
   "execution_count": null,
   "metadata": {},
   "outputs": [],
   "source": []
  },
  {
   "attachments": {},
   "cell_type": "markdown",
   "metadata": {},
   "source": [
    "## Regresión Kernel Ridge"
   ]
  },
  {
   "attachments": {},
   "cell_type": "markdown",
   "metadata": {},
   "source": [
    "- En esta sección abordaremos la ***regresión kernel ridge vía su representación dual***. La regresión ridge en su ***representación primal*** puede ser proyectada como:\n",
    "\n",
    "    $$\n",
    "    \\begin{align*}\n",
    "    \\text{minimizar con respecto a}\\quad\\boldsymbol{\\theta}, \\boldsymbol{\\xi}:&\\quad J(\\boldsymbol{\\theta}, \\boldsymbol{\\xi})=\\sum_{n=1}^{N}\\xi_{n}^{2}+C\\|\\boldsymbol{\\theta}\\|^{2}\\\\\n",
    "    \\text{sujeto a}:&\\quad y_{n}-\\boldsymbol{\\theta}^{T}\\boldsymbol{x}_{n}=\\boldsymbol{\\xi}_{n},\\quad n=1,2,\\dots,N,\n",
    "    \\end{align*}\n",
    "    $$(eq_kernel_ridge_reg)\n",
    "\n",
    "    con el siguiente ***Lagrangiano***\n",
    "\n",
    "    $$\n",
    "    L(\\boldsymbol{\\theta}, \\boldsymbol{\\xi}, \\lambda)=\\sum_{n=1}^{N}\\xi_{n}^{2}+C\\|\\boldsymbol{\\theta}\\|^{2}+\\sum_{n=1}^{N}\\lambda_{n}(y_{n}-\\boldsymbol{\\theta}^{T}\\boldsymbol{x}_{n}-\\xi_{n}),\\quad n=1,2,\\dots,N.\n",
    "    $$"
   ]
  },
  {
   "attachments": {},
   "cell_type": "markdown",
   "metadata": {},
   "source": [
    "- Calculando las ***derivadas parciales*** $\\partial_{\\boldsymbol{\\theta},\\xi_{n}}=0,\\, n=1,2,\\dots,N$ se tiene que\n",
    "\n",
    "$$\n",
    "\\begin{align*}\n",
    "\\frac{\\partial L}{\\partial\\boldsymbol{\\theta}}&=0\\Leftrightarrow 2C\\boldsymbol{\\theta}-\\sum_{n=1}^{N}\\lambda_{n}\\boldsymbol{x}_{n}=0\\Leftrightarrow\\boldsymbol{\\hat{\\theta}}=\\frac{1}{2C}\\sum_{n=1}^{N}\\lambda_{n}\\boldsymbol{x}_{n}\\\\\n",
    "\\frac{\\partial L}{\\partial\\xi_{n}}&=0\\Leftrightarrow 2\\xi_{n}-\\lambda_{n}=0\\Leftrightarrow\\xi_{n}=\\frac{\\lambda_{n}}{2},\\quad n=1,2,\\dots,N.\n",
    "\\end{align*}\n",
    "$$"
   ]
  },
  {
   "attachments": {},
   "cell_type": "markdown",
   "metadata": {},
   "source": [
    "- Para obtener los multiplicadores de Lagrange, consideramos la siguiente ***formulación dual, obtenida al reemplazar los estimadores*** $\\hat{\\boldsymbol{\\theta}}$ y $\\xi_{n}$ en la tarea de optimización {eq}`eq_kernel_ridge_reg`\n",
    "\n",
    "$$\n",
    "\\begin{align*}\n",
    "\\sum_{n=1}^{N}\\xi_{n}^{2}+C\\|\\boldsymbol{\\theta}\\|^{2}&+\\sum_{n=1}^{N}\\lambda_{n}(y_{n}-\\boldsymbol{\\theta}^{T}\\boldsymbol{x}_{n}-\\xi_{n})\\\\\n",
    "&=\\frac{1}{4}\\sum_{n=1}^{N}\\lambda_{n}^{2}+C\\frac{1}{4C^{2}}\\sum_{n=1}^{N}\\sum_{m=1}^{N}\\lambda_{n}\\lambda_{m}\\kappa(\\boldsymbol{x}_{n}, \\boldsymbol{x}_{m})+\\sum_{n=1}^{N}\\lambda_{n}y_{n}\\\\\n",
    "&-\\frac{1}{2C}\\sum_{n=1}^{N}\\lambda_{n}\\lambda_{m}\\kappa(\\boldsymbol{x}_{n}, \\boldsymbol{x}_{m})-\\frac{1}{2}\\sum_{n=1}^{N}\\lambda_{n}^{2}\\\\\n",
    "&=\\sum_{n=1}^{N}\\lambda_{n}y_{n}-\\frac{1}{4C}\\sum_{n=1}^{N}\\sum_{m=1}^{N}\\lambda_{n}\\lambda_{m}\\kappa(\\boldsymbol{x}_{n}, \\boldsymbol{x}_{m})-\\frac{1}{4}\\sum_{n=1}^{N}\\lambda_{n}^{2}\n",
    "\\end{align*}\n",
    "$$\n"
   ]
  },
  {
   "attachments": {},
   "cell_type": "markdown",
   "metadata": {},
   "source": [
    "- La ***representación dual*** entrega la siguiente ***formulación***\n",
    "\n",
    "    $$\n",
    "    \\text{minimizar respecto a}~\\lambda:\\quad\\sum_{n=1}^{N}\\lambda_{n}y_{n}-\\frac{1}{4C}\\sum_{n=1}^{N}\\sum_{m=1}^{N}\\lambda_{n}\\lambda_{m}\\kappa(\\boldsymbol{x}_{n}, \\boldsymbol{x}_{m})-\\frac{1}{4}\\sum_{n=1}^{N}\\lambda_{n}^{2},\n",
    "    $$\n",
    "\n",
    "    aquí $\\boldsymbol{x}_{n}^{T}\\boldsymbol{x}_{m}$ fue reemplazado por $\\kappa(\\boldsymbol{x}_{n}, \\boldsymbol{x}_{m})$, de acuerdo al kernel trick."
   ]
  },
  {
   "attachments": {},
   "cell_type": "markdown",
   "metadata": {},
   "source": [
    "- ***Diferenciando con respecto a*** $\\lambda$ obtenemos:\n",
    "\n",
    "$$\n",
    "\\begin{align*}\n",
    "\\boldsymbol{y}-\\frac{1}{2C}K\\boldsymbol{\\lambda}-\\frac{1}{2}\\boldsymbol{\\lambda}=0&\\Rightarrow\\left(\\frac{1}{2C}K+\\frac{1}{2}I\\right)\\boldsymbol{\\lambda}=\\boldsymbol{y}\\\\\n",
    "&\\Rightarrow(K+CI)\\boldsymbol{\\lambda}=2C\\boldsymbol{y}\\\\[2mm]\n",
    "&\\Rightarrow\\boldsymbol{\\lambda}=2C(K+CI)^{-1}\\boldsymbol{y}.\n",
    "\\end{align*}\n",
    "$$"
   ]
  },
  {
   "attachments": {},
   "cell_type": "markdown",
   "metadata": {},
   "source": [
    "- Dado que $\\displaystyle{\\boldsymbol{\\hat{\\theta}}=\\frac{1}{2C}\\sum_{n=1}^{N}\\lambda_{n}\\boldsymbol{x}_{n}}$, ***usando kernel trick*** se tiene que\n",
    "\n",
    "    $$\n",
    "    \\hat{y}(\\boldsymbol{x})=\\langle\\boldsymbol{\\hat{\\theta}}, \\kappa(\\cdot,\\boldsymbol{x})\\rangle=\\left\\langle\\frac{1}{2C}\\sum_{n=1}^{N}2C(\\kappa(\\cdot, \\boldsymbol{x}_{n})+C)^{-1}y_{n}, \\kappa(\\cdot, \\boldsymbol{x}_{n})\\right\\rangle=\\boldsymbol{y}^{T}(K+CI)^{-1}\\kappa(\\boldsymbol{x}).\n",
    "    $$\n",
    "\n",
    "    Nótese que en este caso no ***fue necesario el supuesto de invertibilidad*** para la matriz $K$."
   ]
  },
  {
   "attachments": {},
   "cell_type": "markdown",
   "metadata": {},
   "source": [
    "```{figure} ./imgs/nonlinear_reg_curve.png\n",
    ":name: nonlinear_reg_curve\n",
    ":align: center\n",
    "\n",
    "***Tubo alrededor de la curva de regresión no lineal***. Los puntos fuera del tubo (denotados por estrellas) tienen o bien $\\tilde{\\xi} > 0$ y\n",
    "$\\xi = 0$ o $\\xi > 0$ y $\\tilde{\\xi} = 0$. El resto de los puntos tienen $\\tilde{\\xi} = \\xi = 0$ (SV). Los ***puntos que están dentro del tubo corresponden a multiplicadores de Lagrange iguales a cero***.\n",
    "```"
   ]
  },
  {
   "attachments": {},
   "cell_type": "markdown",
   "metadata": {},
   "source": [
    "## Máquinas de vectores de soporte"
   ]
  },
  {
   "attachments": {},
   "cell_type": "markdown",
   "metadata": {},
   "source": [
    "- Antes de abordar el ***modelo de clasificación***, ***máquinas de vectores de soporte (SVM)*** revisemos la definición de un clasificador"
   ]
  },
  {
   "attachments": {},
   "cell_type": "markdown",
   "metadata": {},
   "source": [
    "```{prf:definition}\n",
    ":label: def_clasificador_general\n",
    "\n",
    "Un ***clasificador, es una función*** definida como\n",
    "\n",
    "$$\n",
    "\\omega(x):=\\text{argmax}_{\\omega}f_{\\omega}(x)\n",
    "$$\n",
    "\n",
    "donde para cada clase $\\omega$, se define su ***función discriminante*** $f_{\\omega}$. El ***grado de pertenencia del valor*** $x$ ***a la clase*** $\\omega$ es $f_{\\omega}(x)$. Ademas $\\omega(x)$ es la ***clase a la que el objeto*** $x$ ***pertenece en mayor grado***.\n",
    "```"
   ]
  },
  {
   "attachments": {},
   "cell_type": "markdown",
   "metadata": {},
   "source": [
    "- Cuando en un método de ***clasificación Bayesiana*** desconocemos estadísticos subyacentes, una alternativa es usar ***técnicas de aprendizaje discriminante***, y adoptar una función discriminante $f$, que ***efectúa la clasificación correspondiente y trata de optimizarla***, como se minimiza la función de pérdida empírica\n",
    "\n",
    "$$\n",
    "J(f)=\\sum_{n=1}^{N}\\mathcal{L}(y_{n}, f(\\boldsymbol{x}_{n})),\\quad\\text{donde}\\quad y_{n}=\n",
    "\\begin{cases}\n",
    "+1,& \\text{si}~\\boldsymbol{x}_{n}\\in\\omega_{1},\\\\\n",
    "-1,& \\text{si}~\\boldsymbol{x}_{n}\\in\\omega_{2}.\n",
    "\\end{cases}\n",
    "$$"
   ]
  },
  {
   "attachments": {},
   "cell_type": "markdown",
   "metadata": {},
   "source": [
    "- Para una tarea de ***clasificación binaria***, la función de pérdida $(0, 1)$, definida de la siguiente forma, puede ser utilizada en la tarea de optimización\n",
    "\n",
    "$$\n",
    "\\mathcal{L}(y, f(x))=\n",
    "\\begin{cases}\n",
    "1,& \\text{si}~ yf(x)\\leq0\\\\\n",
    "0,& \\text{otro caso}\n",
    "\\end{cases}\n",
    "$$\n",
    "\n",
    "- El principal problema de esta función de pérdida es que ***su optimización resulta ser una tarea compleja, debido a que es discontinua***. Se han utilizado alternativas para esta función de pérdida, con el fin de solventar este problema. En esta sección centraremos nuestra atención en la ***función de pérdida hinge*** definida como\n",
    "\n",
    "$$\n",
    "\\mathcal{L}(y, f(x))=\\max(0, \\rho-yf(x))\n",
    "$$ (eq_loss_hinge)\n",
    "\n",
    "- Esto es, si el ***signo del producto*** entre el label real $(y)$ y el predicho por la función discriminante $(f(x))$ es ***positivo y mayor que un umbral definido*** por el usuario, $\\rho\\geq0$, ***la función de pérdida es cero***. En caso contrario, la función de pérdida exhibe un crecimiento lineal."
   ]
  },
  {
   "attachments": {},
   "cell_type": "markdown",
   "metadata": {},
   "source": [
    "```{figure} ./imgs/hinge_lossfn.png\n",
    ":name: fig_hinge_lossfn\n",
    ":align: center\n",
    ":scale: 80\n",
    "\n",
    "Función de pérdida ***hinge***, para la tarea de clasificación, $\\tau = y\\boldsymbol{\\theta}^{T}\\boldsymbol{x}$.\n",
    "```"
   ]
  },
  {
   "attachments": {},
   "cell_type": "markdown",
   "metadata": {},
   "source": [
    "- Consideraremos en esta sección, la ***función discriminante en el espacio RKHS***\n",
    "\n",
    "    $$\n",
    "    f(\\boldsymbol{x})=\\theta_{0}+\\langle\\boldsymbol{\\theta}, \\phi(\\boldsymbol{x})\\rangle,\n",
    "    $$\n",
    "\n",
    "    donde $\\phi(\\boldsymbol{x})$ es el mapeo de características. ***Proyectamos la tarea de optimización como un problema lineal en el espacio de inputs***, $\\mathbb{R}^{l}$, y al final la información del kernel será implantada usando el ***kernel trick***.\n",
    "\n",
    "- La tarea de diseñar un clasificador lineal, ahora es ***equivalente a minimizar la función de costo***\n",
    "\n",
    "$$\n",
    "J(\\boldsymbol{\\theta}, \\theta_{0})=\\frac{1}{2}\\|\\boldsymbol{\\theta}\\|^{2}+C\\sum_{n=1}^{N}\\mathcal{L}_{p}(y_{n}, \\boldsymbol{\\theta}^{T}\\boldsymbol{x}_{n}+\\theta_{0})\n",
    "$$ (eq_cost_linear_class)\n",
    "\n",
    "- Alternativamente,  empleando ***variables de relajación (slack)*** y ***siguiendo un razonamiento similar a la regresión de vectores de soporte (SVR)***, minimizar {eq}`eq_cost_linear_class` es equivalente a:\n",
    "\n",
    "$$\n",
    "\\begin{align*}\n",
    "\\text{minimizar con respecto a}~\\boldsymbol{\\theta}, \\theta_{0}, \\boldsymbol{\\xi}:&\\quad J(\\boldsymbol{\\theta}, \\boldsymbol{\\xi})=\\frac{1}{2}\\|\\boldsymbol{\\theta}\\|^{2}+C\\sum_{n=1}^{N}\\boldsymbol{\\xi}_{n}\\\\\n",
    "\\text{sujeto a:}&\\quad y_{n}(\\boldsymbol{\\theta}^{T}\\boldsymbol{x}_{n}+\\theta_{0})\\geq\\rho-\\boldsymbol{\\xi}_{n},\\\\[2mm]\n",
    "&\\quad\\boldsymbol{\\xi}_{n}\\geq 0,\\quad n=1,2,\\dots,N.\n",
    "\\end{align*}\n",
    "$$"
   ]
  },
  {
   "attachments": {},
   "cell_type": "markdown",
   "metadata": {},
   "source": [
    "- La constante $C$ se encarga de ***maximizar el margen mientras que se evita el sobreajuste***. ***Adoptaremos de ahora en adelante*** $\\rho=1$ sin pérdida de generalidad. Nótese que $y_{n}(\\boldsymbol{\\theta}^{T}\\boldsymbol{x}_{n}+\\theta_{0})\\geq1$ si $\\xi_{n}=0$, en este caso el ***margen de error sería nulo***. Por otro lado, un ***margen de error es cometido si*** $y_{n}(\\boldsymbol{\\theta}^{T}\\boldsymbol{x}_{n}+\\theta_{0})\\leq 1$, correspondiente a $\\xi_{n}>0$. Por lo tanto, nuestro objetivo para la tarea de optimización es, encontrar $\\boldsymbol{\\theta}, \\theta_{0}, \\xi_{n}$ óptimos, tales que $\\xi_{n}$ ***sea tan pequeño como sea posible***."
   ]
  },
  {
   "attachments": {},
   "cell_type": "markdown",
   "metadata": {},
   "source": [
    "## Clases linealmente separables: Clasificador de máximo margen"
   ]
  },
  {
   "attachments": {},
   "cell_type": "markdown",
   "metadata": {},
   "source": [
    "- Asumiendo que las ***clases son linealmente separables***, hay un ***número infinito de clasificadores que solucionan la tarea exactamente***, sin error, en el conjunto de entrenamiento. Se puede ver que de estos infinitos hiperplanos que solucionan la tarea, podemos identificar un subconjunto tal que\n",
    "\n",
    "    $$\n",
    "    y_{n}(\\boldsymbol{\\theta}^{T}\\boldsymbol{x}_{n}+\\theta_{0})\\geq 1,\\quad n=1,2,\\dots,N,\n",
    "    $$\n",
    "\n",
    "    el cual ***garantiza que*** $\\xi_{n}=0,~n=1,2,\\dots,N$. Por lo tanto, para ***clases linealmente separables, la tarea de optimización previa es equivalente a***\n",
    "\n",
    "    $$\n",
    "    \\begin{align*}\n",
    "    \\text{minimizar con respecto a}~\\theta:&\\quad\\frac{1}{2}\\|\\boldsymbol{\\theta}\\|^{2}\\\\\n",
    "    \\text{sujeto a:}&\\quad y_{n}(\\boldsymbol{\\theta}^{T}\\boldsymbol{x}_{n}+\\theta_{0})\\geq 1,\\quad n=1,2,\\dots,N.\n",
    "    \\end{align*}\n",
    "    $$ (eq_opt_task_linear_class_sep)"
   ]
  },
  {
   "attachments": {},
   "cell_type": "markdown",
   "metadata": {},
   "source": [
    "- En otras palabras, de este conjunto infinito de clasificadores lineales (ver {numref}`inf_correct_classification`), los cuales ***solucionan la tarea de optimización***, y clasifican correctamente todos los patrones, ***se selecciona aquel que tiene mínima norma***.\n",
    "\n",
    "- Veremos mas adelante que, ***la norma*** $\\|\\boldsymbol{\\theta}\\|$ ***está directamente relacionada con el margen*** formado por el respectivo clasificador. Cada hiperplano en el espacio está descrito por la ecuación\n",
    "\n",
    "    $$\n",
    "    f(\\boldsymbol{x})=\\boldsymbol{\\theta}^{T}\\boldsymbol{x}+\\theta_{0}=0.\n",
    "    $$"
   ]
  },
  {
   "attachments": {},
   "cell_type": "markdown",
   "metadata": {},
   "source": [
    "```{figure} ./imgs/inf_correct_classification.png\n",
    ":name: inf_correct_classification\n",
    ":align: center\n",
    ":scale: 80\n",
    "\n",
    "Número infinito de clasificadores lineales que pueden clasificar correctamente todos los patrones de una clase linealmente separable.\n",
    "```"
   ]
  },
  {
   "attachments": {},
   "cell_type": "markdown",
   "metadata": {},
   "source": [
    "\n",
    "\n",
    "- De la ***geometría analítica*** sabemos que la ***dirección en espacio es controlada por*** $\\boldsymbol{\\theta}$ y su posición por $\\theta_{0}$. Además, de todos los hiperplanos que solucionan la tarea de optimización y tienen la misma dirección (i.e. comparten $\\boldsymbol{\\theta}$), seleccionamos $\\theta_{0}$ tal que, el ***hiperplano queda dentro de dos clases***, de modo que su ***distancia a los puntos más cercanos es siempre la misma*** para las dos clases."
   ]
  },
  {
   "attachments": {},
   "cell_type": "markdown",
   "metadata": {},
   "source": [
    "```{figure} ./imgs/svm_class_sep.png\n",
    ":name: fig_svm_class_sep\n",
    ":align: center\n",
    ":scale: 80\n",
    "\n",
    "Las líneas punteadas, $\\boldsymbol{\\theta}^{T}\\boldsymbol{x} + \\theta_{0} =±1$, que pasan por los puntos más cercanos, son paralelas al clasificador respectivo y definen el margen (ancho de banda) $2/\\|\\boldsymbol{\\theta}\\|$.\n",
    "```"
   ]
  },
  {
   "cell_type": "markdown",
   "metadata": {},
   "source": [
    "- De la ***geometría básica*** sabemos que la ***distancia de un punto*** $\\boldsymbol{x}$ ***al hiperplano*** está dada por\n",
    "\n",
    "    $$\n",
    "    z=\\frac{|\\boldsymbol{\\theta}^{T}\\boldsymbol{x}+\\theta_{0}|}{\\|\\boldsymbol{\\theta}\\|}\n",
    "    $$\n",
    "\n",
    "    la cual es claramente cero cuando $\\boldsymbol{x}$ está dentro del hiperplano $\\boldsymbol{\\theta}^{T}\\boldsymbol{x}+\\theta_{0}=0$. Donde los ***parámetros*** $\\boldsymbol{\\theta}$ ***y*** $\\theta_{0}$ ***pueden ser escalados apropiadamente***, por ejemplo, usando un factor, digamos, $a$, sin afectar la geometría del plano.\n",
    "- De esta forma, podemos hacer la distancia del punto más cercano, de los puntos más cercanos entre las dos clases al hiperplano, igual a $1/\\|\\boldsymbol{\\theta}\\|$, donde $|\\boldsymbol{\\theta}^{T}\\boldsymbol{x}+\\theta_{0}|=1$."
   ]
  },
  {
   "attachments": {},
   "cell_type": "markdown",
   "metadata": {},
   "source": [
    "- Equivalentemente, el ***escalamiento garantiza que***: $f(\\boldsymbol{x})=\\pm 1$, ***si*** $\\boldsymbol{x}$ ***es el punto más cercano al hiperplano***, y dependiendo de si el punto $x$ pertenece a $\\omega_{1} (+1)$ o $\\omega_{2} (-1)$. Los dos hiperplanos se pueden visualizar en la {numref}`fig_svm_class_sep` $(f(\\boldsymbol{x})=\\pm1)$. ***Estos dos hiperplanos definen el margen correspondiente de longitud*** $2/\\|\\boldsymbol{\\theta}\\|$ para cada iteración."
   ]
  },
  {
   "attachments": {},
   "cell_type": "markdown",
   "metadata": {},
   "source": [
    "- ***Cualquier clasificador construido de la forma anterior, soluciona la tarea de optimización***, y además satisface las siguientes propiedades:\n",
    "\n",
    "    - Tiene un margen de longitud igual a: $\\displaystyle{1/\\|\\boldsymbol{\\theta}\\|+1/\\|\\boldsymbol{\\theta}}\\|$\n",
    "    - Además:\n",
    "\n",
    "    $$\n",
    "    \\boldsymbol{\\theta}^{T}\\boldsymbol{x}_{n}+\\theta_{0}\\geq 1,~\\boldsymbol{x}_{n}\\in\\omega_{1}~\\text{y}~\\boldsymbol{\\theta}^{T}\\boldsymbol{x}_{n}+\\theta_{0}\\leq-1,~\\boldsymbol{x}_{n}\\in\\omega_{2}\n",
    "    $$\n",
    "\n",
    "    Por lo tanto la tarea de optimización {eq}`eq_opt_task_linear_class_sep` ***calcula el clasificador lineal que maximiza el margen sujeto a las respectivas restricciones***."
   ]
  },
  {
   "attachments": {},
   "cell_type": "markdown",
   "metadata": {},
   "source": [
    "**`Solución`**"
   ]
  },
  {
   "attachments": {},
   "cell_type": "markdown",
   "metadata": {},
   "source": [
    "- Siguiendo ***pasos similares a SVR***, la solución esta dada por, ***combinación lineal de un subconjunto de muestras de entrenamiento***, esto es:\n",
    "\n",
    "    $$\n",
    "    \\hat{\\boldsymbol{\\theta}}=\\sum_{n=1}^{N_{s}}\\lambda_{n}y_{n}\\boldsymbol{x}_{n},\n",
    "    $$\n",
    "\n",
    "    donde $N_{s}$ es el número de multiplicadores de Lagrange distintos de cero.\n",
    "\n",
    "- ***Multiplicadores de Lagrange asociados a los puntos más cercanos al clasificador, esto es, puntos que satisfacen la restricción con igualdad*** $(y_{n}(\\boldsymbol{\\theta}^{T}\\boldsymbol{x}_{n}+\\theta_{0})=1)$, ***son distintos de cero***. Estos son conocidos como ***vectores de soporte***. Multiplicadores de Lagrange correspondientes a puntos tales que $(y_{n}(\\boldsymbol{\\theta}^{T}\\boldsymbol{x}_{n}+\\theta_{0})>1)$, son iguales a cero."
   ]
  },
  {
   "attachments": {},
   "cell_type": "markdown",
   "metadata": {},
   "source": [
    "- Para el caso mas general, ***en el espacio RKHS***, tenemos que:\n",
    "\n",
    "    $$\n",
    "    \\hat{\\theta}(\\cdot)=\\sum_{n=1}^{N_{s}}\\lambda_{n}y_{n}\\kappa(\\cdot, \\boldsymbol{x}_{n}),\n",
    "    $$\n",
    "\n",
    "    estimación la cual entrega la siguiente regla de predicción. ***Dado un valor desconocido*** $\\boldsymbol{x}$, ***su clase es predicha de acuerdo al signo de***:\n",
    "\n",
    "    $$\n",
    "    \\hat{y}(\\boldsymbol{x})=\\sum_{n=1}^{N_{s}}\\lambda_{n}y_{n}\\kappa(\\boldsymbol{x}, \\boldsymbol{x}_{n})+\\hat{\\theta}_{0}:\\quad\\text{Predicción SVM},\n",
    "    $$\n",
    "\n",
    "    donde $\\hat{\\theta}_{0}$ ***es obtenido solucionando todas las restricciones con*** $\\lambda_{n}\\neq0$, correspondientes a:\n",
    "\n",
    "    $$\n",
    "    y_{n}(\\hat{\\boldsymbol{\\theta}}^{T}\\boldsymbol{x}_{n}+\\hat{\\theta}_{0})-1=0,\\quad n=1,2,\\dots,N_{s},\n",
    "    $$\n",
    "\n",
    "    la cual ***para el caso RKHS se convierte*** en:\n",
    "\n",
    "    $$\n",
    "    y_{n}\\left(\\sum_{m=1}^{N_{s}}\\lambda_{m}y_{m}\\kappa(\\boldsymbol{x}_{m}, \\boldsymbol{x}_{n})+\\hat{\\theta}_{0}\\right)-1=0,\\quad n=1,2,\\dots,N_{s},\n",
    "    $$ (mean_sol_fortheta0)\n",
    "\n",
    "    donde $\\hat{\\theta}_{0}$ ***es obtenido por medio del promedio entre las soluciones de*** {eq}`mean_sol_fortheta0`. Aunque la solución es única, los correspondientes multiplicadores $\\lambda_{m}$ pueden no ser únicos.\n",
    "\n",
    "- Finalmente ***el número de vectores de soporte está relacionado con la capacidad de generalización del clasificador***. Entre mas pequeño es el número de vectores de soporte, mejor será la generalización esperada (ver {cite}`佐土原健2001n, koutroumbas2008pattern`). "
   ]
  },
  {
   "attachments": {},
   "cell_type": "markdown",
   "metadata": {},
   "source": [
    "**`Tarea de optimización`**"
   ]
  },
  {
   "attachments": {},
   "cell_type": "markdown",
   "metadata": {},
   "source": [
    "- Procedemos de forma ***similar a SVR***. El ***Lagrangiano asociado a la tarea de clasificación*** está dado por:\n",
    "\n",
    "$$\n",
    "L(\\boldsymbol{\\theta}, \\theta_{0}, \\lambda)=\\frac{1}{2}\\|\\boldsymbol{\\theta}\\|^{2}-\\sum_{n=1}^{N}\\lambda_{n}(y_{n}(\\boldsymbol{\\theta}^{T}\\boldsymbol{x}_{n}+\\theta_{0})-1),\n",
    "$$\n",
    "\n",
    "- Calculando las ***derivadas parciales*** $\\partial_{\\boldsymbol{\\theta}}=0$ y $\\partial_{\\theta_{0}}=0$, se tienen las condiciones siguientes\n",
    "\n",
    "$$\n",
    "\\begin{align*}\n",
    "\\frac{\\partial L}{\\partial\\boldsymbol{\\theta}}&=0\\Leftrightarrow\\boldsymbol{\\theta}-\\sum_{n=1}^{N}\\lambda_{n}y_{n}\\boldsymbol{x}_{n}=0\\Rightarrow\\hat{\\boldsymbol{\\theta}}=\\sum_{n=1}^{N}\\lambda_{n}y_{n}\\boldsymbol{x}_{n}\\\\\n",
    "\\frac{\\partial L}{\\partial\\theta_{0}}&=0\\Leftrightarrow-\\sum_{n=1}^{N}\\lambda_{n}y_{n}=0\\Rightarrow\\sum_{n=1}^{N}\\lambda_{n}y_{n}=0,\\\\\n",
    "\\lambda_{n}(y_{n}(\\boldsymbol{\\theta}^{T}\\boldsymbol{x}_{n}+\\theta_{0})-1)&=0,\\quad n=1,2,\\dots,N,\\\\[2mm]\n",
    "\\lambda_{n}&\\geq0,\\quad n=1,2,\\dots,N.\n",
    "\\end{align*}\n",
    "$$ (opt_task_svm_class)"
   ]
  },
  {
   "attachments": {},
   "cell_type": "markdown",
   "metadata": {},
   "source": [
    "- Los ***multiplicadores son obtenidos por medio de la representación dual*** de {eq}`opt_task_svm_class` en el Lagrangiano\n",
    "\n",
    "$$\n",
    "\\begin{align*}\n",
    "L(\\boldsymbol{\\theta}, \\theta_{0}, \\lambda)&=\\frac{1}{2}\\left\\langle\\sum_{m=1}^{N}\\lambda_{m}y_{m}\\boldsymbol{x}_{m},\\sum_{n=1}^{N}\\lambda_{n}y_{n}\\boldsymbol{x}_{n}\\right\\rangle-\\sum_{n=1}^{N}\\lambda_{n}(y_{n}(\\boldsymbol{\\theta}\\boldsymbol{x}_{n}+\\theta_{0})-1)\\\\\n",
    "&=\\frac{1}{2}\\sum_{n=1}^{N}\\sum_{m=1}^{N}\\lambda_{n}\\lambda_{m}y_{n}y_{m}\\boldsymbol{x}_{n}^{T}\\boldsymbol{x}_{m}-\\sum_{n=1}^{N}\\sum_{n=1}^{N}\\lambda_{n}\\lambda_{m}y_{n}y_{m}\\boldsymbol{x}_{n}^{T}\\boldsymbol{x}_{m}+\\sum_{n=1}^{N}\\lambda_{n}\\\\\n",
    "&=\\sum_{n=1}^{N}\\lambda_{n}-\\frac{1}{2}\\sum_{n=1}^{N}\\sum_{m=1}^{N}\\lambda_{n}\\lambda_{m}y_{n}y_{m}\\boldsymbol{x}_{n}^{T}\\boldsymbol{x}_{m}\n",
    "\\end{align*}\n",
    "$$"
   ]
  },
  {
   "attachments": {},
   "cell_type": "markdown",
   "metadata": {},
   "source": [
    "- Con base en lo anterior, ***la siguiente es la representación dual de la tarea de optimización***\n",
    "\n",
    "$$\n",
    "\\begin{align*}\n",
    "\\text{minimizar con respecto a }~\\lambda:&\\quad\\sum_{n=1}^{N}\\lambda_{n}-\\frac{1}{2}\\sum_{n=1}^{N}\\sum_{m=1}^{N}\\lambda_{n}\\lambda_{m}y_{n}y_{m}\\boldsymbol{x}_{n}^{T}\\boldsymbol{x}_{m}\\\\\n",
    "\\text{sujeto a}:&\\quad\\lambda_{n}\\geq0,\\quad\\sum_{n=1}^{N}\\lambda_{n}y_{n}=0.\n",
    "\\end{align*}\n",
    "$$"
   ]
  },
  {
   "attachments": {},
   "cell_type": "markdown",
   "metadata": {},
   "source": [
    "- Para el caso en que la ***tarea de optimización original es mapeada en el espacio RKHS***, la función de costo viene dada por\n",
    "\n",
    "$$\n",
    "\\sum_{n=1}^{N}\\lambda_{n}-\\frac{1}{2}\\sum_{n=1}^{N}\\sum_{m=1}^{N}\\lambda_{n}\\lambda_{m}y_{n}y_{m}\\kappa(\\boldsymbol{x}_{n}, \\boldsymbol{x}_{m})\n",
    "$$"
   ]
  },
  {
   "attachments": {},
   "cell_type": "markdown",
   "metadata": {},
   "source": [
    "- De acuerdo con la restricción: $\\lambda_{n}(y_{n}(\\boldsymbol{\\theta}^{T}\\boldsymbol{x}_{n}+\\theta_{0})-1)=0,~n=1,2,\\dots,N$, si $\\lambda_{n}\\neq0$, entonces necesariamente $y_{n}(\\boldsymbol{\\theta}^{T}\\boldsymbol{x}_{n}+\\theta_{0})=1$. Estos son los ***puntos mas cercanos, desde cada clase al clasificador*** (distancia $1/\\|\\boldsymbol{\\theta}\\|$).\n",
    "\n",
    "- Estos puntos caen en cualquiera de los hiperplanos formando el borde del margen. ***Estos puntos se conocen como los vectores de soporte*** y las respectivas restricciones son conocidas como ***restricciones activas***. El resto de puntos asociados con $y_{n}(\\boldsymbol{\\theta}^{T}\\boldsymbol{x}_{n}+\\theta_{0})>1$, los cuales quedan por fuera del margen corresponden a $\\lambda_{n}=0$, y las restricciones asociadas son conocidas como las ***restricciones inactivas***."
   ]
  },
  {
   "attachments": {},
   "cell_type": "markdown",
   "metadata": {},
   "source": [
    "## Clases no separables"
   ]
  },
  {
   "attachments": {},
   "cell_type": "markdown",
   "metadata": {},
   "source": [
    "- Centraremos ahora nuestra atención en un ***caso mas realista en el que las clases se superponen***. En este caso ***no existe un clasificador lineal que pueda clasificar correctamente todos los puntos***, algunos errores de clasificación pueden ocurrir. Existen tres tipos de puntos mal clasificados.\n",
    "\n",
    "1. ***Puntos que se encuentran en la frontera o fuera del margen y en el lado correcto del clasificador***, esto es\n",
    "\n",
    "    $$\n",
    "    y_{n}f(\\boldsymbol{x}_{n})\\geq1.\n",
    "    $$\n",
    "\n",
    "    Estos puntos ***no cometen margen de error***, esto es: $ \\xi_{n}=0.$\n",
    "\n",
    "2. ***Puntos que se encuentran en el lado correcto del clasificador, pero se encuentran dentro del margen***, esto es\n",
    "\n",
    "    $$\n",
    "    0<y_{n}f(\\boldsymbol{x}_{n})<1.\n",
    "    $$\n",
    "\n",
    "    Estos puntos ***cometen un margen de error***, y se tiene que: $0<\\xi_{n}<1$.\n",
    "\n",
    "3. ***Puntos que se encuentran en el lugar equivocado del clasificador***, esto es,\n",
    "\n",
    "    $$\n",
    "    y_{n}f(\\boldsymbol{x}_{n})\\leq0.\n",
    "    $$\n",
    "\n",
    "    Estos puntos ***cometen un error***, y se tiene que: $\\xi_{n}\\geq1.$ "
   ]
  },
  {
   "attachments": {},
   "cell_type": "markdown",
   "metadata": {},
   "source": [
    "```{figure} ./imgs/non_separable_classes_svm.png\n",
    ":name: non_separable_classes_svm\n",
    ":align: center\n",
    ":scale: 90\n",
    "\n",
    "(1) ***puntos fuera o en los límites del margen y se clasifican correctamente*** ($\\xi_{n} = 0$); (2) ***puntos dentro del margen y clasificados correctamente*** ($0 < \\xi_{n} < 1$), denotados por círculos; y (3) ***puntos mal clasificados***, denotados por un cuadrado $(\\xi_{n}\\geq 1$).\n",
    "```"
   ]
  },
  {
   "attachments": {},
   "cell_type": "markdown",
   "metadata": {},
   "source": [
    "- Nuestro objetivo es ***estimar el hiperplano clasificador que maximiza el margen*** y al mismo tiempo ***mantiene el número de errores (incluyendo el margen del error) tan pequeño como sea posible***."
   ]
  },
  {
   "attachments": {},
   "cell_type": "markdown",
   "metadata": {},
   "source": [
    "**`Solución`**"
   ]
  },
  {
   "attachments": {},
   "cell_type": "markdown",
   "metadata": {},
   "source": [
    "- Una vez mas la solución está dada por una ***combinación lineal de un subconjunto de puntos de entrenamiento***\n",
    "\n",
    "    $$\n",
    "    \\boldsymbol{\\hat{\\theta}}=\\sum_{n=1}^{N_{s}}\\lambda_{n}y_{n}\\boldsymbol{x}_{n},\n",
    "    $$\n",
    "\n",
    "    donde $\\lambda_{n},~n=1,2,\\dots,N$, son los ***multiplicadores de Lagrange asociados con los vectores de soporte***. Los puntos $\\boldsymbol{x}_{n}$ pueden satisfacer cualquiera de los ***tres casos para tipos de datos de entrenamiento***."
   ]
  },
  {
   "attachments": {},
   "cell_type": "markdown",
   "metadata": {},
   "source": [
    "**`Tarea de optimización`**"
   ]
  },
  {
   "attachments": {},
   "cell_type": "markdown",
   "metadata": {},
   "source": [
    "- El ***Lagrangiano asociado con la tarea de optimización*** está dado por:\n",
    "\n",
    "$$\n",
    "L(\\boldsymbol{\\theta}, \\theta_{0}, \\xi, \\lambda)=\\frac{1}{2}\\|\\boldsymbol{\\theta}\\|^{2}+C\\sum_{n=1}^{N}\\xi_{n}-\\sum_{n=1}^{N}\\mu_{n}\\xi_{n}-\\sum_{n=1}^{N}\\lambda_{n}(y_{n}(\\boldsymbol{\\theta}^{T}\\boldsymbol{x}_{n}+\\theta_{0})-1+\\xi_{n})\n",
    "$$"
   ]
  },
  {
   "attachments": {},
   "cell_type": "markdown",
   "metadata": {},
   "source": [
    "- Entonces"
   ]
  },
  {
   "attachments": {},
   "cell_type": "markdown",
   "metadata": {},
   "source": [
    "$$\n",
    "\\begin{align*}\n",
    "\\frac{\\partial L}{\\partial\\boldsymbol{\\theta}}&=0\\Leftrightarrow\\boldsymbol{\\theta}-\\sum_{n=1}^{N}\\lambda_{n}y_{n}\\boldsymbol{x}_{n}=0\\Rightarrow\\hat{\\boldsymbol{\\theta}}=\\sum_{n=1}^{N}\\lambda_{n}y_{n}\\boldsymbol{x}_{n}\\\\\n",
    "\\frac{\\partial L}{\\partial\\theta_{0}}&=0\\Leftrightarrow-\\sum_{n=1}^{N}\\lambda_{n}y_{n}=0\\Rightarrow\\sum_{n=1}^{N}\\lambda_{n}y_{n}=0\\\\\n",
    "\\frac{\\partial L}{\\partial\\xi_{n}}&=0\\Leftrightarrow C-\\mu_{n}-\\lambda_{n}=0,\\\\[2mm]\n",
    "\\lambda_{n}(y_{n}(\\boldsymbol{\\theta}^{T}\\boldsymbol{x}_{n}+\\theta_{0})-1+\\xi_{n})&=0,\\quad n=1,2,\\dots,N,\\\\[2mm]\n",
    "\\mu_{n}\\xi_{n}&=0,\\quad n=1,2,\\dots,N,\\\\[2mm]\n",
    "\\mu_{n}\\geq,~\\lambda_{n}\\geq&0,\\quad n=1,2,\\dots,N.\n",
    "\\end{align*}\n",
    "$$ (eq_class_svm_nonsep)"
   ]
  },
  {
   "attachments": {},
   "cell_type": "markdown",
   "metadata": {},
   "source": [
    "- El ***problema dual*** entonces es proyectado como:\n",
    "\n"
   ]
  },
  {
   "attachments": {},
   "cell_type": "markdown",
   "metadata": {},
   "source": [
    "$$\n",
    "\\begin{align*}\n",
    "\\text{maximizar con respecto a }~\\lambda:&\\quad\\sum_{n=1}^{N}\\lambda_{n}-\\frac{1}{2}\\sum_{n=1}^{N}\\sum_{m=1}^{N}\\lambda_{n}\\lambda_{m}y_{n}y_{m}\\boldsymbol{x}_{n}^{T}\\boldsymbol{x}_{m}\\\\\n",
    "\\text{sujeto a}:&\\quad0\\leq\\lambda_{n}\\leq C, n=1,2,\\dots,N,\\quad\\sum_{n=1}^{N}\\lambda_{n}y_{n}=0.\n",
    "\\end{align*}\n",
    "$$"
   ]
  },
  {
   "attachments": {},
   "cell_type": "markdown",
   "metadata": {},
   "source": [
    "- Cuando se trabaja ***en un espacio RKHS, la función de coste se convierte en***\n",
    "\n",
    "    $$\n",
    "    \\sum_{n=1}^{N}\\lambda_{n}-\\frac{1}{2}\\sum_{n=1}^{N}\\sum_{m=1}^{N}\\lambda_{n}\\lambda_{m}y_{n}y_{m}\\kappa(\\boldsymbol{x}_{n}, \\boldsymbol{x}_{m})\n",
    "    $$\n",
    "\n",
    "    Obsérvese que la única ***diferencia con respecto a su contraparte linealmente separable*** es la ***existencia de*** $C$ ***en las restricciones de desigualdad*** para $\\lambda_{n}$."
   ]
  },
  {
   "attachments": {},
   "cell_type": "markdown",
   "metadata": {},
   "source": [
    "- A partir de {eq}`eq_class_svm_nonsep` concluimos que para todos los ***puntos fuera del margen, y en el lado correcto del clasificador***, que corresponden a $\\xi_{n} = 0$, tenemos\n",
    "\n",
    "    $$\n",
    "    y_{n}(\\boldsymbol{\\theta}\\boldsymbol{x}_{n}+\\theta_{0})>1,\n",
    "    $$\n",
    "\n",
    "    por lo tanto, $\\lambda_{n}=0$. Esto es, estos ***puntos no participan en la formación de la solución*** $\\hat{\\boldsymbol{\\theta}}$ en {eq}`eq_class_svm_nonsep`.\n",
    "\n",
    "- Tenemos $\\lambda_{n}\\neq0$ sólo para los ***puntos en los hiperplanos de la frontera, dentro o fuera del margen***, pero en el lado equivocado del clasificador. Estos son los ***vectores de soporte***. \n",
    "- Para los ***puntos que se encuentran dentro del margen o fuera pero en el lado equivocado***, $\\xi_{n}>0$; por lo tanto, a partir de {eq}`eq_class_svm_nonsep` se tiene que $\\mu_{n} = 0$ y además $\\lambda_{n}=C$.\n",
    "- Los ***vectores de soporte que se encuentran en los hiperplanos de la frontera del margen*** satisfacen $\\xi_{n} = 0$ y, por tanto, $\\mu_{n}$ puede ser distinto de cero, lo que lleva a $0\\leq\\lambda_{n}\\leq C$."
   ]
  },
  {
   "cell_type": "markdown",
   "metadata": {},
   "source": [
    "## Ejercicios para el estudiante"
   ]
  },
  {
   "cell_type": "markdown",
   "metadata": {},
   "source": [
    "1. Demuestre que el ***kernel reproductor*** $\\kappa(\\cdot, \\cdot)$ es definido positivo."
   ]
  },
  {
   "cell_type": "markdown",
   "metadata": {},
   "source": [
    "2. Demuestre que si $\\kappa(\\cdot, \\cdot)$ es el kernel reproductor en un espacio de Hilbert(RKHS) $\\mathbb{H}$, entonces\n",
    "\n",
    "$$\n",
    "\\mathbb{H} = \\text{span} \\{\\kappa(\\cdot, x) \\mid x \\in X\\}.\n",
    "$$"
   ]
  },
  {
   "cell_type": "markdown",
   "metadata": {},
   "source": [
    "3. Demuestre la ***desigualdad de Cauchy–Schwarz para kernels***, es decir,\n",
    "\n",
    "$$\n",
    "\\kappa(x, y)^2 \\leq \\kappa(x, x) \\kappa(y, y).\n",
    "$$"
   ]
  },
  {
   "cell_type": "markdown",
   "metadata": {},
   "source": [
    "4. Demuestre que si\n",
    "\n",
    "    $$\n",
    "    \\kappa_i (\\cdot, \\cdot) : X \\times X \\to \\mathbb{R}, \\quad i = 1,2,\n",
    "    $$\n",
    "\n",
    "    son kernels, entonces:\n",
    "   - $\\kappa(x, y) = \\kappa_1(x, y) + \\kappa_2(x, y)$ también es un kernel;\n",
    "   - $a\\kappa(x, y)$, con $a > 0$, también es un kernel;\n",
    "   - $\\kappa(x, y) = \\kappa_1(x, y) \\kappa_2(x, y)$ también es un kernel."
   ]
  },
  {
   "cell_type": "markdown",
   "metadata": {},
   "source": [
    "5. Demuestre la ecuación {eq}`loss_ridge_kernel`"
   ]
  },
  {
   "cell_type": "markdown",
   "metadata": {},
   "source": [
    "6. Demuestre que la solución para los parámetros $\\hat{\\theta}$ en la ***regresión de ridge con kernel***, cuando se incluye un término de sesgo $b$, está dada por\n",
    "\n",
    "    $$\n",
    "    \\begin{bmatrix}\n",
    "    \\theta \\\\\n",
    "    b\n",
    "    \\end{bmatrix}\n",
    "    =\n",
    "    \\begin{bmatrix}\n",
    "    K + C I & 1 \\\\\n",
    "    1^T K & N\n",
    "    \\end{bmatrix}^{-1}\n",
    "    \\begin{bmatrix}\n",
    "    y \\\\\n",
    "    y^T 1\n",
    "    \\end{bmatrix},\n",
    "    $$\n",
    "\n",
    "   donde $1$ es el vector cuyas entradas son todas iguales a uno. Asuma la invertibilidad de la matriz de kernel. "
   ]
  },
  {
   "cell_type": "code",
   "execution_count": null,
   "metadata": {},
   "outputs": [],
   "source": []
  },
  {
   "attachments": {},
   "cell_type": "markdown",
   "metadata": {},
   "source": [
    "## Aplicación"
   ]
  },
  {
   "attachments": {},
   "cell_type": "markdown",
   "metadata": {},
   "source": [
    "## Modelos lineales y características no lineales"
   ]
  },
  {
   "attachments": {},
   "cell_type": "markdown",
   "metadata": {},
   "source": [
    "- Como se ha visto antes, los ***modelos lineales pueden ser bastante limitados en espacios de baja dimensión***, ya que las líneas y los hiperplanos tienen una ***flexibilidad limitada***. Una forma de hacer que un modelo lineal sea mas flexible es añadiendo más características, por ejemplo, ***añadiendo interacciones o polinomios de las características de entrada***. Veamos el dataset sintético utilizado en ***feature importance***"
   ]
  },
  {
   "cell_type": "code",
   "execution_count": 1,
   "metadata": {},
   "outputs": [],
   "source": [
    "import warnings\n",
    "warnings.filterwarnings('ignore')"
   ]
  },
  {
   "cell_type": "code",
   "execution_count": 2,
   "metadata": {},
   "outputs": [],
   "source": [
    "from sklearn.datasets import make_blobs\n",
    "import mglearn\n",
    "import matplotlib.pyplot as plt\n",
    "import numpy as np"
   ]
  },
  {
   "attachments": {},
   "cell_type": "markdown",
   "metadata": {},
   "source": [
    "- El vector de ***labels y***, está compuesto por las clases ***0, 1, 2, 3***. Convertimos el problema, en uno binario, usando la ***clase residual modulo 2***, mediante: `y = y % 2`"
   ]
  },
  {
   "cell_type": "code",
   "execution_count": 3,
   "metadata": {},
   "outputs": [
    {
     "data": {
      "image/png": "[encoded data removed]",
      "text/plain": [
       "<Figure size 640x480 with 1 Axes>"
      ]
     },
     "metadata": {},
     "output_type": "display_data"
    }
   ],
   "source": [
    "X, y = make_blobs(centers=4, random_state=8)\n",
    "y = y % 2\n",
    "mglearn.discrete_scatter(X[:, 0], X[:, 1], y)\n",
    "plt.xlabel(\"Feature 0\")\n",
    "plt.ylabel(\"Feature 1\");"
   ]
  },
  {
   "attachments": {},
   "cell_type": "markdown",
   "metadata": {},
   "source": [
    "- Un `modelo lineal de clasificación sólo puede separar los puntos mediante una línea***, por lo tanto, no podrá hacer un buen trabajo en este conjunto de datos"
   ]
  },
  {
   "cell_type": "code",
   "execution_count": 4,
   "metadata": {},
   "outputs": [],
   "source": [
    "from sklearn.svm import LinearSVC"
   ]
  },
  {
   "cell_type": "code",
   "execution_count": 5,
   "metadata": {},
   "outputs": [
    {
     "data": {
      "image/png": "[encoded data removed]",
      "text/plain": [
       "<Figure size 640x480 with 1 Axes>"
      ]
     },
     "metadata": {},
     "output_type": "display_data"
    }
   ],
   "source": [
    "linear_svm = LinearSVC().fit(X, y)\n",
    "mglearn.plots.plot_2d_separator(linear_svm, X)\n",
    "mglearn.discrete_scatter(X[:, 0], X[:, 1], y)\n",
    "plt.xlabel(\"Feature 0\")\n",
    "plt.ylabel(\"Feature 1\");"
   ]
  },
  {
   "attachments": {},
   "cell_type": "markdown",
   "metadata": {},
   "source": [
    "- Ahora vamos a ***ampliar el conjunto de características de entrada, digamos que añadiendo también feature1 2***, el cuadrado de la segunda característica, como una nueva característica. En lugar de representar cada punto de datos como un punto bidimensional, (`feature0`, `feature1`), ahora lo representamos como un punto tridimensional, (`feature0`, `feature1`, `feature1 ** 2`). Esta nueva representación se ilustra en el siguiente grafico de dispersión tridimensional"
   ]
  },
  {
   "cell_type": "code",
   "execution_count": 6,
   "metadata": {},
   "outputs": [],
   "source": [
    "X_new = np.hstack([X, X[:, 1:] ** 2])"
   ]
  },
  {
   "attachments": {},
   "cell_type": "markdown",
   "metadata": {},
   "source": [
    "- Nótese que al nuevo array `X_new` ***se le agregó una tercera columna*** utilizando la segunda columna de `X`, `X[:, 1:]` "
   ]
  },
  {
   "cell_type": "code",
   "execution_count": 7,
   "metadata": {},
   "outputs": [
    {
     "data": {
      "text/plain": [
       "array([[-1.72161036, -1.48033142,  2.19138111],\n",
       "       [-3.6573384 , -9.5482383 , 91.16885455],\n",
       "       [ 7.0778163 ,  0.99508772,  0.99019957],\n",
       "       [-1.36579859, -0.3148625 ,  0.09913839],\n",
       "       [-2.66521206, -3.12591651,  9.77135405]])"
      ]
     },
     "execution_count": 7,
     "metadata": {},
     "output_type": "execute_result"
    }
   ],
   "source": [
    "X_new[:5]"
   ]
  },
  {
   "cell_type": "code",
   "execution_count": 8,
   "metadata": {},
   "outputs": [],
   "source": [
    "from mpl_toolkits.mplot3d import Axes3D, axes3d"
   ]
  },
  {
   "attachments": {},
   "cell_type": "markdown",
   "metadata": {},
   "source": [
    "- ***Visualizamos los datos en 3D*** y trazamos primero todos los puntos con `y == 0`, luego todos con `y == 1`. Si está interesado en conocer mas sobre los argumentos que puede utilizar en la función `scatter` (ver [matplotlib.pyplot.scatter](https://matplotlib.org/stable/api/_as_gen/matplotlib.pyplot.scatter.html))"
   ]
  },
  {
   "cell_type": "code",
   "execution_count": 9,
   "metadata": {},
   "outputs": [
    {
     "data": {
      "image/png": "[encoded data removed]",
      "text/plain": [
       "<Figure size 640x480 with 1 Axes>"
      ]
     },
     "metadata": {},
     "output_type": "display_data"
    }
   ],
   "source": [
    "figure = plt.figure()\n",
    "ax = Axes3D(figure, elev=-152, azim=-26) #elev, azim: vertical and horizontal angle respectivly\n",
    "\n",
    "ax = figure.add_subplot(projection='3d')\n",
    "mask = y == 0 # booleano para etiquetado\n",
    "ax.scatter(X_new[mask, 0], X_new[mask, 1], X_new[mask, 2], c='b', cmap=mglearn.cm2, s=60) # s=60: points size; cmap=mglearn.cm2:color palette  \n",
    "ax.scatter(X_new[~mask, 0], X_new[~mask, 1], X_new[~mask, 2], c='r', marker='^', cmap=mglearn.cm2, s=60)\n",
    "ax.set_xlabel(\"feature0\")\n",
    "ax.set_ylabel(\"feature1\")\n",
    "ax.set_zlabel(\"feature1 ** 2\");"
   ]
  },
  {
   "attachments": {},
   "cell_type": "markdown",
   "metadata": {},
   "source": [
    "- En esta nueva representación de los datos, ***ahora sí es posible separar las dos clases mediante un modelo lineal, un plano en tres dimensiones***. Podemos confirmarlo ***ajustando un modelo lineal a los datos aumentados***"
   ]
  },
  {
   "cell_type": "code",
   "execution_count": 10,
   "metadata": {},
   "outputs": [],
   "source": [
    "linear_svm_3d = LinearSVC().fit(X_new, y)\n",
    "coef, intercept = linear_svm_3d.coef_.ravel(), linear_svm_3d.intercept_"
   ]
  },
  {
   "attachments": {},
   "cell_type": "markdown",
   "metadata": {},
   "source": [
    "- Puede imprimir los coeficientes e intercepto (`coef, intercept`) del plano de la forma $c_{0}x+c_{1}y+c_{2}z+\\text{intercept}$, que separa las dos clases. ***Nótese que en este caso se está realizando un mapeo de características a un espacio de Hilbert, de mayor dimensión***, donde se linealiza nuestro problema de clasificación.\n",
    "- Aquí `rstride, cstride` son utilizados para realizar divisiones uniformes en el plano `XY`, `elev` y `azim` son ángulos de rotación en grados que giran la imagen en `XY` y `Z` respectivamente, . Para mas información acerca de como usar `plot_surface` (ver [3D surface (colormap)](https://matplotlib.org/stable/gallery/mplot3d/surface3d.html)). Es ***tarea del estudiante profundizar en el uso de cada parámetro***."
   ]
  },
  {
   "cell_type": "code",
   "execution_count": 11,
   "metadata": {},
   "outputs": [
    {
     "data": {
      "image/png": "[encoded data removed]",
      "text/plain": [
       "<Figure size 640x480 with 1 Axes>"
      ]
     },
     "metadata": {},
     "output_type": "display_data"
    }
   ],
   "source": [
    "figure = plt.figure()\n",
    "ax = Axes3D(figure, elev=-152, azim=-26)\n",
    "\n",
    "ax = figure.add_subplot(projection='3d')\n",
    "xx = np.linspace(X_new[:, 0].min() - 2, X_new[:, 0].max() + 2, 50)\n",
    "yy = np.linspace(X_new[:, 1].min() - 2, X_new[:, 1].max() + 2, 50)\n",
    "XX, YY = np.meshgrid(xx, yy)\n",
    "ZZ = (coef[0] * XX + coef[1] * YY + intercept) / -coef[2] #ecuación del plano\n",
    "\n",
    "ax.plot_surface(XX, YY, ZZ, rstride=8, cstride=8, alpha=0.3) #rstride/cstride: control row/column stride\n",
    "ax.scatter(X_new[mask, 0], X_new[mask, 1], X_new[mask, 2], c='b', cmap=mglearn.cm2, s=60)\n",
    "ax.scatter(X_new[~mask, 0], X_new[~mask, 1], X_new[~mask, 2], c='r', marker='^', cmap=mglearn.cm2, s=60)\n",
    "ax.set_xlabel(\"feature0\")\n",
    "ax.set_ylabel(\"feature1\")\n",
    "ax.set_zlabel(\"feature0 ** 2\");"
   ]
  },
  {
   "attachments": {},
   "cell_type": "markdown",
   "metadata": {},
   "source": [
    "- Como función de las características originales, el modelo ***SVM lineal ya no es lineal***. No es una línea, sino ***más bien una elipse***, como se puede ver en el gráfico creado aquí. Para dibujar la función de decisión utilizamos la clase `decision_function` de `LinearSVC()`.\n",
    "\n",
    "- La función ***ravel(), devuelve un array 1-D que contiene los elementos de la entrada***. Se hace una copia sólo si se necesita. Para conocer más métodos que pueden ser utilizados a partir de la clase ***SVC*** (ver [sklearn.svm.SVC](https://scikit-learn.org/stable/modules/generated/sklearn.svm.SVC.html)). Aquí ***levels indica niveles específicos en los que las curvas de nivel serán dibujadas***, los valores deben estar en orden creciente. Para mas información acerca de dibujos de contorno (ver [matplotlib.pyplot.contourf](https://matplotlib.org/stable/api/_as_gen/matplotlib.pyplot.contourf.html))."
   ]
  },
  {
   "cell_type": "code",
   "execution_count": 12,
   "metadata": {},
   "outputs": [
    {
     "data": {
      "image/png": "[encoded data removed]",
      "text/plain": [
       "<Figure size 640x480 with 1 Axes>"
      ]
     },
     "metadata": {},
     "output_type": "display_data"
    }
   ],
   "source": [
    "ZZ = YY ** 2\n",
    "dec = linear_svm_3d.decision_function(np.c_[XX.ravel(), YY.ravel(), ZZ.ravel()])\n",
    "plt.contourf(XX, YY, dec.reshape(XX.shape), levels=[dec.min(), 0, dec.max()], cmap=mglearn.cm2, alpha=0.5)\n",
    "mglearn.discrete_scatter(X[:, 0], X[:, 1], y)\n",
    "plt.xlabel(\"Feature 0\")\n",
    "plt.ylabel(\"Feature 1\");"
   ]
  },
  {
   "attachments": {},
   "cell_type": "markdown",
   "metadata": {},
   "source": [
    "## El Kernel Trick"
   ]
  },
  {
   "attachments": {},
   "cell_type": "markdown",
   "metadata": {},
   "source": [
    "- Durante el entrenamiento, ***SVM aprende cuan importante son cada uno de los puntos de datos de entrenamiento para representar el límite de decisión entre las dos clases***. Recuerde que, ***sólo un subconjunto de los puntos de entrenamiento es importante para definir la frontera de decisión***, los que se encuentran en la frontera entre las clases (***vectores de soporte***).\n",
    "\n",
    "- Para hacer una predicción de un nuevo punto, se mide la distancia a cada uno de los vectores de soporte. ***Se toma una decisión de clasificación basada en las distancias a los vectores de soporte y en la importancia de los vectores de soporte, aprendida durante el entrenamiento*** (almacenado en el atributo `dual_coef_` de `SVC`). La distancia entre los puntos de datos se mide, por ejemplo, mediante el `kernel Gaussiano`:\n",
    "\n",
    "$$\n",
    "k_{\\text{rbf}}=\\exp(\\gamma\\|x_{1}-x_{2}\\|^2).\n",
    "$$\n",
    "\n",
    "- Aquí, $x_{1}$ y $x_{2}$ son puntos de datos, $\\|x_{1} - x_{2}\\|$ denota la distancia euclidiana, y $\\gamma$ es un parámetro que controla el ancho del kernel gaussiano. $\\gamma$`=gamma` define un ***factor de escala general para la noción de distancia entre dos puntos de la SVM***; esto, a su vez, define ***cómo un vector de apoyo da forma al límite de decisión en su vecindad cercana***. La siguiente figura muestra el resultado del entrenamiento de una máquina de vectores de soporte en un conjunto de datos bidimensional de dos clases. ***El límite de decisión se muestra en negro, y los vectores de soporte son puntos más grandes con el contorno ancho***. El siguiente código crea este gráfico entrenando una ***SVM*** en el conjunto de datos ***forge***"
   ]
  },
  {
   "cell_type": "code",
   "execution_count": 13,
   "metadata": {},
   "outputs": [],
   "source": [
    "import imp\n",
    "from sklearn.svm import SVC\n",
    "import mglearn\n",
    "import matplotlib.pyplot as plt\n",
    "from sklearn.model_selection import train_test_split\n",
    "from sklearn.datasets import load_breast_cancer\n",
    "import numpy as np\n",
    "cancer = load_breast_cancer()"
   ]
  },
  {
   "cell_type": "code",
   "execution_count": 14,
   "metadata": {},
   "outputs": [],
   "source": [
    "X, y = mglearn.tools.make_handcrafted_dataset()\n",
    "svm = SVC(kernel='rbf', C=10, gamma=0.1).fit(X, y)"
   ]
  },
  {
   "cell_type": "code",
   "execution_count": 15,
   "metadata": {},
   "outputs": [
    {
     "name": "stdout",
     "output_type": "stream",
     "text": [
      "X.shape = (26, 2) ; y.shape (26,)\n"
     ]
    }
   ],
   "source": [
    "print(\"X.shape =\", X.shape, \"; y.shape\", y.shape)"
   ]
  },
  {
   "attachments": {},
   "cell_type": "markdown",
   "metadata": {},
   "source": [
    "- Dibujamos los vectores de soporte. ***Las etiquetas de clase de los vectores soporte vienen dadas por el signo de los coeficientes duales*** obtenidos en Python por medio de la función `dual_coef_`"
   ]
  },
  {
   "cell_type": "code",
   "execution_count": 16,
   "metadata": {},
   "outputs": [
    {
     "data": {
      "image/png": "[encoded data removed]",
      "text/plain": [
       "<Figure size 640x480 with 1 Axes>"
      ]
     },
     "metadata": {},
     "output_type": "display_data"
    }
   ],
   "source": [
    "mglearn.plots.plot_2d_separator(svm, X, eps=.5)\n",
    "mglearn.discrete_scatter(X[:, 0], X[:, 1], y)\n",
    "sv = svm.support_vectors_\n",
    "sv_labels = svm.dual_coef_.ravel() > 0\n",
    "mglearn.discrete_scatter(sv[:, 0], sv[:, 1], sv_labels, s=15, markeredgewidth=3)\n",
    "plt.xlabel(\"Feature 0\")\n",
    "plt.ylabel(\"Feature 1\");"
   ]
  },
  {
   "attachments": {},
   "cell_type": "markdown",
   "metadata": {},
   "source": [
    "- En este caso, ***SVM produce un límite muy suave y no lineal***. Aquí ajustamos dos parámetros: el parámetro `C` y el parámetro `gamma`, que ahora discutiremos en detalle. Puede ***hacer uso de la validación cruzada y pipeline*** estudiados en la sección de evaluación de modelos."
   ]
  },
  {
   "attachments": {},
   "cell_type": "markdown",
   "metadata": {},
   "source": [
    "## Ajuste de los parámetros de SVM"
   ]
  },
  {
   "attachments": {},
   "cell_type": "markdown",
   "metadata": {},
   "source": [
    "- El ***parámetro gamma*** es el que se muestra en la fórmula dada en la sección anterior, que ***controla la anchura del kernel Gaussiano***. Determina la ***escala de lo que significa que los puntos estén próximos entre sí***. El parámetro ***C es un parámetro de regularización, similar al utilizado en los modelos lineales***. Limita la importancia de cada punto (o más precisamente, su `dual_coef_`). Veamos qué ocurre cuando variamos estos parámetros:"
   ]
  },
  {
   "cell_type": "code",
   "execution_count": 17,
   "metadata": {},
   "outputs": [
    {
     "data": {
      "image/png": "[encoded data removed]",
      "text/plain": [
       "<Figure size 1500x1000 with 9 Axes>"
      ]
     },
     "metadata": {},
     "output_type": "display_data"
    }
   ],
   "source": [
    "fig, axes = plt.subplots(3, 3, figsize=(15, 10))\n",
    "\n",
    "for ax, C in zip(axes, [-1, 0, 3]):\n",
    "    for a, gamma in zip(ax, range(-1, 2)):\n",
    "        mglearn.plots.plot_svm(log_C=C, log_gamma=gamma, ax=a)\n",
    "        axes[0, 0].legend([\"class 0\", \"class 1\", \"sv class 0\", \"sv class 1\"], ncol=4, loc=(.9, 1.2))"
   ]
  },
  {
   "attachments": {},
   "cell_type": "markdown",
   "metadata": {},
   "source": [
    "- De izquierda a derecha, aumentamos el valor del ***parámetro gamma de 0.1 a 10***. Un ***gamma pequeño significa un radio grande para el kernel gaussiano, lo que significa que muchos puntos se consideran cercanos***. Esto se refleja en unos ***límites de decisión muy suaves a la izquierda, y límites que se centran más en puntos individuales más a la derecha***. Un valor bajo de ***gamma*** significa que el límite de decisión variará lentamente, lo que produce un modelo de baja complejidad, mientras que ***un valor alto de gamma da lugar a un modelo más complejo***.\n",
    "\n",
    "- De arriba a abajo, aumentamos el parámetro `C` de 0.1 a 1000. Al igual que con los modelos lineales, un valor de `C` pequeño ***corresponde a un modelo muy restringido, en el que cada punto de datos sólo puede tener una influencia muy limitada***. Se puede ver que en la parte superior izquierda el límite de decisión parece casi lineal, y los puntos mal clasificados apenas influyen en la línea.\n",
    "- ***Aumentar C, como se muestra en la parte inferior derecha, permite que estos puntos tengan una influencia en el modelo y hace que el límite de decisión se doble para clasificarlos correctamente***. Apliquemos ***SVM*** de núcleo ***RBF*** al conjunto de datos **`breast cancer`**. Por defecto, `C=1` y `gamma=1/n_features`. Queda como tarea para el estudiante hiperparametrizar cada uno de estos parámetros por medio del uso de `GridSearchCV` y `Pipeline`."
   ]
  },
  {
   "cell_type": "code",
   "execution_count": 18,
   "metadata": {},
   "outputs": [
    {
     "name": "stdout",
     "output_type": "stream",
     "text": [
      "Accuracy on training set: 0.90\n",
      "Accuracy on test set: 0.94\n"
     ]
    }
   ],
   "source": [
    "X_train, X_test, y_train, y_test = train_test_split(cancer.data, cancer.target, random_state=0)\n",
    "svc = SVC()\n",
    "svc.fit(X_train, y_train)\n",
    "print(\"Accuracy on training set: {:.2f}\".format(svc.score(X_train, y_train)))\n",
    "print(\"Accuracy on test set: {:.2f}\".format(svc.score(X_test, y_test)))"
   ]
  },
  {
   "attachments": {},
   "cell_type": "markdown",
   "metadata": {},
   "source": [
    "- Aunque las `SVM` suelen funcionar bastante bien, ***son muy sensibles a los ajustes de los parámetros y al escalado de los datos***. En particular, requieren que ***todas las características varíen en una escala similar***. Veamos los valores mínimos y máximos de cada característica, trazados en escala logarítmica"
   ]
  },
  {
   "cell_type": "code",
   "execution_count": 19,
   "metadata": {},
   "outputs": [
    {
     "data": {
      "image/png": "[encoded data removed]",
      "text/plain": [
       "<Figure size 640x480 with 1 Axes>"
      ]
     },
     "metadata": {},
     "output_type": "display_data"
    }
   ],
   "source": [
    "plt.plot(X_train.min(axis=0), 'o', label=\"min\")\n",
    "plt.plot(X_train.max(axis=0), '^', label=\"max\")\n",
    "plt.legend(loc=4)\n",
    "plt.xlabel(\"Feature index\")\n",
    "plt.ylabel(\"Feature magnitude\")\n",
    "plt.yscale(\"log\")"
   ]
  },
  {
   "attachments": {},
   "cell_type": "markdown",
   "metadata": {},
   "source": [
    "- A partir de este gráfico podemos determinar que ***las características del conjunto de datos de cáncer de mama son de órdenes de magnitud completamente diferentes***. Esto puede ser un problema para otros modelos (como los modelos lineales), pero ***tiene efectos devastadores para SVM con kernel***. Examinemos algunas formas de resolver este problema."
   ]
  },
  {
   "attachments": {},
   "cell_type": "markdown",
   "metadata": {},
   "source": [
    "## Preprocesamiento de datos para SVM"
   ]
  },
  {
   "attachments": {},
   "cell_type": "markdown",
   "metadata": {},
   "source": [
    "- Una forma de resolver este problema es ***reescalar cada característica para que todas estén aproximadamente en la misma escala***. Un método común de reescalado para ***SVMs*** con kernel consiste en ***escalar los datos de manera que todas las características estén entre 0 y 1***. Veremos cómo hacer esto usando el método de preprocesamiento `MinMaxScaler`, $X_{\\textsf{scaled}}=(X-X_{\\textsf{min}})/(X_{\\textsf{max}}-X_{\\textsf{min}})$. Con el fin de comprender su funcionamiento, vamos a ***implementar el preprocesamiento \"de forma manual\"***"
   ]
  },
  {
   "attachments": {},
   "cell_type": "markdown",
   "metadata": {},
   "source": [
    "- Calculamos el valor ***mínimo por característica en el conjunto de entrenamiento***. Dado que `X_train` contiene 30 columnas de características, el resultado va a ser un array de dimensión 30. Para obtenerlo usamos `min(axis=0)`, para que el mínimo sea buscado sobre las filas de cada columna."
   ]
  },
  {
   "cell_type": "code",
   "execution_count": 20,
   "metadata": {},
   "outputs": [
    {
     "data": {
      "text/plain": [
       "(426, 30)"
      ]
     },
     "execution_count": 20,
     "metadata": {},
     "output_type": "execute_result"
    }
   ],
   "source": [
    "X_train.shape"
   ]
  },
  {
   "cell_type": "code",
   "execution_count": 21,
   "metadata": {},
   "outputs": [
    {
     "data": {
      "text/plain": [
       "(30,)"
      ]
     },
     "execution_count": 21,
     "metadata": {},
     "output_type": "execute_result"
    }
   ],
   "source": [
    "min_on_training = X_train.min(axis=0)\n",
    "min_on_training.shape"
   ]
  },
  {
   "attachments": {},
   "cell_type": "markdown",
   "metadata": {},
   "source": [
    "- Calculamos el ***vector de rangos para cada característica (max - min)*** en el conjunto de entrenamiento. El ***máximo sobre cada columna es calculado usando la función max(axis=0)***."
   ]
  },
  {
   "cell_type": "code",
   "execution_count": 22,
   "metadata": {},
   "outputs": [
    {
     "data": {
      "text/plain": [
       "(30,)"
      ]
     },
     "execution_count": 22,
     "metadata": {},
     "output_type": "execute_result"
    }
   ],
   "source": [
    "range_on_training = (X_train - min_on_training).max(axis=0)\n",
    "range_on_training.shape"
   ]
  },
  {
   "attachments": {},
   "cell_type": "markdown",
   "metadata": {},
   "source": [
    "- ***Restamos con el mínimo, cada una de las características en X_train*** y después dividimos por el ***rango para cada característica*** resultante"
   ]
  },
  {
   "cell_type": "code",
   "execution_count": 23,
   "metadata": {},
   "outputs": [],
   "source": [
    "X_train_scaled = (X_train - min_on_training) / range_on_training"
   ]
  },
  {
   "cell_type": "code",
   "execution_count": 24,
   "metadata": {},
   "outputs": [
    {
     "name": "stdout",
     "output_type": "stream",
     "text": [
      "Minimum for each feature\n",
      "[0. 0. 0. 0. 0. 0. 0. 0. 0. 0. 0. 0. 0. 0. 0. 0. 0. 0. 0. 0. 0. 0. 0. 0.\n",
      " 0. 0. 0. 0. 0. 0.]\n"
     ]
    }
   ],
   "source": [
    "print(\"Minimum for each feature\\n{}\".format(X_train_scaled.min(axis=0)))"
   ]
  },
  {
   "cell_type": "code",
   "execution_count": 25,
   "metadata": {},
   "outputs": [
    {
     "name": "stdout",
     "output_type": "stream",
     "text": [
      "Maximum for each feature\n",
      " [1. 1. 1. 1. 1. 1. 1. 1. 1. 1. 1. 1. 1. 1. 1. 1. 1. 1. 1. 1. 1. 1. 1. 1.\n",
      " 1. 1. 1. 1. 1. 1.]\n"
     ]
    }
   ],
   "source": [
    "print(\"Maximum for each feature\\n {}\".format(X_train_scaled.max(axis=0)))"
   ]
  },
  {
   "attachments": {},
   "cell_type": "markdown",
   "metadata": {},
   "source": [
    "- ***Utilizamos la misma transformación en el conjunto de prueba***, utilizando el mínimo y el rango del conjunto de entrenamiento"
   ]
  },
  {
   "cell_type": "code",
   "execution_count": 26,
   "metadata": {},
   "outputs": [],
   "source": [
    "X_test_scaled = (X_test - min_on_training) / range_on_training"
   ]
  },
  {
   "attachments": {},
   "cell_type": "markdown",
   "metadata": {},
   "source": [
    "- Utilizando ahora los ***datos transformados, entrenamos el modelo SVC()*** y verificamos valores de `accuracy`"
   ]
  },
  {
   "cell_type": "code",
   "execution_count": 27,
   "metadata": {},
   "outputs": [
    {
     "name": "stdout",
     "output_type": "stream",
     "text": [
      "Accuracy on training set: 0.984\n",
      "Accuracy on test set: 0.972\n"
     ]
    }
   ],
   "source": [
    "svc = SVC()\n",
    "svc.fit(X_train_scaled, y_train)\n",
    "print(\"Accuracy on training set: {:.3f}\".format(svc.score(X_train_scaled, y_train)))\n",
    "print(\"Accuracy on test set: {:.3f}\".format(svc.score(X_test_scaled, y_test)))"
   ]
  },
  {
   "attachments": {},
   "cell_type": "markdown",
   "metadata": {},
   "source": [
    "- Escalar los datos supuso una gran diferencia. Ahora estamos en un régimen de ***overfitting donde el rendimiento del conjunto de entrenamiento es ligeramente mayor que el de prueba***, pero menos cercano al 100% de `accuracy`. A partir de aquí, podemos intentar disminuir `C` o `gamma` para ajustar un modelo regularizado. Por ejemplo:"
   ]
  },
  {
   "cell_type": "code",
   "execution_count": 28,
   "metadata": {},
   "outputs": [
    {
     "name": "stdout",
     "output_type": "stream",
     "text": [
      "Accuracy on training set: 0.948\n",
      "Accuracy on test set: 0.958\n"
     ]
    }
   ],
   "source": [
    "svc_C01 = SVC(C=0.1)\n",
    "svc_C01.fit(X_train_scaled, y_train)\n",
    "print(\"Accuracy on training set: {:.3f}\".format(svc_C01.score(X_train_scaled, y_train)))\n",
    "print(\"Accuracy on test set: {:.3f}\".format(svc_C01.score(X_test_scaled, y_test)))"
   ]
  },
  {
   "attachments": {},
   "cell_type": "markdown",
   "metadata": {},
   "source": [
    "- Nótese que sucede cuando seguimos disminuyendo el valor de $C$"
   ]
  },
  {
   "cell_type": "code",
   "execution_count": 29,
   "metadata": {},
   "outputs": [
    {
     "name": "stdout",
     "output_type": "stream",
     "text": [
      "Accuracy on training set: 0.643\n",
      "Accuracy on test set: 0.636\n"
     ]
    }
   ],
   "source": [
    "svc_C001 = SVC(C=0.01)\n",
    "svc_C001.fit(X_train_scaled, y_train)\n",
    "print(\"Accuracy on training set: {:.3f}\".format(svc_C001.score(X_train_scaled, y_train)))\n",
    "print(\"Accuracy on test set: {:.3f}\".format(svc_C001.score(X_test_scaled, y_test)))"
   ]
  },
  {
   "cell_type": "markdown",
   "metadata": {},
   "source": [
    "- Si usamos un parámetro de regularización ***C demasiado extremos, podemos caer nuevamente en un mayor overfitting***, o en un modelo demasiado simple, que entrega valores de `accuracy` bastantes bajos para los datos de entrenamiento y prueba, esto es, ***el modelo no será capaz de generalizarse correctamente, underfitting***."
   ]
  },
  {
   "cell_type": "code",
   "execution_count": 30,
   "metadata": {},
   "outputs": [
    {
     "name": "stdout",
     "output_type": "stream",
     "text": [
      "Accuracy on training set: 1.000\n",
      "Accuracy on test set: 0.965\n"
     ]
    }
   ],
   "source": [
    "svc_C100 = SVC(C=100)\n",
    "svc_C100.fit(X_train_scaled, y_train)\n",
    "print(\"Accuracy on training set: {:.3f}\".format(svc_C100.score(X_train_scaled, y_train)))\n",
    "print(\"Accuracy on test set: {:.3f}\".format(svc_C100.score(X_test_scaled, y_test)))"
   ]
  },
  {
   "cell_type": "markdown",
   "metadata": {},
   "source": [
    "```{admonition} Puntos fuertes, puntos débiles y parámetros\n",
    "\n",
    "- Las máquinas de vectores de soporte kernelizadas son modelos potentes y funcionan bien en una variedad de conjuntos de datos. ***Las SVM permiten establecer límites de decisión complejos, incluso si los datos sólo tienen  unas pocas características***. Funcionan bien con datos de baja y alta dimensión (es decir, pocas y muchas características), pero no escalan muy bien con el número de muestras. Ejecutar SVM con datos de hasta 10.000 muestras puede funcionar bien, pero ***trabajar con conjuntos de datos de 100.000 o más puede ser un reto en términos de tiempo de ejecución y uso de memoria***.\n",
    "\n",
    "- Otra desventaja de SVM es que ***requieren un cuidadoso preprocesamiento de los datos y el ajuste de los parámetros***. Por eso, hoy en día, algunos investigadores utilizan modelos basados en árboles, como los bosques aleatorios o el gradient boosting (que requieren poco o ningún preprocesamiento) en muchas aplicaciones. Además, los modelos ***SVM*** son difíciles de inspeccionar, ***puede ser difícil entender por qué se ha hecho una predicción concreta, y puede ser difícil explicar el modelo a un inexperto***. Aun así, puede valer la pena probar las ***SVM***, sobre todo si todas las características representan medidas en unidades similares (por ejemplo, todas son intensidades de píxeles) y están en escalas similares.\n",
    "\n",
    "- Los ***parámetros importantes en las SVM con kernel son el parámetro de regularización C, la elección del kernel, y los parámetros específicos del kernel***. Aunque principalmente nos centramos en el núcleo ***RBF***, hay otras opciones disponibles en `scikit-learn`. El núcleo `RBF` tiene sólo un parámetro,` gamma`, que es la inversa de la anchura del kernel de Gaus. `gamma` y `C` controlan la complejidad del modelo, ***con valores grandes en cualquiera de ellos obtenemos un modelo más complejo***. Por lo tanto, los buenos ajustes para los dos parámetros suelen estar fuertemente correlacionados, y `C` y `gamma` deben ajustarse juntos.\n",
    "```"
   ]
  },
  {
   "cell_type": "code",
   "execution_count": null,
   "metadata": {},
   "outputs": [],
   "source": []
  },
  {
   "cell_type": "code",
   "execution_count": null,
   "metadata": {},
   "outputs": [],
   "source": []
  },
  {
   "cell_type": "code",
   "execution_count": null,
   "metadata": {},
   "outputs": [],
   "source": []
  },
  {
   "cell_type": "markdown",
   "metadata": {},
   "source": [
    "## Proyecto Integrador de Aprendizaje Automático\n",
    "\n",
    "### Clasificación multiclase de cobertura forestal con Máquinas de Soporte Vectorial y despliegue MLOps\n",
    "\n",
    "\n",
    "\n",
    "### Objetivo general\n",
    "\n",
    "Entrenar, evaluar e interpretar un modelo de clasificación multiclase con **Support Vector Machines (SVM)** sobre un conjunto de datos reales del entorno natural, incorporando:\n",
    "\n",
    "* Ajuste de hiperparámetros con `GridSearchCV`\n",
    "* Visualizaciones y métricas de evaluación\n",
    "* Despliegue de un servicio de inferencia con **FastAPI**\n",
    "* Contenerización con **Docker**\n",
    "* Automatización del flujo CI/CD con **GitHub Actions**\n",
    "* Un dashboard con **Dash/Plotly** para visualización de predicciones e inputs\n",
    "* Recomendaciones básicas de monitoreo de modelos\n",
    "\n",
    "\n",
    "\n",
    "### Contexto aplicado\n",
    "\n",
    "El monitoreo de ecosistemas forestales requiere herramientas confiables para identificar el tipo de cobertura vegetal de cada parcela. Usando variables topográficas y geográficas, un modelo supervisado puede clasificar eficientemente cada región según su cobertura (pinos, álamos, praderas, etc.), apoyando políticas de conservación y ordenamiento territorial.\n",
    "\n",
    "\n",
    "\n",
    "### Dataset sugerido: Forest CoverType (UCI)\n",
    "\n",
    "* Fuente: [UCI Machine Learning Repository – Covertype](https://archive.ics.uci.edu/ml/datasets/covertype)\n",
    "* 581 012 observaciones, 54 variables predictoras\n",
    "* Variable objetivo: `Cover_Type` (siete tipos de vegetación codificados del 1 al 7)\n",
    "\n",
    "\n",
    "\n",
    "### Actividades a desarrollar\n",
    "\n",
    "#### 1. Preprocesamiento\n",
    "\n",
    "* Carga del dataset desde archivo CSV o fuente directa\n",
    "* Análisis exploratorio y visualización de distribución de clases\n",
    "* Escalado de variables numéricas (`StandardScaler`)\n",
    "* División del dataset (`train_test_split`)\n",
    "\n",
    "#### 2. Construcción de modelos\n",
    "\n",
    "* `Pipeline` con escalado y `SVC` (de `scikit-learn`)\n",
    "* Comparar kernels:\n",
    "\n",
    "  * Lineal (`kernel='linear'`)\n",
    "  * Radial (`kernel='rbf'`)\n",
    "  * Polinómico (`kernel='poly'`)\n",
    "* Usar `GridSearchCV` para optimizar:\n",
    "\n",
    "  * `C`, `gamma`, `degree` (según kernel)\n",
    "* Validación cruzada estratificada (`cv=5`)\n",
    "\n",
    "#### 3. Evaluación\n",
    "\n",
    "* Matriz de confusión multiclase\n",
    "* Accuracy global y por clase\n",
    "* Visualización de errores y curva de validación\n",
    "* Comparación de kernels por desempeño y tiempo de entrenamiento\n",
    "\n",
    "#### 4. Visualización interactiva (Dashboard)\n",
    "\n",
    "* Crear una app interactiva con **Dash** (Plotly)\n",
    "\n",
    "  * Selección de inputs por el usuario\n",
    "  * Visualización del tipo de cobertura predicho\n",
    "  * Histograma comparativo por clase\n",
    "  * Tabla resumen de resultados por batch de inputs\n",
    "\n",
    "\n",
    "\n",
    "### Despliegue y arquitectura MLOps\n",
    "\n",
    "#### Servicio de inferencia\n",
    "\n",
    "* Crear una API REST usando **FastAPI**\n",
    "\n",
    "  * Endpoint `/predict` que reciba JSON con nuevas observaciones y retorne la clase predicha\n",
    "  * Validación de schema de entrada con `pydantic`\n",
    "  * Serialización del modelo (`joblib` o `pickle`)\n",
    "\n",
    "#### Contenerización\n",
    "\n",
    "* Crear un `Dockerfile` para empaquetar:\n",
    "\n",
    "  * Modelo + API + dependencias\n",
    "* Incluir archivo `requirements.txt` con versiones controladas\n",
    "\n",
    "#### CI/CD con GitHub Actions\n",
    "\n",
    "* Crear un flujo de trabajo (`.github/workflows/ci.yml`) que:\n",
    "\n",
    "  * Instale dependencias\n",
    "  * Ejecute pruebas automáticas (`pytest`)\n",
    "  * Haga linting (`flake8` o `black`)\n",
    "  * Construya imagen Docker si todo pasa correctamente\n",
    "  * (Opcional) Publicar imagen en DockerHub\n",
    "\n",
    "#### Sugerencias de monitoreo\n",
    "\n",
    "* Implementar logging de inputs y outputs en archivo CSV o SQLite\n",
    "* Proponer métrica de estabilidad: distribución de clases predichas\n",
    "* Revisión periódica de `accuracy` con datos nuevos\n",
    "* Alertas por desviación (drift) en la distribución de inputs\n",
    "\n",
    "\n",
    "\n",
    "### Herramientas sugeridas\n",
    "\n",
    "* `scikit-learn`, `pandas`, `numpy`\n",
    "* `matplotlib`, `seaborn`, `plotly`, `dash`\n",
    "* `joblib`, `fastapi`, `pydantic`\n",
    "* `docker`, `pytest`, `flake8`, `GitHub Actions`\n",
    "\n",
    "\n",
    "\n",
    "### Entregables\n",
    "\n",
    "1. **Notebook** con:\n",
    "\n",
    "   * Preprocesamiento\n",
    "   * Modelado con SVM y ajuste con `GridSearchCV`\n",
    "   * Evaluación y visualizaciones\n",
    "2. **App Dash** (`app.py`) con dashboard interactivo\n",
    "3. **API FastAPI** (`api.py`) con endpoints funcionales\n",
    "4. **Dockerfile** funcional\n",
    "5. **Flujo CI/CD** (`.github/workflows/ci.yml`)\n",
    "6. **README.md** con:\n",
    "\n",
    "   * Descripción del proyecto\n",
    "   * Instrucciones de ejecución del dashboard y API\n",
    "   * Diagrama simple de la arquitectura del flujo completo\n",
    "\n",
    "\n",
    "\n",
    "### Resumen\n",
    "\n",
    "| Dataset                | Tarea             | Tamaño  | Ventajas principales                                     |\n",
    "| ---------------------- | ----------------- | ------- | -------------------------------------------------------- |\n",
    "| Forest CoverType (UCI) | Clasificación SVM | 581 012 | Real, multiclase, variables geográficas, apto para MLOps |\n"
   ]
  },
  {
   "cell_type": "markdown",
   "metadata": {},
   "source": [
    "### Instrucciones para el MLOps"
   ]
  },
  {
   "cell_type": "markdown",
   "metadata": {},
   "source": [
    "### Estructura general del proyecto\n",
    "\n",
    "```\n",
    "forest-cover-svm/\n",
    "├── data/\n",
    "│   └── cover\\_type.csv\n",
    "├── notebooks/\n",
    "│   └── model\\_training.ipynb\n",
    "├── app/\n",
    "│   ├── api.py\n",
    "│   ├── app\\_dash.py\n",
    "│   └── model.joblib\n",
    "├── Dockerfile\n",
    "├── requirements.txt\n",
    "├── .github/\n",
    "│   └── workflows/\n",
    "│       └── ci.yml\n",
    "└── README.md\n",
    "````\n",
    "\n",
    "\n",
    "\n",
    "### `api.py` — Servicio de inferencia con FastAPI\n",
    "\n",
    "```python\n",
    "from fastapi import FastAPI\n",
    "from pydantic import BaseModel\n",
    "import joblib\n",
    "import numpy as np\n",
    "\n",
    "app = FastAPI()\n",
    "model = joblib.load(\"app/model.joblib\")\n",
    "\n",
    "class ForestInput(BaseModel):\n",
    "    features: list[float]\n",
    "\n",
    "@app.post(\"/predict\")\n",
    "def predict(data: ForestInput):\n",
    "    X = np.array(data.features).reshape(1, -1)\n",
    "    prediction = model.predict(X)\n",
    "    return {\"cover_type\": int(prediction[0])}\n",
    "````\n",
    "\n",
    "\n",
    "\n",
    "### `app_dash.py` — Dashboard interactivo con Dash y Plotly\n",
    "\n",
    "```python\n",
    "import dash\n",
    "from dash import dcc, html, Input, Output\n",
    "import joblib\n",
    "import numpy as np\n",
    "\n",
    "model = joblib.load(\"app/model.joblib\")\n",
    "\n",
    "app = dash.Dash(__name__)\n",
    "server = app.server\n",
    "\n",
    "app.layout = html.Div([\n",
    "    html.H2(\"Forest Cover Type Prediction (SVM)\"),\n",
    "    dcc.Input(id='input-features', type='text', placeholder='Enter 54 comma-separated values'),\n",
    "    html.Button('Predict', id='predict-button'),\n",
    "    html.Div(id='output-prediction')\n",
    "])\n",
    "\n",
    "@app.callback(\n",
    "    Output('output-prediction', 'children'),\n",
    "    Input('predict-button', 'n_clicks'),\n",
    "    Input('input-features', 'value')\n",
    ")\n",
    "def make_prediction(n_clicks, input_str):\n",
    "    if n_clicks and input_str:\n",
    "        try:\n",
    "            features = np.array([float(i) for i in input_str.split(',')]).reshape(1, -1)\n",
    "            pred = model.predict(features)[0]\n",
    "            return f\"Predicted Cover Type: {pred}\"\n",
    "        except:\n",
    "            return \"Error: Invalid input\"\n",
    "    return \"\"\n",
    "\n",
    "if __name__ == \"__main__\":\n",
    "    app.run_server(debug=True)\n",
    "```\n",
    "\n",
    "\n",
    "\n",
    "### `Dockerfile` — Contenerización del proyecto\n",
    "\n",
    "```docker\n",
    "FROM python:3.10-slim\n",
    "\n",
    "WORKDIR /app\n",
    "\n",
    "COPY requirements.txt .\n",
    "RUN pip install --no-cache-dir -r requirements.txt\n",
    "\n",
    "COPY app/ ./app/\n",
    "COPY app/api.py .\n",
    "COPY app/app_dash.py .\n",
    "COPY app/model.joblib ./app/model.joblib\n",
    "\n",
    "EXPOSE 8000\n",
    "\n",
    "CMD [\"uvicorn\", \"api:app\", \"--host\", \"0.0.0.0\", \"--port\", \"8000\"]\n",
    "```\n",
    "\n",
    "\n",
    "\n",
    "### `requirements.txt` — Dependencias del entorno\n",
    "\n",
    "```\n",
    "fastapi\n",
    "uvicorn\n",
    "joblib\n",
    "numpy\n",
    "pandas\n",
    "scikit-learn\n",
    "dash\n",
    "plotly\n",
    "```\n",
    "\n",
    "\n",
    "\n",
    "### `.github/workflows/ci.yml` — Flujo de CI con GitHub Actions\n",
    "\n",
    "```yaml\n",
    "name: CI Pipeline\n",
    "\n",
    "on:\n",
    "  push:\n",
    "    branches: [ main ]\n",
    "  pull_request:\n",
    "    branches: [ main ]\n",
    "\n",
    "jobs:\n",
    "  build-test:\n",
    "    runs-on: ubuntu-latest\n",
    "\n",
    "    steps:\n",
    "    - name: Checkout repo\n",
    "      uses: actions/checkout@v3\n",
    "\n",
    "    - name: Set up Python\n",
    "      uses: actions/setup-python@v4\n",
    "      with:\n",
    "        python-version: 3.10\n",
    "\n",
    "    - name: Install dependencies\n",
    "      run: |\n",
    "        pip install -r requirements.txt\n",
    "        pip install flake8 pytest\n",
    "\n",
    "    - name: Lint code\n",
    "      run: flake8 app/ --ignore=E501\n",
    "\n",
    "    - name: Run unit tests\n",
    "      run: pytest tests/\n",
    "\n",
    "    - name: Build Docker image\n",
    "      run: docker build -t forest-svm-api .\n",
    "```\n",
    "\n",
    "\n",
    "\n",
    "### `README.md` — Instrucciones base para el usuario\n",
    "\n",
    "````markdown\n",
    "# Forest Cover Classification with SVM\n",
    "\n",
    "This project trains an SVM classifier on the Forest CoverType dataset, exposes it via a FastAPI service, and visualizes predictions using a Dash dashboard.\n",
    "\n",
    "## Components\n",
    "- `api.py`: FastAPI service to receive feature vectors and return predictions.\n",
    "- `app_dash.py`: Dash/Plotly interface for manual prediction testing.\n",
    "- `Dockerfile`: Containerizes the entire application.\n",
    "- `.github/workflows/ci.yml`: GitHub Actions pipeline for linting, testing, and image build.\n",
    "\n",
    "## Running locally\n",
    "\n",
    "```bash\n",
    "pip install -r requirements.txt\n",
    "python app/api.py      # Run FastAPI\n",
    "python app/app_dash.py # Run dashboard\n",
    "````\n",
    "\n",
    "### Docker\n",
    "\n",
    "```bash\n",
    "docker build -t forest-svm-api .\n",
    "docker run -p 8000:8000 forest-svm-api\n",
    "```"
   ]
  },
  {
   "cell_type": "code",
   "execution_count": null,
   "metadata": {},
   "outputs": [],
   "source": []
  },
  {
   "cell_type": "code",
   "execution_count": null,
   "metadata": {},
   "outputs": [],
   "source": []
  },
  {
   "cell_type": "code",
   "execution_count": null,
   "metadata": {},
   "outputs": [],
   "source": []
  },
  {
   "cell_type": "code",
   "execution_count": null,
   "metadata": {},
   "outputs": [],
   "source": []
  }
 ],
 "metadata": {
  "kernelspec": {
   "display_name": "tf",
   "language": "python",
   "name": "tf"
  },
  "language_info": {
   "codemirror_mode": {
    "name": "ipython",
    "version": 3
   },
   "file_extension": ".py",
   "mimetype": "text/x-python",
   "name": "python",
   "nbconvert_exporter": "python",
   "pygments_lexer": "ipython3",
   "version": "3.10.12"
  }
 },
 "nbformat": 4,
 "nbformat_minor": 4
}
