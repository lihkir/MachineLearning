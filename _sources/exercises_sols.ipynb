{
 "cells": [
  {
   "cell_type": "markdown",
   "id": "206bf5dd-c1da-4cca-8eac-ed85a58eac96",
   "metadata": {},
   "source": [
    "# Solución a ejercicios"
   ]
  },
  {
   "cell_type": "markdown",
   "id": "28d8f328-8d07-4884-adc4-addd48dff1ee",
   "metadata": {},
   "source": [
    "<h2>Sección: Random Forest y XGBoost</h2>"
   ]
  },
  {
   "cell_type": "markdown",
   "id": "afaeeaaa-9a41-4356-a1d1-72cc23647189",
   "metadata": {},
   "source": [
    "<h3>Ejercicio 6</h3>"
   ]
  },
  {
   "cell_type": "code",
   "execution_count": null,
   "id": "a740ef7f-05ee-4b18-912d-1b68d4240f90",
   "metadata": {},
   "outputs": [],
   "source": []
  },
  {
   "cell_type": "code",
   "execution_count": null,
   "id": "e5d51b3f-8962-48ab-85a5-a7f9cc06131d",
   "metadata": {},
   "outputs": [],
   "source": []
  }
 ],
 "metadata": {
  "kernelspec": {
   "display_name": "tf",
   "language": "python",
   "name": "tf"
  },
  "language_info": {
   "codemirror_mode": {
    "name": "ipython",
    "version": 3
   },
   "file_extension": ".py",
   "mimetype": "text/x-python",
   "name": "python",
   "nbconvert_exporter": "python",
   "pygments_lexer": "ipython3",
   "version": "3.10.12"
  }
 },
 "nbformat": 4,
 "nbformat_minor": 5
}
