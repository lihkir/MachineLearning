{
 "cells": [
  {
   "attachments": {},
   "cell_type": "markdown",
   "metadata": {},
   "source": [
    "# Árboles de decisión"
   ]
  },
  {
   "cell_type": "markdown",
   "metadata": {},
   "source": [
    "## Análisis"
   ]
  },
  {
   "attachments": {},
   "cell_type": "markdown",
   "metadata": {},
   "source": [
    "**`Observación`**\n",
    "\n",
    "- Los árboles de clasificación `se basan en una idea simple, pero poderosa`, y se encuentran entre las `técnicas más populares de clasificación`. Son sistemas de varias etapas, y la clasificación de un patrón en una clase se realiza de forma secuencial. `A través de una serie de pruebas, las clases se rechazan de forma secuencial hasta que se llega a una decisión a favor de una clase restante`. \n",
    "\n",
    "- Cada una de las pruebas, cuyo resultado decide qué clases se rechazan, es de `tipo binario \"Sí\" o \"No\" y se aplica a una sola característica`. Nuestro objetivo es presentar la filosofía principal en torno a un tipo especial de árboles conocidos como **`árboles de clasificación binarios ordinarios (OBCT)`**. Estos, pertenecen a una clase más general de métodos que construyen árboles, tanto para la clasificación como para la regresión, conocidos como `árboles de clasificación y regresión (CART)`."
   ]
  },
  {
   "attachments": {},
   "cell_type": "markdown",
   "metadata": {},
   "source": [
    "**`Formulación`**"
   ]
  },
  {
   "attachments": {},
   "cell_type": "markdown",
   "metadata": {},
   "source": [
    "- La idea básica de los `OBCT` es `dividir el espacio de características en (hiper)rectángulos`; es decir, el espacio se divide mediante hiperplanos, que son paralelos a los ejes. Esto se ilustra en la {numref}`fig_decision_hypplanes_obct`"
   ]
  },
  {
   "attachments": {},
   "cell_type": "markdown",
   "metadata": {},
   "source": [
    "```{figure} ./imgs/decision_hypplanes_obct.png\n",
    ":name: fig_decision_hypplanes_obct\n",
    ":align: center\n",
    ":scale: 60\n",
    "Partición de espacio de características. Árbol de clasificación (OBCT). Fuente {cite}`theodoridis2020machine`.\n",
    "```"
   ]
  },
  {
   "attachments": {},
   "cell_type": "markdown",
   "metadata": {},
   "source": [
    "- La partición del espacio en `(hiper)rectángulos` se realiza mediante una serie de `\"preguntas\"` de esta forma: `¿es el valor de la característica` $x_{i} < a$?. Este también se conoce como el `criterio de división`. La secuencia de preguntas puede realizarse de forma agradable mediante el uso de un árbol. La {numref}`fig_decision_tree_obct` muestra el árbol correspondiente al caso ilustrado\n",
    "en la {numref}`fig_decision_hypplanes_obct`."
   ]
  },
  {
   "attachments": {},
   "cell_type": "markdown",
   "metadata": {},
   "source": [
    "```{figure} ./imgs/decision_tree_obct.png\n",
    ":name: fig_decision_tree_obct\n",
    ":align: center\n",
    ":scale: 60\n",
    "Árbol de clasificación (OBCT). Partición del espacio para {numref}`fig_decision_hypplanes_obct`. Fuente {cite}`theodoridis2020machine`.\n",
    "```"
   ]
  },
  {
   "attachments": {},
   "cell_type": "markdown",
   "metadata": {},
   "source": [
    "```{admonition} Observación\n",
    "Cada nodo del árbol realiza una prueba contra una característica individual y, si este no es un `nodo hoja (sin división adicional)`, este es conectado a dos `nodos descendientes (nodo de decisión)`: uno está asociado a la `respuesta \"Yes\"` y el otro a la `respuesta \"No\"`.\n",
    "```"
   ]
  },
  {
   "attachments": {},
   "cell_type": "markdown",
   "metadata": {},
   "source": [
    "- Partiendo del nodo raíz, se realiza un recorrido de decisiones sucesivas hasta llegar a un nodo hoja. `Cada nodo hoja está asociado a una única clase`. La `asignación de un punto a una clase se realiza según la etiqueta del nodo hoja correspondiente`. Este tipo de clasificación es conceptualmente simple y fácil de interpretar. Por ejemplo, en un `sistema de diagnóstico médico`, se puede empezar con una pregunta: `¿La temperatura es alta?` si la respuesta es afirmativa, una segunda pregunta puede ser: `¿Presenta moquea?`. El proceso continúa hasta que se llega a una `decisión final sobre la enfermedad`.\n",
    "\n",
    "- Además, los árboles son útiles para `construir sistemas de razonamiento en la inteligencia artificial`. Por ejemplo, la existencia de objetos específicos, que se deduce a través de una serie de preguntas relacionadas, basadas en los valores de ciertas características (de alto nivel), puede conducir al `reconocimiento de una escena o de un objeto representado en una imagen`.\n",
    "\n",
    "- Una vez desarrollado el árbol, la clasificación es sencilla. El mayor reto consiste en `construir el árbol, explotando la información que reside en el conjunto de datos de entrenamiento`. Las principales preguntas a las que uno se enfrenta al diseñar un árbol, entre otras que se discutirán más adelante, son:\n",
    "\n",
    "    - `¿Qué criterio de división debe adoptarse?`\n",
    "    - `¿Cuándo se debe detener el crecimiento de un árbol y declarar un nodo como final?`\n",
    "    - `¿Cómo se asocia un nodo hoja a una clase concreta?`"
   ]
  },
  {
   "attachments": {},
   "cell_type": "markdown",
   "metadata": {},
   "source": [
    "**`Criterio de división`**: Ya hemos dicho que las preguntas que se hacen en cada nodo son del tipo\n",
    "\n",
    "$$\n",
    "\\text{¿es}~x_{i} < a\\text{?}\n",
    "$$\n",
    "\n",
    "- El objetivo es `seleccionar un valor adecuado para el umbral` $a$. Supongamos que, partiendo del nodo raíz, el árbol ha crecido hasta el `nodo actual` $t$. Cada nodo, $t$, está asociado a un subconjunto $X_{t}\\subseteq X$ del `conjunto de datos de entrenamiento`, $X$. Este es el `conjunto de los puntos de entrenamiento que han sobrevivido a este nodo, después de las pruebas que han tenido lugar en los nodos anteriores del árbol`. \n",
    "\n",
    "- Por ejemplo, en la {numref}`fig_decision_tree_obct`, `un número de puntos, que pertenecen, digamos, a la clase` $\\omega_{1}$, `no participarán en el nodo` $t_{1}$ porque `ya han sido asignados en un nodo hoja previamente etiquetado`. El propósito de un criterio de división es `dividir` $X_{t}$ `en dos subconjuntos disyuntos, digamos` $X_{tY}$`, y` $X_{tN}$`, dependiendo de la respuesta a la pregunta específica en el nodo` $t$. Para cada división, se cumple lo siguiente:\n",
    "\n",
    "$$\n",
    "\\begin{align}\n",
    "X_{tY}\\cap X_{tN}&=\\emptyset\\\\\n",
    "X_{tY}\\cup X_{tN}&=X_{t}\n",
    "\\end{align}\n",
    "$$"
   ]
  },
  {
   "attachments": {},
   "cell_type": "markdown",
   "metadata": {},
   "source": [
    "- El objetivo en cada nodo es seleccionar qué característica se va a probar y también cuál es el mejor valor del umbral $a$. `La filosofía adoptada es hacer la elección de manera que cada división genere conjuntos,` $X_{tY}$,  $X_{tN}$`, que sean más homogéneos en cuanto a la clase en comparación con` $X_{t}$. En otras palabras, los datos en cada uno de los dos conjuntos descendientes deben mostrar una mayor preferencia por clases específicas, en comparación con el conjunto antecesor. \n",
    "\n",
    "- En la terminología adoptada, los conjuntos $X_{tY}$ y $X_{tN}$ `deben ser más puros en comparación con` $X_{t}$ . Así pues, primero debemos `seleccionar un criterio que mida la impureza` y, a continuación, `calcular el valor umbral y elegir la característica específica` (que se va a probar) para `maximizar la disminución de la impureza del nodo`.\n",
    "\n",
    "- Por ejemplo, una `medida común para cuantificar la impureza del nodo,` $t$`, es la entropía`, definida como\n",
    "\n",
    "$$\n",
    "I(t)=-\\sum_{m=1}^{M}P(\\omega_{m}|t)\\log_{2}P(\\omega_{m}|t)\n",
    "$$"
   ]
  },
  {
   "cell_type": "markdown",
   "metadata": {},
   "source": [
    "````{figure} ./imgs/entropy_function.png\n",
    ":name: entropy_function_fig\n",
    ":align: center\n",
    ":scale: 20\n",
    "\n",
    "Función de entropía $I(t)$ para clasificación binaria.\n",
    "````"
   ]
  },
  {
   "attachments": {},
   "cell_type": "markdown",
   "metadata": {},
   "source": [
    "- `El valor máximo de` $I(t)$ `se produce si todas las probabilidades son iguales (máxima impureza)`, y `el valor más pequeño, que es igual a cero, cuando sólo uno de los valores de probabilidad es uno y el resto es igual a cero`. Las probabilidades se aproximan como\n",
    "\n",
    "$$\n",
    "P(\\omega_{m}|t)=\\frac{N_{t}^{m}}{N_{t}},\\quad m=1,2,\\dots,M,\n",
    "$$\n",
    "\n",
    "- $N_{t}^{m}$ es el `número de puntos de la clase` $m$ `en` $X_{t}$, y $N_{t}$ el `número total de puntos en` $X_{t}$. La `disminución de la impureza del nodo`, tras dividir los datos en dos conjuntos, se define como\n",
    "\n",
    "    $$\n",
    "    \\Delta I(t)=I(t)-\\frac{N_{t_{Y}}}{N_{t}}I(t_{Y})-\\frac{N_{t_{N}}}{N_{t}}I(t_{N}),\n",
    "    $$\n",
    "\n",
    "    donde $I(t_{Y})$ y $I(t_{N})$ son las `impurezas asociadas a los dos nuevos conjuntos`, respectivamente. Esto es, disminución de la impureza del nodo es la `diferencia entre la entropía de un nodo padre y la suma ponderada de las entropías de sus nodos hijos`. A esta última expresión $\\Delta I(t)$, también se le conoce como `ganancia de información`."
   ]
  },
  {
   "cell_type": "markdown",
   "metadata": {},
   "source": [
    "```{admonition} Ejemplo: Cálculo de Entropía\n",
    ":class: tip\n",
    "\n",
    "Calculemos el `índice de entropía` $I(t)$ para `3 casos diferentes` de un conjunto con `4 balotas` de dos colores diferentes, `rojo y azul`:\n",
    "\n",
    "- 4 balotas rojas y 0 balotas azules:\n",
    "\n",
    "$$\n",
    "\\begin{align*}\n",
    "I(t)&=-P(\\text{rojo})\\cdot\\log_{2}(P(\\text{rojo}))-P(\\text{azul})\\cdot\\log_{2}(P(\\text{azul}))\\\\\n",
    "&=-\\frac{4}{4}\\cdot\\log_{2}\\frac{4}{4}-\\frac{0}{4}\\cdot\\log_{2}\\frac{0}{4}=0\n",
    "\\end{align*}\n",
    "$$\n",
    "\n",
    "- 2 balotas rojas y 2 balotas azules:\n",
    "\n",
    "$$\n",
    "\\begin{align*}\n",
    "I(t)&=-P(\\text{rojo})\\cdot\\log_{2}(P(\\text{rojo}))-P(\\text{azul})\\cdot\\log_{2}(P(\\text{azul}))\\\\\n",
    "&=-\\frac{2}{4}\\cdot\\log_{2}\\frac{2}{4}-\\frac{2}{4}\\cdot\\log_{2}\\frac{2}{4}=1\n",
    "\\end{align*}\n",
    "$$\n",
    "\n",
    "- 3 balotas rojas y 1 balota azul:\n",
    "\n",
    "$$\n",
    "\\begin{align*}\n",
    "I(t)&=-P(\\text{rojo})\\cdot\\log_{2}(P(\\text{rojo}))-P(\\text{azul})\\cdot\\log_{2}(P(\\text{azul}))\\\\\n",
    "&=-\\frac{3}{4}\\cdot\\log_{2}\\frac{3}{4}-\\frac{1}{4}\\cdot\\log_{2}\\frac{1}{4}=0.811\n",
    "\\end{align*}\n",
    "$$\n",
    "```"
   ]
  },
  {
   "cell_type": "markdown",
   "metadata": {},
   "source": [
    "````{figure} ./imgs/entropy_decision_tree.png\n",
    ":align: center\n",
    ":name: trees_entropy_fig\n",
    ":scale: 40\n",
    "\n",
    "Pureza de nodos en un árbol de decisión. Fuente `towardsdatascience`.\n",
    "````"
   ]
  },
  {
   "cell_type": "markdown",
   "metadata": {},
   "source": [
    "- El objetivo ahora es `seleccionar la característica específica` $x_{i}$ `y el umbral` $a_{t}$ tal que, $\\Delta I(t)$ sea máximo. Esto definirá ahora `dos nuevos nodos descendientes` de $t$, a saber, $t_{N}$ y $t_{Y}$; así, el árbol crece con dos nuevos nodos. Una forma de `buscar distintos valores umbral` es la siguiente:\n",
    "\n",
    "    1. `Para cada una de las características` $x_{i},~i=1,2\\dots,l$`, realice un ranking de los valores` $x_{in},~n=1,2,\\dots,N_{t}$`, que toma esta característica entre los puntos en` $X_{t}$.\n",
    "    2. A continuación, `defina una secuencia de valores umbral correspondientes`, $a_{in}$ `que estén en el medio, entre valores distintos consecutivos de` $x_{in}$\n",
    "    3. Seguidamente, `compruebe el cambio de impureza que se produce para cada uno de estos valores umbral` y quédese con el que consiga la `máxima disminución`.\n",
    "    4. `Repita el proceso para todas las características` y, por último, `quédese con la combinación que dé como resultado la mejor disminución máxima`."
   ]
  },
  {
   "cell_type": "markdown",
   "metadata": {},
   "source": [
    "- Además de la `entropía`, pueden utilizarse otros `índices de medición de impurezas`. Una alternativa popular, que da como resultado un `máximo ligeramente superior que el de entropía`, es el llamado `índice de Gini`, definido como\n",
    "\n",
    "$$\n",
    "I(t)=\\sum_{m=1}^{M}P(\\omega_{m}|t)(1-P(\\omega_{m}|t)).\n",
    "$$\n",
    "\n",
    "- Este índice también es `cero si uno de los valores de probabilidad es igual a 1 y el resto son cero`, y toma\n",
    "su valor `máximo cuando todas las clases son equiprobables`."
   ]
  },
  {
   "cell_type": "markdown",
   "metadata": {},
   "source": [
    "```{admonition} Regla de detención de división (stop-splitting)\n",
    ":class: tip\n",
    "\n",
    "- La pregunta obvia cuando crece un árbol es `cuándo dejar de cultivarlo`. Una forma posible es `adoptar un valor umbral, `$T$`, y dejar de dividir un nodo una vez que el valor máximo` $\\Delta I(t)$`, para todas las divisiones posibles, sea menor que` $T$. \n",
    "- Otra posibilidad es parar cuando la cardinalidad de $X_{t}$ es menor que un número determinado o si el `nodo es puro, en el sentido de que todos los puntos que lo componen pertenecen a una única clase`.\n",
    "```"
   ]
  },
  {
   "cell_type": "markdown",
   "metadata": {},
   "source": [
    "```{admonition} Regla de asignación de clase\n",
    ":class: tip\n",
    "Una vez que se declara que un `nodo` $t$` es un nodo hoja, se le asigna una etiqueta de clase`; normalmente por mayoría. Es decir, `se le asigna la etiqueta de la clase a la que pertenecen la mayoría de los datos de` $X_{t}$.\n",
    "```"
   ]
  },
  {
   "cell_type": "markdown",
   "metadata": {},
   "source": [
    "```{admonition} Podado del árbol\n",
    ":class: tip\n",
    "- La experiencia ha demostrado que `el crecimiento de un árbol y el uso de una regla de parada no siempre funciona bien en la práctica`; el crecimiento puede detenerse antes de tiempo o puede dar lugar a árboles de tamaño muy grande. \n",
    "- Una práctica común es `hacer crecer primero un árbol hasta un tamaño grande y luego adoptar una técnica de poda para eliminar nodos`. Se pueden utilizar diferentes criterios de poda; uno muy popular es `combinar una estimación de la probabilidad de error con un índice de medición de la complejidad` {cite}`breiman1984cart, ripley2007pattern`.\n",
    "```"
   ]
  },
  {
   "cell_type": "markdown",
   "metadata": {},
   "source": [
    "```{prf:observation}\n",
    ":label: observation_dt3\n",
    "\n",
    "1. Entre las notables ventajas de los árboles de decisión está el hecho de que `pueden tratar de forma natural mezclas de variables numéricas y categóricas`. Además, `se adaptan bien a grandes conjuntos de datos`. `Pueden tratar eficazmente datos faltantes`. En muchos dominios, no se conocen todos los valores de las características para cada patrón. Los valores pueden no haber sido registrados, o pueden ser demasiado costosos de obtener.\n",
    "\n",
    "2. Debido a su simplicidad estructural, son `fácilmente interpretables`; en otras palabras, `es posible que un humano entienda la razón de la salida del algoritmo de aprendizaje`. En algunas, como en las decisiones financieras, esto es un requisito legal. Por otro lado, `el rendimiento de predicción de los clasificadores de árbol no es tan bueno como el de otros métodos`, como las `máquinas de soporte vectorial` y las `redes neuronales`, que se tratarán en posteriores capítulos\n",
    "\n",
    "3. Uno de los `principales inconvenientes asociados a los clasificadores de árbol es que son inestables`. Es decir, un `pequeño cambio en el conjunto de datos de entrenamiento puede dar lugar a un árbol muy diferente`. La razón de esto radica en la `naturaleza jerárquica de los clasificadores de árbol`. Un error que se produce en un nodo en un nivel alto del árbol se propaga hasta las hojas inferiores.\n",
    "```"
   ]
  },
  {
   "cell_type": "markdown",
   "metadata": {},
   "source": [
    "```{admonition} Bagging (Bootstrap Aggregating)\n",
    ":class: tip\n",
    "`Bagging (Bootstrap Aggregating)` es una técnica que puede `reducir la varianza y mejorar el rendimiento del error de generalización`.\n",
    "\n",
    "- La idea básica es `crear un número de variantes` $B$, $~X_{1}, X_{2},\\dots, X_{B}$`, del conjunto de entrenamiento,` $X$`, utilizando técnicas bootstrap`, mediante un muestreo uniforme de $X$ con reemplazo. \n",
    "- `Para cada una de las variantes del conjunto de entrenamiento,` $X_{i}$`, se construye un árbol,` $T_{i}$. \n",
    "- La decisión final para la clasificación de un punto dado es a favor de la `clase predicha por la mayoría de los arboles subclasificadores`, $T_{i}, i = 1, 2,\\dots, B$ {cite}`breiman1996bagging`.\n",
    "```"
   ]
  },
  {
   "cell_type": "markdown",
   "metadata": {},
   "source": [
    "```{admonition} Bosques Aleatorios (Random Forest)\n",
    ":class: tip\n",
    "Los `Bosques Aleatorios (Random Forest) utilizan la idea de bagging junto con la selección aleatoria de características` {cite}`breiman2001random`. La diferencia con el bagging radica en la forma en que se construyen los árboles de decisión. \n",
    "\n",
    "- `La característica a dividir en cada nodo se selecciona como la mejor entre un conjunto de` $F$ `características elegidas al azar`, donde $F$ es un parámetro definido por el usuario. \n",
    "- Esta `aleatoriedad adicional introducida tiene un efecto sustancial en la mejora del rendimiento`. Los bosques aleatorios suelen tener una `precisión predictiva muy buena` y se han utilizado en una serie de aplicaciones, como el `reconocimiento de la postura del cuerpo en términos del popular sensor Kinect de Microsoft` {cite}`shotton2011real`.\n",
    "```"
   ]
  },
  {
   "attachments": {},
   "cell_type": "markdown",
   "metadata": {},
   "source": [
    "\n",
    "- Además de los métodos anteriores, recientemente, también se han sugerido `técnicas Bayesianas utilizadas para estabilizar el rendimiento de los árboles`; véase {cite}`chipman2010bart, wu2007bayesian`. Por supuesto, `el efecto de utilizar múltiples árboles, es perder una de las principales ventajas de los árboles, su facilidad de interpretación.`"
   ]
  },
  {
   "attachments": {},
   "cell_type": "markdown",
   "metadata": {},
   "source": [
    "## Combinación de clasificadores"
   ]
  },
  {
   "attachments": {},
   "cell_type": "markdown",
   "metadata": {},
   "source": [
    "- Hasta ahora, hemos revisado en detalle una serie de clasificadores, y se presentarán más métodos en las siguientes secciones, relativos a las `máquinas de vectores de soporte` y las `redes neuronales`. La pregunta obvia a la que se enfrenta un profesional/investigador sin experiencia es: `¿qué método uso entonces? Por desgracia, no hay una respuesta definitiva.`"
   ]
  },
  {
   "cell_type": "markdown",
   "metadata": {},
   "source": [
    "```{admonition} No free lunch theorem\n",
    "\n",
    "- El objetivo del diseño de cualquier clasificador, y en general de cualquier esquema de aprendizaje es `proporcionar un buen rendimiento de generalización`. Sin embargo, no hay razones independientes del contexto o del uso para apoyar una técnica de aprendizaje en lugar de otra. \n",
    "\n",
    "- `Cada tarea de aprendizaje, representada por el conjunto de datos disponible, mostrará una preferencia por un esquema de aprendizaje específico` que se ajuste a las especificidades del problema en cuestión. \n",
    "\n",
    "- `Un algoritmo que obtiene la máxima puntuación en un problema puede obtener una puntuación baja en otro`. Esto se resume a veces como el **`Teorema de la no gratuidad (No free lunch theorem)`**\n",
    "````"
   ]
  },
  {
   "cell_type": "markdown",
   "metadata": {},
   "source": [
    "\n",
    "\n",
    "- En la práctica, hay que `probar diferentes métodos de aprendizaje dentro de los disponibles`, cada uno optimizado para la tarea específica, y `probar su rendimiento de generalización` con un conjunto de datos independiente distinto del utilizado para el entrenamiento, utilizando, por ejemplo, el método de exclusión o cualquiera de sus variantes. \n",
    "\n",
    "- A continuación, `se mantiene y se utiliza el método que ha obtenido la mejor puntuación para la tarea específica`. Con este fin, hay una serie de esfuerzos importantes para comparar diferentes clasificadores contra diferentes conjuntos de datos y `medir el rendimiento \"medio\", mediante el uso de diferentes índices estadísticos para cuantificar el rendimiento global de cada clasificador` frente a los conjuntos de datos."
   ]
  },
  {
   "attachments": {},
   "cell_type": "markdown",
   "metadata": {},
   "source": [
    "**`Esquemas de combinación de clasificadores`**"
   ]
  },
  {
   "attachments": {},
   "cell_type": "markdown",
   "metadata": {},
   "source": [
    "- Una tendencia para `mejorar el rendimiento` es `combinar diferentes clasificadores y explotar sus ventajas individuales`. Una observación que justifica este enfoque es que, durante las pruebas, `hay patrones en los que incluso el mejor clasificador para una tarea concreta no logra predecir su verdadera clase`. En cambio, `los mismos patrones pueden ser clasificados correctamente por otros clasificadores, con un rendimiento global inferior`. \n",
    "\n",
    "- Esto muestra que puede haber cierta `complementariedad entre los distintos clasificadores`, y la combinación puede conducir a un `mayor rendimiento en comparación con el obtenido por el mejor (único) clasificador`. Recordemos que `el bagging mencionado anteriormente, es un tipo de combinación de clasificadores`. La cuestión que se plantea ahora es seleccionar un `esquema de combinación`. Hay diferentes esquemas, y los resultados que proporcionan pueden ser diferentes. A continuación, `resumimos los esquemas de combinación más populares`."
   ]
  },
  {
   "cell_type": "markdown",
   "metadata": {},
   "source": [
    "```{admonition} Regla de la media aritmética\n",
    "Suponiendo que utilizamos $L$ clasificadores, en los que `cada uno da un valor de probabilidad posterior`, $P_{j}(\\omega_{i}|\\boldsymbol{x}), i = 1,2,\\dots,M,~j = 1, 2, . . . L$, la decisión sobre `la asignación de la clase se basa en la siguiente regla`:\n",
    "\n",
    "$$\n",
    "\\text{Asignar}~\\boldsymbol{x}~\\text{a la clase}~\\omega_{i}=\\textrm{arg}\\max_{k}\\frac{1}{L}\\sum_{j=1}^{L}P_{j}(\\omega_{k}|\\boldsymbol{x}),\\quad k=1,2,\\dots,M.\n",
    "$$\n",
    "\n",
    "Esta regla equivale a calcular la `probabilidad posterior \"final\"`, $P(\\omega_{i}|\\boldsymbol{x})$, por medio de `minimización de la distancia media de Kullback-Leibler`\n",
    "\n",
    "$$\n",
    "D_{av}=\\frac{1}{L}\\sum_{j=1}^{L}D_{j},~\\text{donde}~D_{j}=\\sum_{i=1}^{M}P_{j}(\\omega_{i}|\\boldsymbol{x})\\ln\\frac{P_{j}(\\omega_{i}|\\boldsymbol{x})}{P(\\omega_{i}|\\boldsymbol{x})}.\n",
    "$$\n",
    "```"
   ]
  },
  {
   "cell_type": "markdown",
   "metadata": {},
   "source": [
    "```{admonition} Regla de promedio geométrica\n",
    "Esta regla es el resultado de `minimizar la formulación alternativa de distancia de Kullback-Leibler` (nótese que esta distancia no es simétrica); en otras palabras\n",
    "\n",
    "$$\n",
    "D_{j}=\\sum_{i=1}^{M}P(\\omega_{i}|\\boldsymbol{x})\\ln\\frac{P(\\omega_{i}|\\boldsymbol{x})}{P_{j}(\\omega_{i}|\\boldsymbol{x})},\n",
    "$$\n",
    "\n",
    "lo que da lugar a\n",
    "\n",
    "$$\n",
    "\\text{Asignar}~\\boldsymbol{x}~\\text{a la clase}~\\omega_{i}=\\textrm{arg}\\max_{k}\\prod_{j=1}^{L} P_{j}(\\omega_{k}|\\boldsymbol{x}),\\quad k=1,2,\\dots,M.\n",
    "$$\n",
    "```"
   ]
  },
  {
   "attachments": {},
   "cell_type": "markdown",
   "metadata": {},
   "source": [
    "```{admonition} Apilamiento (Stacking)\n",
    "Una forma alternativa es utilizar una `media ponderada de las salidas de los clasificadores individuales`, donde `los pesos de la combinación se obtienen de forma óptima utilizando los datos de entrenamiento`. Supongamos que la salida de cada `clasificador individual`, $f_{j}(x)$, es de tipo suave (`infinitamente diferenciable`); por ejemplo, una estimación de probabilidad posterior, como antes. Entonces, `la salida combinada viene dada por`\n",
    "\n",
    "$$\n",
    "f(\\boldsymbol{x})=\\sum_{j=1}^{L}\\omega_{j}f_{j}(\\boldsymbol{x}),\n",
    "$$\n",
    "\n",
    "donde `los pesos son estimados vía la siguiente tarea de optimización`:\n",
    "\n",
    "$$\n",
    "\\hat{\\boldsymbol{\\omega}}=\\textrm{arg}\\min_{\\boldsymbol{\\omega}}\\sum_{n=1}^{N}\\mathcal{L}(y_{n}, f(\\boldsymbol{x}_{n}))=\\textrm{arg}\\min_{\\boldsymbol{\\omega}}\\sum_{n=1}^{N}\\mathcal{L}\\left(y_{n}, \\sum_{j=1}^{L}\\omega_{j}f_{j}(\\boldsymbol{x}_{n})\\right)\n",
    "$$\n",
    "\n",
    "donde, $\\mathcal{L}(\\cdot,\\cdot)$ es una `función de pérdida`; por ejemplo, la del `error cuadrático`.\n",
    "```"
   ]
  },
  {
   "cell_type": "markdown",
   "metadata": {},
   "source": [
    "- Sin embargo, `adoptar la anterior optimización, basada en el conjunto de datos de entrenamiento, puede conducir a un sobreajuste`. De acuerdo con el apilamiento {cite}`wolpert1992stacked` se adopta un `razonamiento de validación cruzada` y en lugar de $f_{j}(\\boldsymbol{x}_{n})$, empleamos $f_{j}^{(-n)}(\\boldsymbol{x}_{n})$, donde este último es la `salida del` $j$`-ésimo clasificador entrenado en los datos tras excluir el par` $(y_{n}, x_{n})$. En otras palabras, los pesos se estiman mediante \n",
    "\n",
    "$$\n",
    "\\hat{\\boldsymbol{\\omega}}=\\text{argmin}_{\\boldsymbol{\\omega}}\\sum_{n=1}^{N}\\mathcal{L}\\left(y_{n}, \\sum_{j=1}^{L}\\omega_{j}f_{j}^{(-n)}(\\boldsymbol{x}_{n})\\right).\n",
    "$$\n",
    "\n",
    "- A veces, `las ponderaciones tienen que ser positivas y sumar uno`, lo que da lugar a una tarea de `optimización restringida`."
   ]
  },
  {
   "cell_type": "markdown",
   "metadata": {},
   "source": [
    "```{admonition} Regla de votación por mayoría\n",
    "Los métodos anteriores pertenecen a la familia de reglas `soft-type`. Una alternativa popular es una regla `hard-type`, que se basa en un `esquema de votación`. `Se decide a favor de la clase para la que hay consenso o al menos` $l_{c}$ `clasificadores están de acuerdo en la etiqueta de clase`, donde\n",
    "\n",
    "$$\n",
    "l_{c}=\n",
    "\\begin{cases}\n",
    "\\displaystyle{\\frac{L}{2}+1}, & L~\\text{es par}\\\\\n",
    "\\displaystyle{\\frac{L+1}{2}}, & L~\\text{es impar}\n",
    "\\end{cases}\n",
    "$$\n",
    "    \n",
    "`En caso contrario, la decisión es de rechazo` (es decir, no se toma ninguna decisión).\n",
    "```"
   ]
  },
  {
   "cell_type": "markdown",
   "metadata": {},
   "source": [
    "```{admonition} Reglas del Tipo: Hard-Soft\n",
    ":class: tip\n",
    "\n",
    "Una `regla de clasificación soft` generalmente `estima las probabilidades condicionales de clase de forma explícita y, a continuación, realiza la predicción de clase basada en la mayor probabilidad estimada`. Por el contrario, la `clasificación hard` omite el requisito de estimar la probabilidad de la clase y `estima directamente el límite de clasificación`.\n",
    "```"
   ]
  },
  {
   "cell_type": "markdown",
   "metadata": {},
   "source": [
    "```{admonition} Regla de la mediana\n",
    "\n",
    "Cuando `valores atípicos están presentes`, se puede utilizar en su lugar el valor de la `mediana`:\n",
    "\n",
    "$$\n",
    "\\text{Asignar}~\\boldsymbol{x}~\\text{a la clase}~\\omega_{i}=\\textrm{arg}\\max_{k}\\textrm{median}\\{P_{j}(\\omega_{k}|\\boldsymbol{x})\\},~k=1,2,\\dots,M.\n",
    "$$"
   ]
  },
  {
   "attachments": {},
   "cell_type": "markdown",
   "metadata": {},
   "source": [
    "- Ocurre que, el `no free lunch theorem` también es válido para las reglas de combinación; `no hay una regla universalmente óptima`. Todo depende de los datos de que se disponga; véase {cite}`jain2000statistical`. Hay otras cuestiones relacionadas con la teoría de la combinación de clasificadores; por ejemplo, `¿cómo se eligen los clasificadores que se van a combinar? ¿Deben ser dependientes o independientes?`. \n",
    "\n",
    "- Además, `la combinación no implica necesariamente una mejora del rendimiento, en algunos casos, se puede experimentar una pérdida de rendimiento (mayor tasa de error) en comparación con el mejor clasificador (único)`. Por tanto, `la combinación debe realizarse con cuidado` {cite}`kuncheva2014combining, koutroumbas2008pattern`."
   ]
  },
  {
   "cell_type": "markdown",
   "metadata": {},
   "source": [
    "## Enfoque Boosting"
   ]
  },
  {
   "cell_type": "markdown",
   "metadata": {},
   "source": [
    "```{prf:observation}\n",
    ":label: observation_dt1\n",
    "\n",
    "¿**Un algoritmo de aprendizaje débil**, es decir, uno que funciona ligeramente mejor que una adivinación aleatoria, **puede convertirse en uno fuerte con un buen índice de rendimiento**?.\n",
    "```"
   ]
  },
  {
   "cell_type": "markdown",
   "metadata": {},
   "source": [
    "- El `enfoque boosting` es un procedimiento para `combinar o \"reforzar (boost)\" el rendimiento de los clasificadores débiles`(clasificadores cuyas estimaciones de parámetros suelen ser imprecisas y ofrecen un rendimiento deficiente) con el fin de `obtener un mejor clasificador`. Se diferencia del `bagging` en que es un *procedimiento determinista y genera conjuntos de entrenamiento y clasificadores secuencialmente, basándose en los resultados de la iteración anterior*. En cambio, el bagging genera los conjuntos de entrenamiento aleatoriamente y puede generar los clasificadores en paralelo."
   ]
  },
  {
   "cell_type": "markdown",
   "metadata": {},
   "source": [
    "````{admonition} Observación\n",
    ":class: tip\n",
    "- **Boosting** *asigna un peso a cada patrón en el conjunto de entrenamiento, reflejando su importancia*, y *construye un clasificador utilizando el conjunto de entrenamiento y el conjunto de pesos*. Por lo tanto, **requiere un clasificador que pueda manejar pesos en las muestras de entrenamiento** (algunos clasificadores pueden ser incapaces de admitir patrones ponderados). \n",
    "\n",
    "- En este caso, se puede *muestrear un subconjunto de los ejemplos de entrenamiento de acuerdo con la distribución de los pesos* (ponderación de muestras de entrenamiento) y *utilizar estos ejemplos para entrenar al clasificador en la siguiente etapa de la iteración*. El aprendiz final se obtiene mediante una *media ponderada de todos los aprendices de base (débiles) jerárquicamente diseñados*. Por lo tanto, el boosting también puede considerarse un *esquema para combinar diferentes aprendices*.\n",
    "````"
   ]
  },
  {
   "cell_type": "markdown",
   "metadata": {},
   "source": [
    "- Dado un *número suficiente de iteraciones, se puede mejorar significativamente lo (pobre) del aprendiz débil*. Por ejemplo, en algunos casos de clasificación, el *error de entrenamiento puede tender a cero a medida que aumenta el número de iteraciones*. El entrenamiento de un clasificador *mediante una manipulación adecuada de los datos de entrenamiento* (de hecho, *el mecanismo de ponderación identifica las muestras difíciles, las que siguen fallando, y pone más énfasis en ellas*) *se puede obtener un clasificador fuerte*. Por supuesto, como veremos más adelante, el hecho de que el error de entrenamiento tienda a cero no significa necesariamente que el error de prueba llegue a cero."
   ]
  },
  {
   "cell_type": "markdown",
   "metadata": {},
   "source": [
    "```{figure} ./imgs/boosted_tree.jpg\n",
    ":name: boosted_tree_numref\n",
    ":align: center\n",
    ":scale: 90\n",
    "Ilustración del `Arbol Boosting`: Fuente {cite}`kiangala2021effective`.\n",
    "```"
   ]
  },
  {
   "cell_type": "markdown",
   "metadata": {},
   "source": [
    "```{admonition} Algoritmo AdaBoost (Adaptive Boosting)\n",
    "\n",
    "Considere una *tarea de clasificación de dos clases* y supongamos que se nos da un conjunto de $N$ *observaciones de entrenamiento*, $(y_{n}, \\boldsymbol{x}_{n}),~n=1,2,\\dots,N$, con $y_{n}\\in\\{-1, 1\\}$. Nuestro objetivo es *diseñar un clasificador binario*,\n",
    "\n",
    "$$\n",
    "f(\\boldsymbol{x})=\\text{sgn}\\{F(\\boldsymbol{x})\\}\n",
    "$$(sign_fn_adaboost_eq)\n",
    "\n",
    "donde\n",
    "\n",
    "$$\n",
    "F(\\boldsymbol{x}):=\\sum_{k=1}^{K}a_{k}\\phi(\\boldsymbol{x};\\boldsymbol{\\theta}_{k}),\n",
    "$$(adaboosting_model_eq)\n",
    "\n",
    "y $\\phi(\\boldsymbol{x}; \\boldsymbol{\\theta}_{k})\\in\\{-1, 1\\}$, es el *clasificador base en la iteración* $k$, definido en términos de un *conjunto de parámetros*, $\\boldsymbol{\\theta}_{k},~k=1,2,\\dots, K$ *a ser estimados*.\n",
    "\n",
    "- El clasificador base se selecciona como uno binario. El conjunto de *parámetros desconocidos se obtienen mediante* `step-wise` y de forma `greedy`; es decir, en cada iteración $i$, *solo optimizamos con respecto a un único par*, $(a_{i}, \\boldsymbol{\\theta}_{i})$ *manteniendo los parámetros* $a_{k}, \\boldsymbol{\\theta}_{k},~k=1,2,\\dots,i-1$, *obtenidos en los pasos anteriores, fijos*.\n",
    "\n",
    "- Nótese que *lo ideal sería optimizar respecto a todos los parámetros desconocidos*, $a_{k}$, $k=1,2,\\dots,K$, *simultáneamente*, sin embargo, esto conduciría a una *tarea de optimización muy exigente, desde el punto de vista computacional*. Los algoritmos `greedy` son muy populares debido a su *simplicidad computacional*, y conducen a un muy *buen rendimiento en una amplia gama de tareas de aprendizaje*. \n",
    "```"
   ]
  },
  {
   "cell_type": "markdown",
   "metadata": {},
   "source": [
    "- Supongamos que *nos encontramos en el paso de iteración* $i$*-ésimo*; consideremos la *suma parcial* de términos\n",
    "\n",
    "$$\n",
    "F_{i}(\\cdot)=\\sum_{k=1}^{i}a_{k}\\phi(\\cdot; \\boldsymbol{\\theta}_{k}).\n",
    "$$\n",
    "\n",
    "- Entonces, podemos escribir la siguiente *recursion*\n",
    "\n",
    "    $$\n",
    "    F_{i}(\\cdot)=F_{i-1}(\\cdot)+a_{i}\\phi(\\cdot; \\boldsymbol{\\theta}_{i}),\\quad i=1,2,\\dots,K,\n",
    "    $$\n",
    "  \n",
    "    partiendo de una *condición inicial*. Con base en el *razonamiento greedy*, $F_{i-1}(\\cdot)$ *se supone conocido* y el objetivo es *optimizar con respecto al conjunto de parámetros* $a_{i},~\\boldsymbol{\\theta}_{i}$."
   ]
  },
  {
   "cell_type": "markdown",
   "metadata": {},
   "source": [
    "- Para la *tarea de optimización*, debe adoptarse una *función de pérdida*. Sin duda, *existen diferentes opciones, que dan distintos nombres al algoritmo derivado*. Una función de pérdida popular, utilizada para la clasificación, es la **pérdida exponencial**, definida como\n",
    "\n",
    "    $$\n",
    "    \\mathcal{L}(y, F(\\boldsymbol{x}))=\\exp(-yF(\\boldsymbol{x})):\\quad\\text{exponential loss function},\n",
    "    $$\n",
    "\n",
    "    y da lugar al **algoritmo boosting adaptativo (AdaBoost)**."
   ]
  },
  {
   "cell_type": "markdown",
   "metadata": {},
   "source": [
    "```{figure} ./imgs/loss_fn_adaboost.png\n",
    ":name: loss_fn_adaboost_fig\n",
    ":align: center\n",
    ":scale: 80\n",
    "Pérdida 0-1, exponencial, log-loss y error al cuadrado. Fuente {cite}`theodoridis2020machine`.\n",
    "```"
   ]
  },
  {
   "cell_type": "markdown",
   "metadata": {},
   "source": [
    "- La función de *pérdida exponencial*, junto con la función de *pérdida 0-1*, se muestran en {numref}`loss_fn_adaboost_fig`. *La primera puede considerarse un límite superior (diferenciable) de la función de pérdida 0-1 (no diferenciable)*. \n",
    "\n",
    "- Observe que **la pérdida exponencial coloca más peso sobre los errores de clasificación** $(yF(\\boldsymbol{x}) < 0)$ **en comparación con los correctamente identificados** $(yF(\\boldsymbol{x}) > 0)$. Empleando la función de *pérdida exponencial*, el conjunto $a_{i},\\boldsymbol{\\theta}_{i}$ se obtiene mediante la respectiva **función de coste empírica**, de la siguiente manera:\n",
    "\n",
    "$$\n",
    "\\begin{align*}\n",
    "(a_{i}, \\boldsymbol{\\theta}_{i})&=\\text{arg}\\text{min}_{a,\\boldsymbol{\\theta}}\\sum_{n=1}^{N}\\mathcal{L}(y_{n}, F(\\boldsymbol{x}_{n}))\\\\\n",
    "&=\\text{arg}\\text{min}_{a,\\boldsymbol{\\theta}}\\sum_{n=1}^{N}\\exp\\left(-y_{n}(F_{i-1}(\\boldsymbol{x}_{n})+a\\phi(\\boldsymbol{x}_{n};\\boldsymbol{\\theta}))\\right).\n",
    "\\end{align*}\n",
    "$$(costfn_adaboost_eq)"
   ]
  },
  {
   "cell_type": "markdown",
   "metadata": {},
   "source": [
    "- Esta *tarea de optimización* también se realiza en dos pasos. En primer lugar, $a$ **se trata de forma fija y optimizamos con respecto a** $\\boldsymbol{\\theta}$,\n",
    "\n",
    "    $$\n",
    "    \\begin{align*}\n",
    "    \\boldsymbol{\\theta}_{i}&=\\text{arg}\\text{min}_{a,\\boldsymbol{\\theta}}\\sum_{n=1}^{N}\\exp\\left(-y_{n}(F_{i-1}(\\boldsymbol{x}_{n})+a\\phi(\\boldsymbol{x}_{n};\\boldsymbol{\\theta}))\\right)\\\\\n",
    "    &=\\text{argmin}_{\\boldsymbol{\\theta}}\\sum_{n=1}^{N}\\omega_{n}^{(i)}\\exp(-y_{n}a\\phi(\\boldsymbol{x}_{n};\\boldsymbol{\\theta})),\n",
    "    \\end{align*}\n",
    "    $$(weights_omega_eq)\n",
    "\n",
    "    donde $\\omega_{n}^{(i)}:=\\exp(-y_{n}F_{i-1}(\\boldsymbol{x}_{n})),~n=1,2,\\dots,N.$\n",
    "\n",
    "- Observe que $\\omega_{n}^{(i)}$ *no depende ni de* $a$ *ni de* $\\phi(x_{n}; \\boldsymbol{\\theta})$, por lo que puede considerarse un **peso asociado a la muestra** $n$. Además, *su valor depende por completo de los resultados obtenidos en las pruebas anteriores*."
   ]
  },
  {
   "cell_type": "markdown",
   "metadata": {},
   "source": [
    "- Ahora nos centraremos en el coste de Ecuación {eq}`costfn_adaboost_eq`. La **optimización depende de la forma específica del\n",
    "clasificador base**. Nótese, sin embargo, que la *función de pérdida es de forma exponencial*. Además, el *clasificador\n",
    "es binario*, de modo que $\\phi(\\boldsymbol{x}, \\boldsymbol{\\theta})\\in\\{-1, 1\\}$.\n",
    "\n",
    "- Si *suponemos que* $a > 0$ (volveremos a ello pronto) la optimización de Ecuación {eq}`costfn_adaboost_eq` se ve fácilmente que es equivalente a *optimizar el siguiente coste*:\n",
    "\n",
    "    $$\n",
    "    \\boldsymbol{\\theta}_{i}=\\text{argmin}_{\\theta}P_{i},~\\text{donde}~P_{i}:=\\sum_{n=1}^{N}\\omega_{n}^{(i)}\\chi_{(-\\infty, 0]}(y_{n}\\phi(\\boldsymbol{x}_{n}, \\boldsymbol{\\theta})),\n",
    "    $$(loss_funtion_01)\n",
    "\n",
    "    y $\\chi_{(-\\infty, 0]}$ es la *función de pérdida 0-1*."
   ]
  },
  {
   "cell_type": "markdown",
   "metadata": {},
   "source": [
    "- En otras palabras, **solo contribuyen los puntos mal clasificados** ($y_{n}\\phi(\\boldsymbol{x}_{n}; \\boldsymbol{\\theta}) < 0$). Nótese que $P_{i}$ es el **error ponderado del clasificador empírico**. Claramente, cuando se minimiza el error de clasificación en la Ecuación {eq}`loss_funtion_01`, el coste de Ecuación {eq}`costfn_adaboost_eq` *también se minimiza, porque la pérdida exponencial coloca mayor peso a los puntos mal clasificados* (cota superior para $\\chi_{(-\\infty, 0]}$). \n",
    "\n",
    "- Para garantizar que $P_{i}$ permanece en el intervalo $[0, 1]$, *los pesos son normalizados a la unidad dividiendo por la suma respectiva*; nótese que esto no afecta al proceso de optimización. En otras palabras, $\\boldsymbol{\\theta}_{i}$ **puede calcularse para minimizar el error de clasificación empírico, cometido por el clasificador base**. Para clasificadores base de estructura muy simple, **dicha minimización es computacionalmente factible**."
   ]
  },
  {
   "cell_type": "markdown",
   "metadata": {},
   "source": [
    "- Una vez calculado el $\\boldsymbol{\\theta}_{i}$ óptimo, a partir de las respectivas definiciones,\n",
    "\n",
    "    $$\n",
    "    \\sum_{y_{n}\\phi(\\boldsymbol{x}_{n}; \\boldsymbol{\\theta}_{i})<0}\\omega_{n}^{(i)}=P_{i},~\\text{y}~\\sum_{y_{n}\\phi(\\boldsymbol{x}_{n}; \\boldsymbol{\\theta}_{i})>0}\\omega_{n}^{(i)}=1-P_{i}.\n",
    "    $$(Pi_eq)"
   ]
  },
  {
   "cell_type": "markdown",
   "metadata": {},
   "source": [
    "- *Combinando* las Ecuaciones {eq}`Pi_eq`-{eq}`weights_omega_eq`, se demuestra fácilmente que\n",
    "\n",
    "$$\n",
    "a_{i}=\\text{argmin}_{a}\\{\\exp(-a)(1-P_{i})+\\exp(a)P_{i}\\}.\n",
    "$$"
   ]
  },
  {
   "cell_type": "markdown",
   "metadata": {},
   "source": [
    "- *Si se toma la derivada con respecto a* $a$ *y se iguala a cero*, se obtiene\n",
    "\n",
    "$$\n",
    "\\frac{\\partial}{\\partial a_{i}}(\\exp(-a_{i})(1-P_{i})+\\exp(a_{i})P_{i})=0\\Leftrightarrow a_{i}=\\frac{1}{2}\\ln\\frac{1-P_{i}}{P_{i}}.\n",
    "$$"
   ]
  },
  {
   "cell_type": "markdown",
   "metadata": {},
   "source": [
    "- *Nótese que si* $P_{i} < 0.5$*, entonces* $a_{i} > 0$*, que es lo que se espera en la práctica*. **Una vez estimados** $a_{i}$ **y** $\\boldsymbol{\\theta}_{i}$ **las ponderaciones para la siguiente iteración vienen dadas por**\n",
    "\n",
    "    $$\n",
    "    \\omega_{n}^{(i+1)}=\\frac{\\exp(-y_{n}F_{i}(\\boldsymbol{x}_{n}))}{Z_{i}}=\\frac{\\omega_{n}^{(i)}\\exp(-y_{n}a_{i}\\phi(\\boldsymbol{x}_{n}, \\boldsymbol{\\theta}_{i}))}{Z_{i}},\n",
    "    $$\n",
    "\n",
    "    donde $Z_{i}$ es el ***factor normalizado***\n",
    "\n",
    "    $$\n",
    "    Z_{i}:=\\sum_{n=1}^{N}\\omega_{n}^{(i)}\\exp(-y_{n}a_{i}\\phi(\\boldsymbol{x}_{n}; \\boldsymbol{\\theta}_{i})).\n",
    "    $$"
   ]
  },
  {
   "cell_type": "markdown",
   "metadata": {},
   "source": [
    "- Si se observa la forma en que se forman los pesos, se puede comprender uno de los principales secretos subyacentes al algoritmo **AdaBoost: El peso asociado a una muestra de entrenamiento** $\\boldsymbol{x}_{n}$ **aumenta (disminuye) con respecto a su valor en la iteración anterior, dependiendo de si el patrón ha fallado (tenido éxito) respecto a su valor en la iteración anterior**.\n",
    "\n",
    "- Además, el **porcentaje de disminución (aumento) depende del valor de** $a_{i}$, **que controla la importancia relativa en la construcción del clasificador final**. Las *muestras difíciles, que siguen fallando en iteraciones sucesivas, ganan importancia en su participación en el valor de error empírico ponderado*.\n",
    "\n",
    "- Para el caso del *AdaBoost*, puede demostrarse que el error de entrenamiento tiende a cero exponencialmente rápido. El esquema se resume en el siguiente algoritmo, introducido por *Yoav Freund y Robert Schapire* quienes recibieron el prestigioso *premio Gödel* por este algoritmo en 2003."
   ]
  },
  {
   "cell_type": "markdown",
   "metadata": {},
   "source": [
    "```{prf:algorithm} Algoritmo AdaBoost\n",
    ":label: adaboost_algo\n",
    "\n",
    "**Inicialización**\n",
    "\n",
    "1. Inicializa: $\\omega_{n}^{(1)}=1/N,~i=1,2,\\dots,N$\n",
    "2. Inicializa: $i=1$\n",
    "\n",
    "**Repeat**\n",
    "\n",
    "1. Calcular el óptimo $\\boldsymbol{\\theta}_{i}$ en $\\phi(\\cdot; \\boldsymbol{\\theta}_{i})$ minimizando $P_{i}$\n",
    "2. Calcular el óptimo $P_{i}$\n",
    "3. $a_{i}=\\displaystyle{1/2[\\ln(1-P_{i})/P_{i}]}$\n",
    "4. $Z_{i}=0$\n",
    "5. **For** $n=1,2,\\dots,N$, **Do**:\n",
    "\t1. $\\omega_{n}^{(i+1)}=\\omega_{n}^{(i)}\\exp(-y_{n}a_{i}\\phi(\\boldsymbol{x}_{n}; \\boldsymbol{\\theta}_{i}))$\n",
    "\t2. $Z_{i}=Z_{i}+\\omega_{n}^{(i+1)}$\n",
    "6. **End For**\n",
    "7. **For** $n=1,2,\\dots,N$, **Do**:\n",
    "\t1. $\\omega_{n}^{(i+1)}=\\omega_{n}^{(i+1)}/Z_{i}$\n",
    "8. **End For**\n",
    "9. $K=i$\n",
    "10. $i=i+1$\n",
    "11. **Until** Un criterio de parada se cumpla.\n",
    "12. $f(\\cdot)=\\text{sgn}\\left(\\sum_{k=1}^{K}a_{k}\\phi(\\cdot, \\boldsymbol{\\theta}_{k})\\right)$ \n",
    "```"
   ]
  },
  {
   "cell_type": "markdown",
   "metadata": {},
   "source": [
    "## La función Log-Loss"
   ]
  },
  {
   "cell_type": "markdown",
   "metadata": {},
   "source": [
    "- En `AdaBoost`, se empleó la `función de pérdida exponencial`. Desde un punto de vista teórico, esto puede\n",
    "justificarse con el siguiente argumento. Consideremos el `valor medio con respecto a la etiqueta binaria,` $y$, de\n",
    "la `función de pérdida exponencial`\n",
    "\n",
    "$$\n",
    "\\mathbb{E}(\\exp(-yF(\\boldsymbol{x})))=P(y=1)\\exp(-F(\\boldsymbol{x}))+P(y=-1)\\exp(F(\\boldsymbol{x}))\n",
    "$$(mean_exp_loss_fn_eq)"
   ]
  },
  {
   "cell_type": "markdown",
   "metadata": {},
   "source": [
    "- Tomando `derivada con respecto a` $F(\\boldsymbol{x})$ `e igualando a cero`, fácilmente obtenemos el mínimo de {eq}`mean_exp_loss_fn_eq` el cual ocurre en\n",
    "\n",
    "$$\n",
    "\\frac{\\partial}{\\partial F(\\boldsymbol{x})}(\\mathbb{E}(\\exp(-yF(\\boldsymbol{x}))))=0\\Leftrightarrow F_{\\star}(\\boldsymbol{x})=\\text{argmin}_{f}\\mathbb{E}[\\exp(-yf)]=\\frac{1}{2}\\ln\\frac{P(y=1|\\boldsymbol{x})}{P(y=-1|\\boldsymbol{x})}\n",
    "$$(min_exp_loss_fn_eq)"
   ]
  },
  {
   "cell_type": "markdown",
   "metadata": {},
   "source": [
    "- El logaritmo de la proporción del lado derecho se conoce como la `proporción log-odds`. Por lo tanto, si se considera la función de minimización en Ecuación {eq}`costfn_adaboost_eq` como la aproximación empírica del valor medio en Ecuación {eq}`mean_exp_loss_fn_eq`, `se justifica plenamente considerar el signo de la función en` Ecuación {eq}`sign_fn_adaboost_eq` `como regla de clasificación`."
   ]
  },
  {
   "cell_type": "markdown",
   "metadata": {},
   "source": [
    "- Un problema importante asociado a la `función de pérdida exponencial`, como se ve fácilmente en la {numref}`loss_fn_adaboost_fig`, es que `pondera en gran medida las muestras clasificadas erróneamente`, dependiendo del valor del margen respectivo, definido como\n",
    "\n",
    "$$\n",
    "m_{x}:=|yF(\\boldsymbol{x})|.\n",
    "$$"
   ]
  },
  {
   "cell_type": "markdown",
   "metadata": {},
   "source": [
    "- Tenga en cuenta que `cuanto más lejos esté el punto de la superficie de decisión` ($F(x) = 0$)`, mayor será el valor de` $|F(x)|$. Por lo tanto, los `puntos que se encuentran en el lado equivocado de la superficie de decisión` ($yF(x) < 0$) y lejos son (exponencialmente) grandes, y `su influencia en el proceso de optimización es grande` en comparación con los demás puntos. Así pues, `en presencia de valores atípicos, la pérdida exponencial no es la más adecuada`. De hecho, en tales entornos, el `rendimiento de AdaBoost puede degradarse drásticamente`."
   ]
  },
  {
   "cell_type": "markdown",
   "metadata": {},
   "source": [
    "- Una función de pérdida alternativa es la `log-loss o desviación binomial` (ver Fig. {numref}`loss_fn_adaboost_fig`), definida como\n",
    "\n",
    "$$\n",
    "\\mathcal{L}(y, F(\\boldsymbol{x})):=\\ln(1+\\exp(-yF(\\boldsymbol{x}))):\\quad\\text{log-loss function},\n",
    "$$\n",
    "\n",
    "- Nótese que su `incremento es casi lineal para valores negativos grandes`. Tal función conduce a una `influencia más equilibrada de la pérdida entre todos los puntos`. Observe además que la función que minimiza la media de la pérdida logarítmica, con respecto a $y$, es la misma que la dada en Ecuación {eq}`min_exp_loss_fn_eq` (`verifíquelo`). Sin embargo, si se emplea la pérdida logarítmica en lugar de la exponencial, la tarea de optimización es más compleja, y hay que recurrir a esquemas de optimización de tipo `gradiente descendiente` o esquemas de `optimización de tipo Newton` (ver {cite}`friedman2001greedy`)."
   ]
  },
  {
   "cell_type": "markdown",
   "metadata": {},
   "source": [
    "## Arboles Boosting"
   ]
  },
  {
   "cell_type": "markdown",
   "metadata": {},
   "source": [
    "```{prf:observation}\n",
    ":label: observation_dt2\n",
    "\n",
    "- En la discusión sobre la comparación experimental de varios métodos, se afirmó que `los árboles boosting se encuentran entre los esquemas de aprendizaje más potentes para la clasificación y la minería de datos`. Por lo tanto, merece la pena dedicar más tiempo a este tipo especial de técnicas de boosting.\n",
    "```"
   ]
  },
  {
   "cell_type": "markdown",
   "metadata": {},
   "source": [
    "- A partir de los conocimientos adquiridos hasta ahora, no es difícil ver que la `salida de un árbol puede escribirse de forma compacta como`\n",
    "\n",
    "    $$\n",
    "    T(\\boldsymbol{x}, \\boldsymbol{\\Theta})=\\sum_{j=1}^{J}\\hat{y}_{j}\\chi_{R_{j}}(\\boldsymbol{x}),\n",
    "    $$\n",
    "\n",
    "    donde $J$ es el `número de nodos hoja`, $R_{j}$ es la `región asociada a la hoja` $j$ tras la `partición espacial` impuesta por el árbol, $\\hat{y}_{j}$ es la `etiqueta respectiva asociada a` $R_{j}$ (valor de salida/predicción para la regresión), y $\\chi$ es nuestra `conocida función característica`. El conjunto de `parámetros`, $\\boldsymbol{\\Theta}$, se compone de $(\\hat{y}_{j}, R_{j} ), j = 1, 2,\\dots, J$, que `se estiman durante el entrenamiento`. Estos se pueden obtener mediante la `selección de una función de coste adecuada`. También se suelen emplear técnicas subóptimas, para construir un árbol, como las analizadas en la primera sección."
   ]
  },
  {
   "cell_type": "markdown",
   "metadata": {},
   "source": [
    "- En un modelo de árbol boosting, `el clasificador base está formado por un árbol`. En la práctica, se pueden emplear `árboles cuyo tamaño no debe ser muy grande, para acercarse más a un clasificador débil`. Normalmente, `valores de` $J$ `entre tres y ocho` son aconsejables. El modelo de `árbol boosting` puede escribirse como\n",
    "\n",
    "$$\n",
    "F(\\boldsymbol{x})=\\sum_{k=1}^{K}T(\\boldsymbol{x}; \\boldsymbol{\\Theta}_{k}),\\quad\\text{donde}\\quad T(\\boldsymbol{x}; \\boldsymbol{\\Theta}_{k})=\\sum_{j=1}^{J}\\hat{y}_{kj}\\chi_{R_{kj}}(\\boldsymbol{x}).\n",
    "$$(bost_tree_model_eq)"
   ]
  },
  {
   "cell_type": "markdown",
   "metadata": {},
   "source": [
    "- La Ecuación {eq}`bost_tree_model_eq` es básicamente la misma que Ecuación {eq}`adaboosting_model_eq`, con el coeficiente $a_{k}$ igual a uno. Hemos supuesto que el `tamaño de todos los árboles es el mismo`, aunque no tiene por qué ser así. Adoptando una `función de pérdida` $\\mathcal{L}$ y la `lógica greedy` utilizada para el enfoque boosting más general, llegamos al siguiente esquema recursivo de optimización:\n",
    "\n",
    "$$\n",
    "\\boldsymbol{\\Theta}_{i}=\\text{argmin}_{\\boldsymbol{\\Theta}}\\sum_{n=1}^{N}\\mathcal{L}(y_{n}, F_{i-1}(\\boldsymbol{x}_{n})+T(\\boldsymbol{x}_{n}; \\boldsymbol{\\Theta})).\n",
    "$$(rec_optimization_eq)"
   ]
  },
  {
   "cell_type": "markdown",
   "metadata": {},
   "source": [
    "- La `optimización` con respecto a $\\boldsymbol{\\Theta}$ tiene lugar en `dos pasos: uno con respecto a` $\\hat{y}_{ij},~j=1,2,\\dots,J$, dado $R_{ij}$ , y luego `uno con respecto a las regiones` $R_{ij}$. Esta última es una tarea difícil y sólo se simplifica en casos muy especiales. En la práctica, se pueden emplear varias aproximaciones. Nótese que en el caso de la `pérdida exponencial` y la `tarea de clasificación de dos clases`, lo anterior está directamente relacionado con el esquema `AdaBoost`."
   ]
  },
  {
   "cell_type": "markdown",
   "metadata": {},
   "source": [
    "- Para casos más generales, se recurre a esquemas de optimización numérica. `El mismo razonamiento se aplica a los árboles de regresión, donde ahora se utilizan funciones de pérdida para la regresión, como el error al cuadrado o el valor de error absoluto`. Estos esquemas también se conocen como árboles de regresión aditiva múltiple (MART). Hay dos factores críticos en relación con los árboles boosting. Uno es el tamaño de los árboles, $J$, y el otro es la elección de $K$. `En cuanto al tamaño de los árboles, normalmente se prueban diferentes tamaños,` $4\\leq J \\leq 8$`, y se selecciona el mejor`. Con respecto al `número de iteraciones`, para valores grandes, el error de entrenamiento puede llegar a ser cercano a cero, pero el error de prueba puede aumentar debido al sobreajuste. Por lo tanto, `hay que parar lo suficientemente pronto, normalmente controlando el rendimiento`."
   ]
  },
  {
   "cell_type": "markdown",
   "metadata": {},
   "source": [
    "- Otra forma de hacer frente al sobreajuste es emplear `métodos de contracción (shrinkage), que suelen ser equivalentes a la regularización`. Por ejemplo, en la expansión por etapas de $F_{i}(x)$ utilizada en el paso de optimización Eq {eq}`rec_optimization_eq`, se puede adoptar lo siguiente:\n",
    "\n",
    "$$\n",
    "F_{i}(\\cdot)=F_{i-1}(\\cdot)+\\nu T(\\cdot; \\boldsymbol{\\theta}_{i}).\n",
    "$$\n",
    "\n",
    "- El parámetro $\\nu$ `toma valores pequeños y puede considerarse que controla la tasa de aprendizaje del procedimiento boosting`. Se aconsejan valores inferiores a $\\nu < 0.1$. Sin embargo, `cuanto menor sea el valor de` $\\nu$`, mayor deberá ser el valor de` $K$ `para garantizar un buen rendimiento`."
   ]
  },
  {
   "cell_type": "markdown",
   "metadata": {},
   "source": []
  },
  {
   "cell_type": "markdown",
   "metadata": {},
   "source": []
  },
  {
   "cell_type": "markdown",
   "metadata": {},
   "source": []
  },
  {
   "attachments": {},
   "cell_type": "markdown",
   "metadata": {},
   "source": [
    "## Control de complejidad"
   ]
  },
  {
   "attachments": {},
   "cell_type": "markdown",
   "metadata": {},
   "source": [
    "- Al construir un árbol como se describe en esta sección, hasta que todas las hojas sean puras, da lugar a modelos muy complejos y muy ajustados a los datos de entrenamiento. `La presencia de hojas puras significa que un árbol es 100% preciso en el conjunto de entrenamiento`; cada punto de datos del conjunto de entrenamiento está en una hoja que tiene la clase mayoritaria correcta. \n",
    "\n",
    "- Hay dos estrategias comunes para evitar el overfitting: `detener la creación del árbol antes de tiempo (también llamada prepoda), o construir el árbol, pero luego eliminar o colapsar nodos que contienen poca información (también llamada poda posterior o simplemente poda)`. Los posibles criterios para la `prepoda` incluyen la `limitación de la profundidad máxima del árbol, limitar el número máximo de hojas, o exigir un número mínimo de puntos en un nodo para seguir dividiéndolo`.\n",
    "\n",
    "- Los árboles de decisión en `scikit-learn` se implementan en las clases `DecisionTreeRegressor` y `DecisionTreeClassifier`. `scikit-learn` sólo implementa la pre-poda, no la post-poda. Veamos el efecto de la poda a priori con más detalle en el conjunto de datos de cáncer de mama. Como siempre, importamos el conjunto de datos y lo dividimos en una parte de entrenamiento y otra de prueba. A continuación, construimos un  modelo utilizando la configuración por defecto de desarrollo completo del árbol (extendiendo el árbol hasta que todas las hojas sean puras). Fijamos el `random_state` en el árbol, que se utiliza para ruptura interna de de los lazos. Nótese que seleccionamos `stratify=cancer.target`, los datos se dividen de forma estratificada, utilizando `cancer.target` como las etiquetas de clase (ver [stratified](https://scikit-learn.org/stable/modules/cross_validation.html#stratification))."
   ]
  },
  {
   "cell_type": "code",
   "execution_count": 1,
   "metadata": {},
   "outputs": [],
   "source": [
    "from sklearn.tree import DecisionTreeClassifier\n",
    "from sklearn.datasets import load_breast_cancer\n",
    "from sklearn.model_selection import train_test_split"
   ]
  },
  {
   "cell_type": "code",
   "execution_count": 2,
   "metadata": {},
   "outputs": [],
   "source": [
    "cancer = load_breast_cancer()\n",
    "X_train, X_test, y_train, y_test = train_test_split(cancer.data, cancer.target, \n",
    "                                                    stratify=cancer.target, \n",
    "                                                    random_state=42)"
   ]
  },
  {
   "cell_type": "code",
   "execution_count": 3,
   "metadata": {},
   "outputs": [
    {
     "name": "stdout",
     "output_type": "stream",
     "text": [
      "Accuracy on training set: 1.000\n",
      "Accuracy on test set: 0.937\n"
     ]
    }
   ],
   "source": [
    "tree = DecisionTreeClassifier(random_state=0)\n",
    "tree.fit(X_train, y_train)\n",
    "print(\"Accuracy on training set: {:.3f}\".format(tree.score(X_train, y_train)))\n",
    "print(\"Accuracy on test set: {:.3f}\".format(tree.score(X_test, y_test)))"
   ]
  },
  {
   "attachments": {},
   "cell_type": "markdown",
   "metadata": {},
   "source": [
    "- Aquí la función `score` como en la mayoría de clasificadores, devuelve la precisión media en los datos de prueba y las etiquetas dadas. Como era de esperar, `la precisión en el conjunto de entrenamiento es del 100%`, ya que las hojas son puras, el árbol creció lo suficiente como para poder memorizar perfectamente todas las etiquetas de los datos de entrenamiento. `La precisión del conjunto de prueba es ligeramente peor que la de los modelos lineales` que vimos anteriormente, que tenían una precisión de alrededor del 95%.\n",
    "\n",
    "- Si no restringimos la profundidad de un árbol de decisión, el árbol puede llegar a ser arbitrariamente profundo y complejo. `Los árboles no podados son, por tanto, son propensos a sobreajustarse y a no generalizar bien a los nuevos datos`. Ahora apliquemos la pre-poda, la cual que dejará de desarrollar el árbol antes de ajustarse perfectamente a los datos de entrenamiento. Una opción es dejar de construir el árbol después de alcanzar una cierta profundidad. En este caso,`establecemos que la profundidad máxima sea de 4 (max_depth=4), lo que significa que sólo se pueden formular cuatro preguntas consecutivas`. La limitación de la profundidad del árbol disminuye el sobreajuste. Esto conduce a una menor precisión en el conjunto de entrenamiento, pero una mejora en el conjunto de prueba"
   ]
  },
  {
   "cell_type": "code",
   "execution_count": 4,
   "metadata": {},
   "outputs": [
    {
     "name": "stdout",
     "output_type": "stream",
     "text": [
      "Accuracy on training set: 0.988\n",
      "Accuracy on test set: 0.951\n"
     ]
    }
   ],
   "source": [
    "tree = DecisionTreeClassifier(max_depth=4, random_state=0)\n",
    "tree.fit(X_train, y_train)\n",
    "print(\"Accuracy on training set: {:.3f}\".format(tree.score(X_train, y_train)))\n",
    "print(\"Accuracy on test set: {:.3f}\".format(tree.score(X_test, y_test)))"
   ]
  },
  {
   "attachments": {},
   "cell_type": "markdown",
   "metadata": {},
   "source": [
    "## Análisis de los árboles de decisión"
   ]
  },
  {
   "attachments": {},
   "cell_type": "markdown",
   "metadata": {},
   "source": [
    "- Podemos visualizar un árbol de decisión utilizando la función `export_graphviz` del módulo `tree`. Esta función escribe un archivo en el formato `.dot` de archivo de texto para almacenar gráficos. Establecemos una opción para colorear los nodos, para reflejar la clase mayoritaria en cada nodo y pasamos los nombres de las clases y las características para que el árbol pueda ser etiquetado correctamente. El argumento `impurity` está relacionado con la probabilidad de que clasifiquemos incorrectamente un nuevo punto de datos de forma incorrecta, normalmente calculada mediante la métrica de entropia `giny` la cual se aborda teóricamente en la sección anterior."
   ]
  },
  {
   "cell_type": "code",
   "execution_count": 5,
   "metadata": {},
   "outputs": [],
   "source": [
    "from sklearn.tree import export_graphviz"
   ]
  },
  {
   "cell_type": "code",
   "execution_count": 6,
   "metadata": {},
   "outputs": [],
   "source": [
    "export_graphviz(tree,\n",
    "                out_file=\"tree.dot\", \n",
    "                class_names=[\"malignant\", \"benign\"],\n",
    "                feature_names=cancer.feature_names, \n",
    "                impurity=False, \n",
    "                filled=True)"
   ]
  },
  {
   "attachments": {},
   "cell_type": "markdown",
   "metadata": {},
   "source": [
    "- Podemos leer este archivo y visualizarlo, utilizando el modulo `graphviz` (o puede utilizar cualquier programa que pueda leer archivos `.dot`). Para que funcione `Graphviz` deberá además realizar la siguiente instalación, la cual es la única dependencia (ver [Graphviz Instalación](https://forum.graphviz.org/t/new-simplified-installation-procedure-on-windows/224))"
   ]
  },
  {
   "cell_type": "code",
   "execution_count": 7,
   "metadata": {},
   "outputs": [],
   "source": [
    "import graphviz"
   ]
  },
  {
   "cell_type": "code",
   "execution_count": 8,
   "metadata": {},
   "outputs": [],
   "source": [
    "with open(\"tree.dot\") as f:\n",
    "    dot_graph = f.read()\n",
    "    graph = graphviz.Source(dot_graph)"
   ]
  },
  {
   "cell_type": "code",
   "execution_count": 9,
   "metadata": {},
   "outputs": [
    {
     "ename": "ExecutableNotFound",
     "evalue": "failed to execute WindowsPath('dot'), make sure the Graphviz executables are on your systems' PATH",
     "output_type": "error",
     "traceback": [
      "\u001b[1;31m---------------------------------------------------------------------------\u001b[0m",
      "\u001b[1;31mFileNotFoundError\u001b[0m                         Traceback (most recent call last)",
      "File \u001b[1;32m~\\miniconda3\\envs\\ml_tf\\lib\\site-packages\\graphviz\\backend\\execute.py:79\u001b[0m, in \u001b[0;36mrun_check\u001b[1;34m(cmd, input_lines, encoding, quiet, **kwargs)\u001b[0m\n\u001b[0;32m     78\u001b[0m         kwargs[\u001b[38;5;124m'\u001b[39m\u001b[38;5;124mstdout\u001b[39m\u001b[38;5;124m'\u001b[39m] \u001b[38;5;241m=\u001b[39m kwargs[\u001b[38;5;124m'\u001b[39m\u001b[38;5;124mstderr\u001b[39m\u001b[38;5;124m'\u001b[39m] \u001b[38;5;241m=\u001b[39m subprocess\u001b[38;5;241m.\u001b[39mPIPE\n\u001b[1;32m---> 79\u001b[0m     proc \u001b[38;5;241m=\u001b[39m \u001b[43m_run_input_lines\u001b[49m\u001b[43m(\u001b[49m\u001b[43mcmd\u001b[49m\u001b[43m,\u001b[49m\u001b[43m \u001b[49m\u001b[43minput_lines\u001b[49m\u001b[43m,\u001b[49m\u001b[43m \u001b[49m\u001b[43mkwargs\u001b[49m\u001b[38;5;241;43m=\u001b[39;49m\u001b[43mkwargs\u001b[49m\u001b[43m)\u001b[49m\n\u001b[0;32m     80\u001b[0m \u001b[38;5;28;01melse\u001b[39;00m:\n",
      "File \u001b[1;32m~\\miniconda3\\envs\\ml_tf\\lib\\site-packages\\graphviz\\backend\\execute.py:99\u001b[0m, in \u001b[0;36m_run_input_lines\u001b[1;34m(cmd, input_lines, kwargs)\u001b[0m\n\u001b[0;32m     98\u001b[0m \u001b[38;5;28;01mdef\u001b[39;00m \u001b[38;5;21m_run_input_lines\u001b[39m(cmd, input_lines, \u001b[38;5;241m*\u001b[39m, kwargs):\n\u001b[1;32m---> 99\u001b[0m     popen \u001b[38;5;241m=\u001b[39m subprocess\u001b[38;5;241m.\u001b[39mPopen(cmd, stdin\u001b[38;5;241m=\u001b[39msubprocess\u001b[38;5;241m.\u001b[39mPIPE, \u001b[38;5;241m*\u001b[39m\u001b[38;5;241m*\u001b[39mkwargs)\n\u001b[0;32m    101\u001b[0m     stdin_write \u001b[38;5;241m=\u001b[39m popen\u001b[38;5;241m.\u001b[39mstdin\u001b[38;5;241m.\u001b[39mwrite\n",
      "File \u001b[1;32m~\\miniconda3\\envs\\ml_tf\\lib\\subprocess.py:951\u001b[0m, in \u001b[0;36mPopen.__init__\u001b[1;34m(self, args, bufsize, executable, stdin, stdout, stderr, preexec_fn, close_fds, shell, cwd, env, universal_newlines, startupinfo, creationflags, restore_signals, start_new_session, pass_fds, user, group, extra_groups, encoding, errors, text, umask)\u001b[0m\n\u001b[0;32m    948\u001b[0m             \u001b[38;5;28mself\u001b[39m\u001b[38;5;241m.\u001b[39mstderr \u001b[38;5;241m=\u001b[39m io\u001b[38;5;241m.\u001b[39mTextIOWrapper(\u001b[38;5;28mself\u001b[39m\u001b[38;5;241m.\u001b[39mstderr,\n\u001b[0;32m    949\u001b[0m                     encoding\u001b[38;5;241m=\u001b[39mencoding, errors\u001b[38;5;241m=\u001b[39merrors)\n\u001b[1;32m--> 951\u001b[0m     \u001b[38;5;28;43mself\u001b[39;49m\u001b[38;5;241;43m.\u001b[39;49m\u001b[43m_execute_child\u001b[49m\u001b[43m(\u001b[49m\u001b[43margs\u001b[49m\u001b[43m,\u001b[49m\u001b[43m \u001b[49m\u001b[43mexecutable\u001b[49m\u001b[43m,\u001b[49m\u001b[43m \u001b[49m\u001b[43mpreexec_fn\u001b[49m\u001b[43m,\u001b[49m\u001b[43m \u001b[49m\u001b[43mclose_fds\u001b[49m\u001b[43m,\u001b[49m\n\u001b[0;32m    952\u001b[0m \u001b[43m                        \u001b[49m\u001b[43mpass_fds\u001b[49m\u001b[43m,\u001b[49m\u001b[43m \u001b[49m\u001b[43mcwd\u001b[49m\u001b[43m,\u001b[49m\u001b[43m \u001b[49m\u001b[43menv\u001b[49m\u001b[43m,\u001b[49m\n\u001b[0;32m    953\u001b[0m \u001b[43m                        \u001b[49m\u001b[43mstartupinfo\u001b[49m\u001b[43m,\u001b[49m\u001b[43m \u001b[49m\u001b[43mcreationflags\u001b[49m\u001b[43m,\u001b[49m\u001b[43m \u001b[49m\u001b[43mshell\u001b[49m\u001b[43m,\u001b[49m\n\u001b[0;32m    954\u001b[0m \u001b[43m                        \u001b[49m\u001b[43mp2cread\u001b[49m\u001b[43m,\u001b[49m\u001b[43m \u001b[49m\u001b[43mp2cwrite\u001b[49m\u001b[43m,\u001b[49m\n\u001b[0;32m    955\u001b[0m \u001b[43m                        \u001b[49m\u001b[43mc2pread\u001b[49m\u001b[43m,\u001b[49m\u001b[43m \u001b[49m\u001b[43mc2pwrite\u001b[49m\u001b[43m,\u001b[49m\n\u001b[0;32m    956\u001b[0m \u001b[43m                        \u001b[49m\u001b[43merrread\u001b[49m\u001b[43m,\u001b[49m\u001b[43m \u001b[49m\u001b[43merrwrite\u001b[49m\u001b[43m,\u001b[49m\n\u001b[0;32m    957\u001b[0m \u001b[43m                        \u001b[49m\u001b[43mrestore_signals\u001b[49m\u001b[43m,\u001b[49m\n\u001b[0;32m    958\u001b[0m \u001b[43m                        \u001b[49m\u001b[43mgid\u001b[49m\u001b[43m,\u001b[49m\u001b[43m \u001b[49m\u001b[43mgids\u001b[49m\u001b[43m,\u001b[49m\u001b[43m \u001b[49m\u001b[43muid\u001b[49m\u001b[43m,\u001b[49m\u001b[43m \u001b[49m\u001b[43mumask\u001b[49m\u001b[43m,\u001b[49m\n\u001b[0;32m    959\u001b[0m \u001b[43m                        \u001b[49m\u001b[43mstart_new_session\u001b[49m\u001b[43m)\u001b[49m\n\u001b[0;32m    960\u001b[0m \u001b[38;5;28;01mexcept\u001b[39;00m:\n\u001b[0;32m    961\u001b[0m     \u001b[38;5;66;03m# Cleanup if the child failed starting.\u001b[39;00m\n",
      "File \u001b[1;32m~\\miniconda3\\envs\\ml_tf\\lib\\subprocess.py:1436\u001b[0m, in \u001b[0;36mPopen._execute_child\u001b[1;34m(self, args, executable, preexec_fn, close_fds, pass_fds, cwd, env, startupinfo, creationflags, shell, p2cread, p2cwrite, c2pread, c2pwrite, errread, errwrite, unused_restore_signals, unused_gid, unused_gids, unused_uid, unused_umask, unused_start_new_session)\u001b[0m\n\u001b[0;32m   1435\u001b[0m \u001b[38;5;28;01mtry\u001b[39;00m:\n\u001b[1;32m-> 1436\u001b[0m     hp, ht, pid, tid \u001b[38;5;241m=\u001b[39m \u001b[43m_winapi\u001b[49m\u001b[38;5;241;43m.\u001b[39;49m\u001b[43mCreateProcess\u001b[49m\u001b[43m(\u001b[49m\u001b[43mexecutable\u001b[49m\u001b[43m,\u001b[49m\u001b[43m \u001b[49m\u001b[43margs\u001b[49m\u001b[43m,\u001b[49m\n\u001b[0;32m   1437\u001b[0m \u001b[43m                             \u001b[49m\u001b[38;5;66;43;03m# no special security\u001b[39;49;00m\n\u001b[0;32m   1438\u001b[0m \u001b[43m                             \u001b[49m\u001b[38;5;28;43;01mNone\u001b[39;49;00m\u001b[43m,\u001b[49m\u001b[43m \u001b[49m\u001b[38;5;28;43;01mNone\u001b[39;49;00m\u001b[43m,\u001b[49m\n\u001b[0;32m   1439\u001b[0m \u001b[43m                             \u001b[49m\u001b[38;5;28;43mint\u001b[39;49m\u001b[43m(\u001b[49m\u001b[38;5;129;43;01mnot\u001b[39;49;00m\u001b[43m \u001b[49m\u001b[43mclose_fds\u001b[49m\u001b[43m)\u001b[49m\u001b[43m,\u001b[49m\n\u001b[0;32m   1440\u001b[0m \u001b[43m                             \u001b[49m\u001b[43mcreationflags\u001b[49m\u001b[43m,\u001b[49m\n\u001b[0;32m   1441\u001b[0m \u001b[43m                             \u001b[49m\u001b[43menv\u001b[49m\u001b[43m,\u001b[49m\n\u001b[0;32m   1442\u001b[0m \u001b[43m                             \u001b[49m\u001b[43mcwd\u001b[49m\u001b[43m,\u001b[49m\n\u001b[0;32m   1443\u001b[0m \u001b[43m                             \u001b[49m\u001b[43mstartupinfo\u001b[49m\u001b[43m)\u001b[49m\n\u001b[0;32m   1444\u001b[0m \u001b[38;5;28;01mfinally\u001b[39;00m:\n\u001b[0;32m   1445\u001b[0m     \u001b[38;5;66;03m# Child is launched. Close the parent's copy of those pipe\u001b[39;00m\n\u001b[0;32m   1446\u001b[0m     \u001b[38;5;66;03m# handles that only the child should have open.  You need\u001b[39;00m\n\u001b[1;32m   (...)\u001b[0m\n\u001b[0;32m   1449\u001b[0m     \u001b[38;5;66;03m# pipe will not close when the child process exits and the\u001b[39;00m\n\u001b[0;32m   1450\u001b[0m     \u001b[38;5;66;03m# ReadFile will hang.\u001b[39;00m\n",
      "\u001b[1;31mFileNotFoundError\u001b[0m: [WinError 2] El sistema no puede encontrar el archivo especificado",
      "\nThe above exception was the direct cause of the following exception:\n",
      "\u001b[1;31mExecutableNotFound\u001b[0m                        Traceback (most recent call last)",
      "File \u001b[1;32m~\\miniconda3\\envs\\ml_tf\\lib\\site-packages\\IPython\\core\\formatters.py:974\u001b[0m, in \u001b[0;36mMimeBundleFormatter.__call__\u001b[1;34m(self, obj, include, exclude)\u001b[0m\n\u001b[0;32m    971\u001b[0m     method \u001b[38;5;241m=\u001b[39m get_real_method(obj, \u001b[38;5;28mself\u001b[39m\u001b[38;5;241m.\u001b[39mprint_method)\n\u001b[0;32m    973\u001b[0m     \u001b[38;5;28;01mif\u001b[39;00m method \u001b[38;5;129;01mis\u001b[39;00m \u001b[38;5;129;01mnot\u001b[39;00m \u001b[38;5;28;01mNone\u001b[39;00m:\n\u001b[1;32m--> 974\u001b[0m         \u001b[38;5;28;01mreturn\u001b[39;00m \u001b[43mmethod\u001b[49m\u001b[43m(\u001b[49m\u001b[43minclude\u001b[49m\u001b[38;5;241;43m=\u001b[39;49m\u001b[43minclude\u001b[49m\u001b[43m,\u001b[49m\u001b[43m \u001b[49m\u001b[43mexclude\u001b[49m\u001b[38;5;241;43m=\u001b[39;49m\u001b[43mexclude\u001b[49m\u001b[43m)\u001b[49m\n\u001b[0;32m    975\u001b[0m     \u001b[38;5;28;01mreturn\u001b[39;00m \u001b[38;5;28;01mNone\u001b[39;00m\n\u001b[0;32m    976\u001b[0m \u001b[38;5;28;01melse\u001b[39;00m:\n",
      "File \u001b[1;32m~\\miniconda3\\envs\\ml_tf\\lib\\site-packages\\graphviz\\jupyter_integration.py:98\u001b[0m, in \u001b[0;36mJupyterIntegration._repr_mimebundle_\u001b[1;34m(self, include, exclude, **_)\u001b[0m\n\u001b[0;32m     96\u001b[0m include \u001b[38;5;241m=\u001b[39m \u001b[38;5;28mset\u001b[39m(include) \u001b[38;5;28;01mif\u001b[39;00m include \u001b[38;5;129;01mis\u001b[39;00m \u001b[38;5;129;01mnot\u001b[39;00m \u001b[38;5;28;01mNone\u001b[39;00m \u001b[38;5;28;01melse\u001b[39;00m {\u001b[38;5;28mself\u001b[39m\u001b[38;5;241m.\u001b[39m_jupyter_mimetype}\n\u001b[0;32m     97\u001b[0m include \u001b[38;5;241m-\u001b[39m\u001b[38;5;241m=\u001b[39m \u001b[38;5;28mset\u001b[39m(exclude \u001b[38;5;129;01mor\u001b[39;00m [])\n\u001b[1;32m---> 98\u001b[0m \u001b[38;5;28;01mreturn\u001b[39;00m {mimetype: \u001b[38;5;28mgetattr\u001b[39m(\u001b[38;5;28mself\u001b[39m, method_name)()\n\u001b[0;32m     99\u001b[0m         \u001b[38;5;28;01mfor\u001b[39;00m mimetype, method_name \u001b[38;5;129;01min\u001b[39;00m MIME_TYPES\u001b[38;5;241m.\u001b[39mitems()\n\u001b[0;32m    100\u001b[0m         \u001b[38;5;28;01mif\u001b[39;00m mimetype \u001b[38;5;129;01min\u001b[39;00m include}\n",
      "File \u001b[1;32m~\\miniconda3\\envs\\ml_tf\\lib\\site-packages\\graphviz\\jupyter_integration.py:98\u001b[0m, in \u001b[0;36m<dictcomp>\u001b[1;34m(.0)\u001b[0m\n\u001b[0;32m     96\u001b[0m include \u001b[38;5;241m=\u001b[39m \u001b[38;5;28mset\u001b[39m(include) \u001b[38;5;28;01mif\u001b[39;00m include \u001b[38;5;129;01mis\u001b[39;00m \u001b[38;5;129;01mnot\u001b[39;00m \u001b[38;5;28;01mNone\u001b[39;00m \u001b[38;5;28;01melse\u001b[39;00m {\u001b[38;5;28mself\u001b[39m\u001b[38;5;241m.\u001b[39m_jupyter_mimetype}\n\u001b[0;32m     97\u001b[0m include \u001b[38;5;241m-\u001b[39m\u001b[38;5;241m=\u001b[39m \u001b[38;5;28mset\u001b[39m(exclude \u001b[38;5;129;01mor\u001b[39;00m [])\n\u001b[1;32m---> 98\u001b[0m \u001b[38;5;28;01mreturn\u001b[39;00m {mimetype: \u001b[38;5;28;43mgetattr\u001b[39;49m\u001b[43m(\u001b[49m\u001b[38;5;28;43mself\u001b[39;49m\u001b[43m,\u001b[49m\u001b[43m \u001b[49m\u001b[43mmethod_name\u001b[49m\u001b[43m)\u001b[49m\u001b[43m(\u001b[49m\u001b[43m)\u001b[49m\n\u001b[0;32m     99\u001b[0m         \u001b[38;5;28;01mfor\u001b[39;00m mimetype, method_name \u001b[38;5;129;01min\u001b[39;00m MIME_TYPES\u001b[38;5;241m.\u001b[39mitems()\n\u001b[0;32m    100\u001b[0m         \u001b[38;5;28;01mif\u001b[39;00m mimetype \u001b[38;5;129;01min\u001b[39;00m include}\n",
      "File \u001b[1;32m~\\miniconda3\\envs\\ml_tf\\lib\\site-packages\\graphviz\\jupyter_integration.py:112\u001b[0m, in \u001b[0;36mJupyterIntegration._repr_image_svg_xml\u001b[1;34m(self)\u001b[0m\n\u001b[0;32m    110\u001b[0m \u001b[38;5;28;01mdef\u001b[39;00m \u001b[38;5;21m_repr_image_svg_xml\u001b[39m(\u001b[38;5;28mself\u001b[39m) \u001b[38;5;241m-\u001b[39m\u001b[38;5;241m>\u001b[39m \u001b[38;5;28mstr\u001b[39m:\n\u001b[0;32m    111\u001b[0m \u001b[38;5;250m    \u001b[39m\u001b[38;5;124;03m\"\"\"Return the rendered graph as SVG string.\"\"\"\u001b[39;00m\n\u001b[1;32m--> 112\u001b[0m     \u001b[38;5;28;01mreturn\u001b[39;00m \u001b[38;5;28;43mself\u001b[39;49m\u001b[38;5;241;43m.\u001b[39;49m\u001b[43mpipe\u001b[49m\u001b[43m(\u001b[49m\u001b[38;5;28;43mformat\u001b[39;49m\u001b[38;5;241;43m=\u001b[39;49m\u001b[38;5;124;43m'\u001b[39;49m\u001b[38;5;124;43msvg\u001b[39;49m\u001b[38;5;124;43m'\u001b[39;49m\u001b[43m,\u001b[49m\u001b[43m \u001b[49m\u001b[43mencoding\u001b[49m\u001b[38;5;241;43m=\u001b[39;49m\u001b[43mSVG_ENCODING\u001b[49m\u001b[43m)\u001b[49m\n",
      "File \u001b[1;32m~\\miniconda3\\envs\\ml_tf\\lib\\site-packages\\graphviz\\piping.py:104\u001b[0m, in \u001b[0;36mPipe.pipe\u001b[1;34m(self, format, renderer, formatter, neato_no_op, quiet, engine, encoding)\u001b[0m\n\u001b[0;32m     55\u001b[0m \u001b[38;5;28;01mdef\u001b[39;00m \u001b[38;5;21mpipe\u001b[39m(\u001b[38;5;28mself\u001b[39m,\n\u001b[0;32m     56\u001b[0m          \u001b[38;5;28mformat\u001b[39m: typing\u001b[38;5;241m.\u001b[39mOptional[\u001b[38;5;28mstr\u001b[39m] \u001b[38;5;241m=\u001b[39m \u001b[38;5;28;01mNone\u001b[39;00m,\n\u001b[0;32m     57\u001b[0m          renderer: typing\u001b[38;5;241m.\u001b[39mOptional[\u001b[38;5;28mstr\u001b[39m] \u001b[38;5;241m=\u001b[39m \u001b[38;5;28;01mNone\u001b[39;00m,\n\u001b[1;32m   (...)\u001b[0m\n\u001b[0;32m     61\u001b[0m          engine: typing\u001b[38;5;241m.\u001b[39mOptional[\u001b[38;5;28mstr\u001b[39m] \u001b[38;5;241m=\u001b[39m \u001b[38;5;28;01mNone\u001b[39;00m,\n\u001b[0;32m     62\u001b[0m          encoding: typing\u001b[38;5;241m.\u001b[39mOptional[\u001b[38;5;28mstr\u001b[39m] \u001b[38;5;241m=\u001b[39m \u001b[38;5;28;01mNone\u001b[39;00m) \u001b[38;5;241m-\u001b[39m\u001b[38;5;241m>\u001b[39m typing\u001b[38;5;241m.\u001b[39mUnion[\u001b[38;5;28mbytes\u001b[39m, \u001b[38;5;28mstr\u001b[39m]:\n\u001b[0;32m     63\u001b[0m \u001b[38;5;250m    \u001b[39m\u001b[38;5;124;03m\"\"\"Return the source piped through the Graphviz layout command.\u001b[39;00m\n\u001b[0;32m     64\u001b[0m \n\u001b[0;32m     65\u001b[0m \u001b[38;5;124;03m    Args:\u001b[39;00m\n\u001b[1;32m   (...)\u001b[0m\n\u001b[0;32m    102\u001b[0m \u001b[38;5;124;03m        '<?xml version='\u001b[39;00m\n\u001b[0;32m    103\u001b[0m \u001b[38;5;124;03m    \"\"\"\u001b[39;00m\n\u001b[1;32m--> 104\u001b[0m     \u001b[38;5;28;01mreturn\u001b[39;00m \u001b[38;5;28;43mself\u001b[39;49m\u001b[38;5;241;43m.\u001b[39;49m\u001b[43m_pipe_legacy\u001b[49m\u001b[43m(\u001b[49m\u001b[38;5;28;43mformat\u001b[39;49m\u001b[43m,\u001b[49m\n\u001b[0;32m    105\u001b[0m \u001b[43m                             \u001b[49m\u001b[43mrenderer\u001b[49m\u001b[38;5;241;43m=\u001b[39;49m\u001b[43mrenderer\u001b[49m\u001b[43m,\u001b[49m\n\u001b[0;32m    106\u001b[0m \u001b[43m                             \u001b[49m\u001b[43mformatter\u001b[49m\u001b[38;5;241;43m=\u001b[39;49m\u001b[43mformatter\u001b[49m\u001b[43m,\u001b[49m\n\u001b[0;32m    107\u001b[0m \u001b[43m                             \u001b[49m\u001b[43mneato_no_op\u001b[49m\u001b[38;5;241;43m=\u001b[39;49m\u001b[43mneato_no_op\u001b[49m\u001b[43m,\u001b[49m\n\u001b[0;32m    108\u001b[0m \u001b[43m                             \u001b[49m\u001b[43mquiet\u001b[49m\u001b[38;5;241;43m=\u001b[39;49m\u001b[43mquiet\u001b[49m\u001b[43m,\u001b[49m\n\u001b[0;32m    109\u001b[0m \u001b[43m                             \u001b[49m\u001b[43mengine\u001b[49m\u001b[38;5;241;43m=\u001b[39;49m\u001b[43mengine\u001b[49m\u001b[43m,\u001b[49m\n\u001b[0;32m    110\u001b[0m \u001b[43m                             \u001b[49m\u001b[43mencoding\u001b[49m\u001b[38;5;241;43m=\u001b[39;49m\u001b[43mencoding\u001b[49m\u001b[43m)\u001b[49m\n",
      "File \u001b[1;32m~\\miniconda3\\envs\\ml_tf\\lib\\site-packages\\graphviz\\_tools.py:171\u001b[0m, in \u001b[0;36mdeprecate_positional_args.<locals>.decorator.<locals>.wrapper\u001b[1;34m(*args, **kwargs)\u001b[0m\n\u001b[0;32m    162\u001b[0m     wanted \u001b[38;5;241m=\u001b[39m \u001b[38;5;124m'\u001b[39m\u001b[38;5;124m, \u001b[39m\u001b[38;5;124m'\u001b[39m\u001b[38;5;241m.\u001b[39mjoin(\u001b[38;5;124mf\u001b[39m\u001b[38;5;124m'\u001b[39m\u001b[38;5;132;01m{\u001b[39;00mname\u001b[38;5;132;01m}\u001b[39;00m\u001b[38;5;124m=\u001b[39m\u001b[38;5;132;01m{\u001b[39;00mvalue\u001b[38;5;132;01m!r}\u001b[39;00m\u001b[38;5;124m'\u001b[39m\n\u001b[0;32m    163\u001b[0m                        \u001b[38;5;28;01mfor\u001b[39;00m name, value \u001b[38;5;129;01min\u001b[39;00m deprecated\u001b[38;5;241m.\u001b[39mitems())\n\u001b[0;32m    164\u001b[0m     warnings\u001b[38;5;241m.\u001b[39mwarn(\u001b[38;5;124mf\u001b[39m\u001b[38;5;124m'\u001b[39m\u001b[38;5;124mThe signature of \u001b[39m\u001b[38;5;132;01m{\u001b[39;00mfunc\u001b[38;5;241m.\u001b[39m\u001b[38;5;18m__name__\u001b[39m\u001b[38;5;132;01m}\u001b[39;00m\u001b[38;5;124m will be reduced\u001b[39m\u001b[38;5;124m'\u001b[39m\n\u001b[0;32m    165\u001b[0m                   \u001b[38;5;124mf\u001b[39m\u001b[38;5;124m'\u001b[39m\u001b[38;5;124m to \u001b[39m\u001b[38;5;132;01m{\u001b[39;00msupported_number\u001b[38;5;132;01m}\u001b[39;00m\u001b[38;5;124m positional args\u001b[39m\u001b[38;5;124m'\u001b[39m\n\u001b[0;32m    166\u001b[0m                   \u001b[38;5;124mf\u001b[39m\u001b[38;5;124m'\u001b[39m\u001b[38;5;124m \u001b[39m\u001b[38;5;132;01m{\u001b[39;00m\u001b[38;5;28mlist\u001b[39m(supported)\u001b[38;5;132;01m}\u001b[39;00m\u001b[38;5;124m: pass \u001b[39m\u001b[38;5;132;01m{\u001b[39;00mwanted\u001b[38;5;132;01m}\u001b[39;00m\u001b[38;5;124m'\u001b[39m\n\u001b[0;32m    167\u001b[0m                   \u001b[38;5;124m'\u001b[39m\u001b[38;5;124m as keyword arg(s)\u001b[39m\u001b[38;5;124m'\u001b[39m,\n\u001b[0;32m    168\u001b[0m                   stacklevel\u001b[38;5;241m=\u001b[39mstacklevel,\n\u001b[0;32m    169\u001b[0m                   category\u001b[38;5;241m=\u001b[39mcategory)\n\u001b[1;32m--> 171\u001b[0m \u001b[38;5;28;01mreturn\u001b[39;00m func(\u001b[38;5;241m*\u001b[39margs, \u001b[38;5;241m*\u001b[39m\u001b[38;5;241m*\u001b[39mkwargs)\n",
      "File \u001b[1;32m~\\miniconda3\\envs\\ml_tf\\lib\\site-packages\\graphviz\\piping.py:121\u001b[0m, in \u001b[0;36mPipe._pipe_legacy\u001b[1;34m(self, format, renderer, formatter, neato_no_op, quiet, engine, encoding)\u001b[0m\n\u001b[0;32m    112\u001b[0m \u001b[38;5;129m@_tools\u001b[39m\u001b[38;5;241m.\u001b[39mdeprecate_positional_args(supported_number\u001b[38;5;241m=\u001b[39m\u001b[38;5;241m2\u001b[39m)\n\u001b[0;32m    113\u001b[0m \u001b[38;5;28;01mdef\u001b[39;00m \u001b[38;5;21m_pipe_legacy\u001b[39m(\u001b[38;5;28mself\u001b[39m,\n\u001b[0;32m    114\u001b[0m                  \u001b[38;5;28mformat\u001b[39m: typing\u001b[38;5;241m.\u001b[39mOptional[\u001b[38;5;28mstr\u001b[39m] \u001b[38;5;241m=\u001b[39m \u001b[38;5;28;01mNone\u001b[39;00m,\n\u001b[1;32m   (...)\u001b[0m\n\u001b[0;32m    119\u001b[0m                  engine: typing\u001b[38;5;241m.\u001b[39mOptional[\u001b[38;5;28mstr\u001b[39m] \u001b[38;5;241m=\u001b[39m \u001b[38;5;28;01mNone\u001b[39;00m,\n\u001b[0;32m    120\u001b[0m                  encoding: typing\u001b[38;5;241m.\u001b[39mOptional[\u001b[38;5;28mstr\u001b[39m] \u001b[38;5;241m=\u001b[39m \u001b[38;5;28;01mNone\u001b[39;00m) \u001b[38;5;241m-\u001b[39m\u001b[38;5;241m>\u001b[39m typing\u001b[38;5;241m.\u001b[39mUnion[\u001b[38;5;28mbytes\u001b[39m, \u001b[38;5;28mstr\u001b[39m]:\n\u001b[1;32m--> 121\u001b[0m     \u001b[38;5;28;01mreturn\u001b[39;00m \u001b[38;5;28;43mself\u001b[39;49m\u001b[38;5;241;43m.\u001b[39;49m\u001b[43m_pipe_future\u001b[49m\u001b[43m(\u001b[49m\u001b[38;5;28;43mformat\u001b[39;49m\u001b[43m,\u001b[49m\n\u001b[0;32m    122\u001b[0m \u001b[43m                             \u001b[49m\u001b[43mrenderer\u001b[49m\u001b[38;5;241;43m=\u001b[39;49m\u001b[43mrenderer\u001b[49m\u001b[43m,\u001b[49m\n\u001b[0;32m    123\u001b[0m \u001b[43m                             \u001b[49m\u001b[43mformatter\u001b[49m\u001b[38;5;241;43m=\u001b[39;49m\u001b[43mformatter\u001b[49m\u001b[43m,\u001b[49m\n\u001b[0;32m    124\u001b[0m \u001b[43m                             \u001b[49m\u001b[43mneato_no_op\u001b[49m\u001b[38;5;241;43m=\u001b[39;49m\u001b[43mneato_no_op\u001b[49m\u001b[43m,\u001b[49m\n\u001b[0;32m    125\u001b[0m \u001b[43m                             \u001b[49m\u001b[43mquiet\u001b[49m\u001b[38;5;241;43m=\u001b[39;49m\u001b[43mquiet\u001b[49m\u001b[43m,\u001b[49m\n\u001b[0;32m    126\u001b[0m \u001b[43m                             \u001b[49m\u001b[43mengine\u001b[49m\u001b[38;5;241;43m=\u001b[39;49m\u001b[43mengine\u001b[49m\u001b[43m,\u001b[49m\n\u001b[0;32m    127\u001b[0m \u001b[43m                             \u001b[49m\u001b[43mencoding\u001b[49m\u001b[38;5;241;43m=\u001b[39;49m\u001b[43mencoding\u001b[49m\u001b[43m)\u001b[49m\n",
      "File \u001b[1;32m~\\miniconda3\\envs\\ml_tf\\lib\\site-packages\\graphviz\\piping.py:149\u001b[0m, in \u001b[0;36mPipe._pipe_future\u001b[1;34m(self, format, renderer, formatter, neato_no_op, quiet, engine, encoding)\u001b[0m\n\u001b[0;32m    146\u001b[0m \u001b[38;5;28;01mif\u001b[39;00m encoding \u001b[38;5;129;01mis\u001b[39;00m \u001b[38;5;129;01mnot\u001b[39;00m \u001b[38;5;28;01mNone\u001b[39;00m:\n\u001b[0;32m    147\u001b[0m     \u001b[38;5;28;01mif\u001b[39;00m codecs\u001b[38;5;241m.\u001b[39mlookup(encoding) \u001b[38;5;129;01mis\u001b[39;00m codecs\u001b[38;5;241m.\u001b[39mlookup(\u001b[38;5;28mself\u001b[39m\u001b[38;5;241m.\u001b[39mencoding):\n\u001b[0;32m    148\u001b[0m         \u001b[38;5;66;03m# common case: both stdin and stdout need the same encoding\u001b[39;00m\n\u001b[1;32m--> 149\u001b[0m         \u001b[38;5;28;01mreturn\u001b[39;00m \u001b[38;5;28mself\u001b[39m\u001b[38;5;241m.\u001b[39m_pipe_lines_string(\u001b[38;5;241m*\u001b[39margs, encoding\u001b[38;5;241m=\u001b[39mencoding, \u001b[38;5;241m*\u001b[39m\u001b[38;5;241m*\u001b[39mkwargs)\n\u001b[0;32m    150\u001b[0m     \u001b[38;5;28;01mtry\u001b[39;00m:\n\u001b[0;32m    151\u001b[0m         raw \u001b[38;5;241m=\u001b[39m \u001b[38;5;28mself\u001b[39m\u001b[38;5;241m.\u001b[39m_pipe_lines(\u001b[38;5;241m*\u001b[39margs, input_encoding\u001b[38;5;241m=\u001b[39m\u001b[38;5;28mself\u001b[39m\u001b[38;5;241m.\u001b[39mencoding, \u001b[38;5;241m*\u001b[39m\u001b[38;5;241m*\u001b[39mkwargs)\n",
      "File \u001b[1;32m~\\miniconda3\\envs\\ml_tf\\lib\\site-packages\\graphviz\\backend\\piping.py:212\u001b[0m, in \u001b[0;36mpipe_lines_string\u001b[1;34m(engine, format, input_lines, encoding, renderer, formatter, neato_no_op, quiet)\u001b[0m\n\u001b[0;32m    206\u001b[0m cmd \u001b[38;5;241m=\u001b[39m dot_command\u001b[38;5;241m.\u001b[39mcommand(engine, \u001b[38;5;28mformat\u001b[39m,\n\u001b[0;32m    207\u001b[0m                           renderer\u001b[38;5;241m=\u001b[39mrenderer,\n\u001b[0;32m    208\u001b[0m                           formatter\u001b[38;5;241m=\u001b[39mformatter,\n\u001b[0;32m    209\u001b[0m                           neato_no_op\u001b[38;5;241m=\u001b[39mneato_no_op)\n\u001b[0;32m    210\u001b[0m kwargs \u001b[38;5;241m=\u001b[39m {\u001b[38;5;124m'\u001b[39m\u001b[38;5;124minput_lines\u001b[39m\u001b[38;5;124m'\u001b[39m: input_lines, \u001b[38;5;124m'\u001b[39m\u001b[38;5;124mencoding\u001b[39m\u001b[38;5;124m'\u001b[39m: encoding}\n\u001b[1;32m--> 212\u001b[0m proc \u001b[38;5;241m=\u001b[39m execute\u001b[38;5;241m.\u001b[39mrun_check(cmd, capture_output\u001b[38;5;241m=\u001b[39m\u001b[38;5;28;01mTrue\u001b[39;00m, quiet\u001b[38;5;241m=\u001b[39mquiet, \u001b[38;5;241m*\u001b[39m\u001b[38;5;241m*\u001b[39mkwargs)\n\u001b[0;32m    213\u001b[0m \u001b[38;5;28;01mreturn\u001b[39;00m proc\u001b[38;5;241m.\u001b[39mstdout\n",
      "File \u001b[1;32m~\\miniconda3\\envs\\ml_tf\\lib\\site-packages\\graphviz\\backend\\execute.py:84\u001b[0m, in \u001b[0;36mrun_check\u001b[1;34m(cmd, input_lines, encoding, quiet, **kwargs)\u001b[0m\n\u001b[0;32m     82\u001b[0m \u001b[38;5;28;01mexcept\u001b[39;00m \u001b[38;5;167;01mOSError\u001b[39;00m \u001b[38;5;28;01mas\u001b[39;00m e:\n\u001b[0;32m     83\u001b[0m     \u001b[38;5;28;01mif\u001b[39;00m e\u001b[38;5;241m.\u001b[39merrno \u001b[38;5;241m==\u001b[39m errno\u001b[38;5;241m.\u001b[39mENOENT:\n\u001b[1;32m---> 84\u001b[0m         \u001b[38;5;28;01mraise\u001b[39;00m ExecutableNotFound(cmd) \u001b[38;5;28;01mfrom\u001b[39;00m \u001b[38;5;21;01me\u001b[39;00m\n\u001b[0;32m     85\u001b[0m     \u001b[38;5;28;01mraise\u001b[39;00m\n\u001b[0;32m     87\u001b[0m \u001b[38;5;28;01mif\u001b[39;00m \u001b[38;5;129;01mnot\u001b[39;00m quiet \u001b[38;5;129;01mand\u001b[39;00m proc\u001b[38;5;241m.\u001b[39mstderr:\n",
      "\u001b[1;31mExecutableNotFound\u001b[0m: failed to execute WindowsPath('dot'), make sure the Graphviz executables are on your systems' PATH"
     ]
    },
    {
     "data": {
      "text/plain": [
       "<graphviz.sources.Source at 0x1d01f8767f0>"
      ]
     },
     "execution_count": 9,
     "metadata": {},
     "output_type": "execute_result"
    }
   ],
   "source": [
    "graphviz.Source(dot_graph)"
   ]
  },
  {
   "attachments": {},
   "cell_type": "markdown",
   "metadata": {},
   "source": [
    "- La visualización del árbol proporciona una `gran visión en profundidad de cómo el algoritmo realiza predicciones, y es un buen ejemplo de un algoritmo de aprendizaje automático que puede fácilmente explicarse a no expertos`. Sin embargo, incluso con un árbol de profundidad cuatro, como se ve aquí, el árbol puede resultar un poco abrumador. Los árboles más profundos (una profundidad de 10 puede ser común) son aún más difíciles de entender. \n",
    "\n",
    "- Un método de inspección del árbol que puede ser útil es, averiguar qué camino toma realmente la mayoría de los datos. `Las n_samples que se muestran en cada nodo de la figura, entregan el número de muestras en ese nodo`, mientras que `value provee el número de muestras por clase`. Siguiendo las ramas hacia la derecha, vemos que el `worst radius` $\\leq$ `16.795` crea un nodo que contiene sólo `8 muestras benignas pero 134 muestras malignas. El resto de este lado del árbol utiliza entonces algunas distinciones más finas para separar estas 8 muestras benignas restantes`. De las 142 muestras que fueron a la derecha en la división inicial, casi todas ellas (132) terminan en la hoja de la derecha. Tomando la izquierda en la raíz, para el `worst radio > 16.795` terminamos con `25 muestras malignas y 259 muestras benignas`. Casi todas las muestras benignas acaban en la segunda hoja de la derecha, y la mayoría de las demás hojas contienen muy pocas muestras."
   ]
  },
  {
   "attachments": {},
   "cell_type": "markdown",
   "metadata": {},
   "source": [
    "## Características importantes en los árboles"
   ]
  },
  {
   "attachments": {},
   "cell_type": "markdown",
   "metadata": {},
   "source": [
    "- En lugar de mirar todo el árbol, lo que puede ser agotador, hay algunas `propiedades útiles que podemos derivar para resumir el funcionamiento del árbol`. El resumen más utilizado es el de las `características importantes, que califica la importancia de cada característica para la decisión que toma el árbol`. Es un número entre 0 y 1 para cada característica, donde 0 significa \"no se utiliza en absoluto\" y 1 significa \"predice perfectamente el objetivo\". Las características siempre suman 1"
   ]
  },
  {
   "attachments": {},
   "cell_type": "markdown",
   "metadata": {},
   "source": [
    "- Otra `excelente manera de visualizar predicciones a partir de un random forest por ejemplo, es utilizando la librería` [LIME](https://www.kaggle.com/code/prashant111/explain-your-model-predictions-with-lime/notebook) `de Python`. Con esta librería se pueden generar por cada instancias, figuras de cartaterísticas importantes y representar sus probabilidades de pertenecer a la clase predicha (`pruebela`)."
   ]
  },
  {
   "cell_type": "code",
   "execution_count": 10,
   "metadata": {},
   "outputs": [
    {
     "name": "stdout",
     "output_type": "stream",
     "text": [
      "Feature importances:\n",
      "[0.         0.         0.         0.         0.         0.\n",
      " 0.         0.         0.         0.         0.01019737 0.04839825\n",
      " 0.         0.         0.0024156  0.         0.         0.\n",
      " 0.         0.         0.72682851 0.0458159  0.         0.\n",
      " 0.0141577  0.         0.018188   0.1221132  0.01188548 0.        ]\n"
     ]
    }
   ],
   "source": [
    "print(\"Feature importances:\\n{}\".format(tree.feature_importances_))"
   ]
  },
  {
   "attachments": {},
   "cell_type": "markdown",
   "metadata": {},
   "source": [
    "- Podemos visualizar las importancias de las características de forma similar a la forma en que visualizamos los coeficientes en el modelo lineal"
   ]
  },
  {
   "cell_type": "code",
   "execution_count": 11,
   "metadata": {},
   "outputs": [],
   "source": [
    "import matplotlib.pyplot as plt\n",
    "import numpy as np"
   ]
  },
  {
   "cell_type": "code",
   "execution_count": 12,
   "metadata": {},
   "outputs": [],
   "source": [
    "def plot_feature_importances_cancer(model):\n",
    "    n_features = cancer.data.shape[1]\n",
    "    plt.barh(range(n_features), model.feature_importances_, align='center')\n",
    "    plt.yticks(np.arange(n_features), cancer.feature_names)\n",
    "    plt.xlabel(\"Feature importance\")\n",
    "    plt.ylabel(\"Feature\")"
   ]
  },
  {
   "cell_type": "code",
   "execution_count": 13,
   "metadata": {},
   "outputs": [
    {
     "data": {
      "image/png": "[encoded data removed]",
      "text/plain": [
       "<Figure size 640x480 with 1 Axes>"
      ]
     },
     "metadata": {},
     "output_type": "display_data"
    }
   ],
   "source": [
    "plot_feature_importances_cancer(tree)"
   ]
  },
  {
   "attachments": {},
   "cell_type": "markdown",
   "metadata": {},
   "source": [
    "- Aquí vemos que la característica utilizada en la división superior `(\"worst radio\")` es, con mucho, la más importante. Esto confirma nuestra observación al analizar el árbol de que el primer nivel ya separa bastante bien las dos clases. Sin embargo, si una característica tiene un `feature_importance` bajo, no significa que esta característica sea poco informativa. Sólo significa que la característica no fue elegida por el árbol, probablemente porque otra característica codifica la misma información.\n",
    "\n",
    "- A diferencia de los coeficientes de los modelos lineales, `las importancias de las características son siempre positivas y no codifican la clase de la que es indicativa una característica`. Las `feature_importance` nos dicen que el `\"worst radio\"` es importante, pero no si un radio alto es indicativo de que una muestra es benigna o maligna. De hecho, puede que no haya una relación tan sencilla entre las características y la clase, como se puede ver en el siguiente ejemplo. La siguiente figura muestra un conjunto de datos bidimensional en el que `la característica en el eje` $y$ `tiene una relación no monótona con la etiqueta de clase, y los límites de decisión encontrados por un árbol de decisión`"
   ]
  },
  {
   "cell_type": "code",
   "execution_count": 14,
   "metadata": {},
   "outputs": [],
   "source": [
    "import mglearn"
   ]
  },
  {
   "cell_type": "code",
   "execution_count": 15,
   "metadata": {},
   "outputs": [
    {
     "name": "stdout",
     "output_type": "stream",
     "text": [
      "Feature importances: [0. 1.]\n"
     ]
    },
    {
     "ename": "ExecutableNotFound",
     "evalue": "failed to execute WindowsPath('dot'), make sure the Graphviz executables are on your systems' PATH",
     "output_type": "error",
     "traceback": [
      "\u001b[1;31m---------------------------------------------------------------------------\u001b[0m",
      "\u001b[1;31mFileNotFoundError\u001b[0m                         Traceback (most recent call last)",
      "File \u001b[1;32m~\\miniconda3\\envs\\ml_tf\\lib\\site-packages\\graphviz\\backend\\execute.py:79\u001b[0m, in \u001b[0;36mrun_check\u001b[1;34m(cmd, input_lines, encoding, quiet, **kwargs)\u001b[0m\n\u001b[0;32m     78\u001b[0m         kwargs[\u001b[38;5;124m'\u001b[39m\u001b[38;5;124mstdout\u001b[39m\u001b[38;5;124m'\u001b[39m] \u001b[38;5;241m=\u001b[39m kwargs[\u001b[38;5;124m'\u001b[39m\u001b[38;5;124mstderr\u001b[39m\u001b[38;5;124m'\u001b[39m] \u001b[38;5;241m=\u001b[39m subprocess\u001b[38;5;241m.\u001b[39mPIPE\n\u001b[1;32m---> 79\u001b[0m     proc \u001b[38;5;241m=\u001b[39m \u001b[43m_run_input_lines\u001b[49m\u001b[43m(\u001b[49m\u001b[43mcmd\u001b[49m\u001b[43m,\u001b[49m\u001b[43m \u001b[49m\u001b[43minput_lines\u001b[49m\u001b[43m,\u001b[49m\u001b[43m \u001b[49m\u001b[43mkwargs\u001b[49m\u001b[38;5;241;43m=\u001b[39;49m\u001b[43mkwargs\u001b[49m\u001b[43m)\u001b[49m\n\u001b[0;32m     80\u001b[0m \u001b[38;5;28;01melse\u001b[39;00m:\n",
      "File \u001b[1;32m~\\miniconda3\\envs\\ml_tf\\lib\\site-packages\\graphviz\\backend\\execute.py:99\u001b[0m, in \u001b[0;36m_run_input_lines\u001b[1;34m(cmd, input_lines, kwargs)\u001b[0m\n\u001b[0;32m     98\u001b[0m \u001b[38;5;28;01mdef\u001b[39;00m \u001b[38;5;21m_run_input_lines\u001b[39m(cmd, input_lines, \u001b[38;5;241m*\u001b[39m, kwargs):\n\u001b[1;32m---> 99\u001b[0m     popen \u001b[38;5;241m=\u001b[39m subprocess\u001b[38;5;241m.\u001b[39mPopen(cmd, stdin\u001b[38;5;241m=\u001b[39msubprocess\u001b[38;5;241m.\u001b[39mPIPE, \u001b[38;5;241m*\u001b[39m\u001b[38;5;241m*\u001b[39mkwargs)\n\u001b[0;32m    101\u001b[0m     stdin_write \u001b[38;5;241m=\u001b[39m popen\u001b[38;5;241m.\u001b[39mstdin\u001b[38;5;241m.\u001b[39mwrite\n",
      "File \u001b[1;32m~\\miniconda3\\envs\\ml_tf\\lib\\subprocess.py:951\u001b[0m, in \u001b[0;36mPopen.__init__\u001b[1;34m(self, args, bufsize, executable, stdin, stdout, stderr, preexec_fn, close_fds, shell, cwd, env, universal_newlines, startupinfo, creationflags, restore_signals, start_new_session, pass_fds, user, group, extra_groups, encoding, errors, text, umask)\u001b[0m\n\u001b[0;32m    948\u001b[0m             \u001b[38;5;28mself\u001b[39m\u001b[38;5;241m.\u001b[39mstderr \u001b[38;5;241m=\u001b[39m io\u001b[38;5;241m.\u001b[39mTextIOWrapper(\u001b[38;5;28mself\u001b[39m\u001b[38;5;241m.\u001b[39mstderr,\n\u001b[0;32m    949\u001b[0m                     encoding\u001b[38;5;241m=\u001b[39mencoding, errors\u001b[38;5;241m=\u001b[39merrors)\n\u001b[1;32m--> 951\u001b[0m     \u001b[38;5;28;43mself\u001b[39;49m\u001b[38;5;241;43m.\u001b[39;49m\u001b[43m_execute_child\u001b[49m\u001b[43m(\u001b[49m\u001b[43margs\u001b[49m\u001b[43m,\u001b[49m\u001b[43m \u001b[49m\u001b[43mexecutable\u001b[49m\u001b[43m,\u001b[49m\u001b[43m \u001b[49m\u001b[43mpreexec_fn\u001b[49m\u001b[43m,\u001b[49m\u001b[43m \u001b[49m\u001b[43mclose_fds\u001b[49m\u001b[43m,\u001b[49m\n\u001b[0;32m    952\u001b[0m \u001b[43m                        \u001b[49m\u001b[43mpass_fds\u001b[49m\u001b[43m,\u001b[49m\u001b[43m \u001b[49m\u001b[43mcwd\u001b[49m\u001b[43m,\u001b[49m\u001b[43m \u001b[49m\u001b[43menv\u001b[49m\u001b[43m,\u001b[49m\n\u001b[0;32m    953\u001b[0m \u001b[43m                        \u001b[49m\u001b[43mstartupinfo\u001b[49m\u001b[43m,\u001b[49m\u001b[43m \u001b[49m\u001b[43mcreationflags\u001b[49m\u001b[43m,\u001b[49m\u001b[43m \u001b[49m\u001b[43mshell\u001b[49m\u001b[43m,\u001b[49m\n\u001b[0;32m    954\u001b[0m \u001b[43m                        \u001b[49m\u001b[43mp2cread\u001b[49m\u001b[43m,\u001b[49m\u001b[43m \u001b[49m\u001b[43mp2cwrite\u001b[49m\u001b[43m,\u001b[49m\n\u001b[0;32m    955\u001b[0m \u001b[43m                        \u001b[49m\u001b[43mc2pread\u001b[49m\u001b[43m,\u001b[49m\u001b[43m \u001b[49m\u001b[43mc2pwrite\u001b[49m\u001b[43m,\u001b[49m\n\u001b[0;32m    956\u001b[0m \u001b[43m                        \u001b[49m\u001b[43merrread\u001b[49m\u001b[43m,\u001b[49m\u001b[43m \u001b[49m\u001b[43merrwrite\u001b[49m\u001b[43m,\u001b[49m\n\u001b[0;32m    957\u001b[0m \u001b[43m                        \u001b[49m\u001b[43mrestore_signals\u001b[49m\u001b[43m,\u001b[49m\n\u001b[0;32m    958\u001b[0m \u001b[43m                        \u001b[49m\u001b[43mgid\u001b[49m\u001b[43m,\u001b[49m\u001b[43m \u001b[49m\u001b[43mgids\u001b[49m\u001b[43m,\u001b[49m\u001b[43m \u001b[49m\u001b[43muid\u001b[49m\u001b[43m,\u001b[49m\u001b[43m \u001b[49m\u001b[43mumask\u001b[49m\u001b[43m,\u001b[49m\n\u001b[0;32m    959\u001b[0m \u001b[43m                        \u001b[49m\u001b[43mstart_new_session\u001b[49m\u001b[43m)\u001b[49m\n\u001b[0;32m    960\u001b[0m \u001b[38;5;28;01mexcept\u001b[39;00m:\n\u001b[0;32m    961\u001b[0m     \u001b[38;5;66;03m# Cleanup if the child failed starting.\u001b[39;00m\n",
      "File \u001b[1;32m~\\miniconda3\\envs\\ml_tf\\lib\\subprocess.py:1436\u001b[0m, in \u001b[0;36mPopen._execute_child\u001b[1;34m(self, args, executable, preexec_fn, close_fds, pass_fds, cwd, env, startupinfo, creationflags, shell, p2cread, p2cwrite, c2pread, c2pwrite, errread, errwrite, unused_restore_signals, unused_gid, unused_gids, unused_uid, unused_umask, unused_start_new_session)\u001b[0m\n\u001b[0;32m   1435\u001b[0m \u001b[38;5;28;01mtry\u001b[39;00m:\n\u001b[1;32m-> 1436\u001b[0m     hp, ht, pid, tid \u001b[38;5;241m=\u001b[39m \u001b[43m_winapi\u001b[49m\u001b[38;5;241;43m.\u001b[39;49m\u001b[43mCreateProcess\u001b[49m\u001b[43m(\u001b[49m\u001b[43mexecutable\u001b[49m\u001b[43m,\u001b[49m\u001b[43m \u001b[49m\u001b[43margs\u001b[49m\u001b[43m,\u001b[49m\n\u001b[0;32m   1437\u001b[0m \u001b[43m                             \u001b[49m\u001b[38;5;66;43;03m# no special security\u001b[39;49;00m\n\u001b[0;32m   1438\u001b[0m \u001b[43m                             \u001b[49m\u001b[38;5;28;43;01mNone\u001b[39;49;00m\u001b[43m,\u001b[49m\u001b[43m \u001b[49m\u001b[38;5;28;43;01mNone\u001b[39;49;00m\u001b[43m,\u001b[49m\n\u001b[0;32m   1439\u001b[0m \u001b[43m                             \u001b[49m\u001b[38;5;28;43mint\u001b[39;49m\u001b[43m(\u001b[49m\u001b[38;5;129;43;01mnot\u001b[39;49;00m\u001b[43m \u001b[49m\u001b[43mclose_fds\u001b[49m\u001b[43m)\u001b[49m\u001b[43m,\u001b[49m\n\u001b[0;32m   1440\u001b[0m \u001b[43m                             \u001b[49m\u001b[43mcreationflags\u001b[49m\u001b[43m,\u001b[49m\n\u001b[0;32m   1441\u001b[0m \u001b[43m                             \u001b[49m\u001b[43menv\u001b[49m\u001b[43m,\u001b[49m\n\u001b[0;32m   1442\u001b[0m \u001b[43m                             \u001b[49m\u001b[43mcwd\u001b[49m\u001b[43m,\u001b[49m\n\u001b[0;32m   1443\u001b[0m \u001b[43m                             \u001b[49m\u001b[43mstartupinfo\u001b[49m\u001b[43m)\u001b[49m\n\u001b[0;32m   1444\u001b[0m \u001b[38;5;28;01mfinally\u001b[39;00m:\n\u001b[0;32m   1445\u001b[0m     \u001b[38;5;66;03m# Child is launched. Close the parent's copy of those pipe\u001b[39;00m\n\u001b[0;32m   1446\u001b[0m     \u001b[38;5;66;03m# handles that only the child should have open.  You need\u001b[39;00m\n\u001b[1;32m   (...)\u001b[0m\n\u001b[0;32m   1449\u001b[0m     \u001b[38;5;66;03m# pipe will not close when the child process exits and the\u001b[39;00m\n\u001b[0;32m   1450\u001b[0m     \u001b[38;5;66;03m# ReadFile will hang.\u001b[39;00m\n",
      "\u001b[1;31mFileNotFoundError\u001b[0m: [WinError 2] El sistema no puede encontrar el archivo especificado",
      "\nThe above exception was the direct cause of the following exception:\n",
      "\u001b[1;31mExecutableNotFound\u001b[0m                        Traceback (most recent call last)",
      "File \u001b[1;32m~\\miniconda3\\envs\\ml_tf\\lib\\site-packages\\IPython\\core\\formatters.py:974\u001b[0m, in \u001b[0;36mMimeBundleFormatter.__call__\u001b[1;34m(self, obj, include, exclude)\u001b[0m\n\u001b[0;32m    971\u001b[0m     method \u001b[38;5;241m=\u001b[39m get_real_method(obj, \u001b[38;5;28mself\u001b[39m\u001b[38;5;241m.\u001b[39mprint_method)\n\u001b[0;32m    973\u001b[0m     \u001b[38;5;28;01mif\u001b[39;00m method \u001b[38;5;129;01mis\u001b[39;00m \u001b[38;5;129;01mnot\u001b[39;00m \u001b[38;5;28;01mNone\u001b[39;00m:\n\u001b[1;32m--> 974\u001b[0m         \u001b[38;5;28;01mreturn\u001b[39;00m \u001b[43mmethod\u001b[49m\u001b[43m(\u001b[49m\u001b[43minclude\u001b[49m\u001b[38;5;241;43m=\u001b[39;49m\u001b[43minclude\u001b[49m\u001b[43m,\u001b[49m\u001b[43m \u001b[49m\u001b[43mexclude\u001b[49m\u001b[38;5;241;43m=\u001b[39;49m\u001b[43mexclude\u001b[49m\u001b[43m)\u001b[49m\n\u001b[0;32m    975\u001b[0m     \u001b[38;5;28;01mreturn\u001b[39;00m \u001b[38;5;28;01mNone\u001b[39;00m\n\u001b[0;32m    976\u001b[0m \u001b[38;5;28;01melse\u001b[39;00m:\n",
      "File \u001b[1;32m~\\miniconda3\\envs\\ml_tf\\lib\\site-packages\\graphviz\\jupyter_integration.py:98\u001b[0m, in \u001b[0;36mJupyterIntegration._repr_mimebundle_\u001b[1;34m(self, include, exclude, **_)\u001b[0m\n\u001b[0;32m     96\u001b[0m include \u001b[38;5;241m=\u001b[39m \u001b[38;5;28mset\u001b[39m(include) \u001b[38;5;28;01mif\u001b[39;00m include \u001b[38;5;129;01mis\u001b[39;00m \u001b[38;5;129;01mnot\u001b[39;00m \u001b[38;5;28;01mNone\u001b[39;00m \u001b[38;5;28;01melse\u001b[39;00m {\u001b[38;5;28mself\u001b[39m\u001b[38;5;241m.\u001b[39m_jupyter_mimetype}\n\u001b[0;32m     97\u001b[0m include \u001b[38;5;241m-\u001b[39m\u001b[38;5;241m=\u001b[39m \u001b[38;5;28mset\u001b[39m(exclude \u001b[38;5;129;01mor\u001b[39;00m [])\n\u001b[1;32m---> 98\u001b[0m \u001b[38;5;28;01mreturn\u001b[39;00m {mimetype: \u001b[38;5;28mgetattr\u001b[39m(\u001b[38;5;28mself\u001b[39m, method_name)()\n\u001b[0;32m     99\u001b[0m         \u001b[38;5;28;01mfor\u001b[39;00m mimetype, method_name \u001b[38;5;129;01min\u001b[39;00m MIME_TYPES\u001b[38;5;241m.\u001b[39mitems()\n\u001b[0;32m    100\u001b[0m         \u001b[38;5;28;01mif\u001b[39;00m mimetype \u001b[38;5;129;01min\u001b[39;00m include}\n",
      "File \u001b[1;32m~\\miniconda3\\envs\\ml_tf\\lib\\site-packages\\graphviz\\jupyter_integration.py:98\u001b[0m, in \u001b[0;36m<dictcomp>\u001b[1;34m(.0)\u001b[0m\n\u001b[0;32m     96\u001b[0m include \u001b[38;5;241m=\u001b[39m \u001b[38;5;28mset\u001b[39m(include) \u001b[38;5;28;01mif\u001b[39;00m include \u001b[38;5;129;01mis\u001b[39;00m \u001b[38;5;129;01mnot\u001b[39;00m \u001b[38;5;28;01mNone\u001b[39;00m \u001b[38;5;28;01melse\u001b[39;00m {\u001b[38;5;28mself\u001b[39m\u001b[38;5;241m.\u001b[39m_jupyter_mimetype}\n\u001b[0;32m     97\u001b[0m include \u001b[38;5;241m-\u001b[39m\u001b[38;5;241m=\u001b[39m \u001b[38;5;28mset\u001b[39m(exclude \u001b[38;5;129;01mor\u001b[39;00m [])\n\u001b[1;32m---> 98\u001b[0m \u001b[38;5;28;01mreturn\u001b[39;00m {mimetype: \u001b[38;5;28;43mgetattr\u001b[39;49m\u001b[43m(\u001b[49m\u001b[38;5;28;43mself\u001b[39;49m\u001b[43m,\u001b[49m\u001b[43m \u001b[49m\u001b[43mmethod_name\u001b[49m\u001b[43m)\u001b[49m\u001b[43m(\u001b[49m\u001b[43m)\u001b[49m\n\u001b[0;32m     99\u001b[0m         \u001b[38;5;28;01mfor\u001b[39;00m mimetype, method_name \u001b[38;5;129;01min\u001b[39;00m MIME_TYPES\u001b[38;5;241m.\u001b[39mitems()\n\u001b[0;32m    100\u001b[0m         \u001b[38;5;28;01mif\u001b[39;00m mimetype \u001b[38;5;129;01min\u001b[39;00m include}\n",
      "File \u001b[1;32m~\\miniconda3\\envs\\ml_tf\\lib\\site-packages\\graphviz\\jupyter_integration.py:112\u001b[0m, in \u001b[0;36mJupyterIntegration._repr_image_svg_xml\u001b[1;34m(self)\u001b[0m\n\u001b[0;32m    110\u001b[0m \u001b[38;5;28;01mdef\u001b[39;00m \u001b[38;5;21m_repr_image_svg_xml\u001b[39m(\u001b[38;5;28mself\u001b[39m) \u001b[38;5;241m-\u001b[39m\u001b[38;5;241m>\u001b[39m \u001b[38;5;28mstr\u001b[39m:\n\u001b[0;32m    111\u001b[0m \u001b[38;5;250m    \u001b[39m\u001b[38;5;124;03m\"\"\"Return the rendered graph as SVG string.\"\"\"\u001b[39;00m\n\u001b[1;32m--> 112\u001b[0m     \u001b[38;5;28;01mreturn\u001b[39;00m \u001b[38;5;28;43mself\u001b[39;49m\u001b[38;5;241;43m.\u001b[39;49m\u001b[43mpipe\u001b[49m\u001b[43m(\u001b[49m\u001b[38;5;28;43mformat\u001b[39;49m\u001b[38;5;241;43m=\u001b[39;49m\u001b[38;5;124;43m'\u001b[39;49m\u001b[38;5;124;43msvg\u001b[39;49m\u001b[38;5;124;43m'\u001b[39;49m\u001b[43m,\u001b[49m\u001b[43m \u001b[49m\u001b[43mencoding\u001b[49m\u001b[38;5;241;43m=\u001b[39;49m\u001b[43mSVG_ENCODING\u001b[49m\u001b[43m)\u001b[49m\n",
      "File \u001b[1;32m~\\miniconda3\\envs\\ml_tf\\lib\\site-packages\\graphviz\\piping.py:104\u001b[0m, in \u001b[0;36mPipe.pipe\u001b[1;34m(self, format, renderer, formatter, neato_no_op, quiet, engine, encoding)\u001b[0m\n\u001b[0;32m     55\u001b[0m \u001b[38;5;28;01mdef\u001b[39;00m \u001b[38;5;21mpipe\u001b[39m(\u001b[38;5;28mself\u001b[39m,\n\u001b[0;32m     56\u001b[0m          \u001b[38;5;28mformat\u001b[39m: typing\u001b[38;5;241m.\u001b[39mOptional[\u001b[38;5;28mstr\u001b[39m] \u001b[38;5;241m=\u001b[39m \u001b[38;5;28;01mNone\u001b[39;00m,\n\u001b[0;32m     57\u001b[0m          renderer: typing\u001b[38;5;241m.\u001b[39mOptional[\u001b[38;5;28mstr\u001b[39m] \u001b[38;5;241m=\u001b[39m \u001b[38;5;28;01mNone\u001b[39;00m,\n\u001b[1;32m   (...)\u001b[0m\n\u001b[0;32m     61\u001b[0m          engine: typing\u001b[38;5;241m.\u001b[39mOptional[\u001b[38;5;28mstr\u001b[39m] \u001b[38;5;241m=\u001b[39m \u001b[38;5;28;01mNone\u001b[39;00m,\n\u001b[0;32m     62\u001b[0m          encoding: typing\u001b[38;5;241m.\u001b[39mOptional[\u001b[38;5;28mstr\u001b[39m] \u001b[38;5;241m=\u001b[39m \u001b[38;5;28;01mNone\u001b[39;00m) \u001b[38;5;241m-\u001b[39m\u001b[38;5;241m>\u001b[39m typing\u001b[38;5;241m.\u001b[39mUnion[\u001b[38;5;28mbytes\u001b[39m, \u001b[38;5;28mstr\u001b[39m]:\n\u001b[0;32m     63\u001b[0m \u001b[38;5;250m    \u001b[39m\u001b[38;5;124;03m\"\"\"Return the source piped through the Graphviz layout command.\u001b[39;00m\n\u001b[0;32m     64\u001b[0m \n\u001b[0;32m     65\u001b[0m \u001b[38;5;124;03m    Args:\u001b[39;00m\n\u001b[1;32m   (...)\u001b[0m\n\u001b[0;32m    102\u001b[0m \u001b[38;5;124;03m        '<?xml version='\u001b[39;00m\n\u001b[0;32m    103\u001b[0m \u001b[38;5;124;03m    \"\"\"\u001b[39;00m\n\u001b[1;32m--> 104\u001b[0m     \u001b[38;5;28;01mreturn\u001b[39;00m \u001b[38;5;28;43mself\u001b[39;49m\u001b[38;5;241;43m.\u001b[39;49m\u001b[43m_pipe_legacy\u001b[49m\u001b[43m(\u001b[49m\u001b[38;5;28;43mformat\u001b[39;49m\u001b[43m,\u001b[49m\n\u001b[0;32m    105\u001b[0m \u001b[43m                             \u001b[49m\u001b[43mrenderer\u001b[49m\u001b[38;5;241;43m=\u001b[39;49m\u001b[43mrenderer\u001b[49m\u001b[43m,\u001b[49m\n\u001b[0;32m    106\u001b[0m \u001b[43m                             \u001b[49m\u001b[43mformatter\u001b[49m\u001b[38;5;241;43m=\u001b[39;49m\u001b[43mformatter\u001b[49m\u001b[43m,\u001b[49m\n\u001b[0;32m    107\u001b[0m \u001b[43m                             \u001b[49m\u001b[43mneato_no_op\u001b[49m\u001b[38;5;241;43m=\u001b[39;49m\u001b[43mneato_no_op\u001b[49m\u001b[43m,\u001b[49m\n\u001b[0;32m    108\u001b[0m \u001b[43m                             \u001b[49m\u001b[43mquiet\u001b[49m\u001b[38;5;241;43m=\u001b[39;49m\u001b[43mquiet\u001b[49m\u001b[43m,\u001b[49m\n\u001b[0;32m    109\u001b[0m \u001b[43m                             \u001b[49m\u001b[43mengine\u001b[49m\u001b[38;5;241;43m=\u001b[39;49m\u001b[43mengine\u001b[49m\u001b[43m,\u001b[49m\n\u001b[0;32m    110\u001b[0m \u001b[43m                             \u001b[49m\u001b[43mencoding\u001b[49m\u001b[38;5;241;43m=\u001b[39;49m\u001b[43mencoding\u001b[49m\u001b[43m)\u001b[49m\n",
      "File \u001b[1;32m~\\miniconda3\\envs\\ml_tf\\lib\\site-packages\\graphviz\\_tools.py:171\u001b[0m, in \u001b[0;36mdeprecate_positional_args.<locals>.decorator.<locals>.wrapper\u001b[1;34m(*args, **kwargs)\u001b[0m\n\u001b[0;32m    162\u001b[0m     wanted \u001b[38;5;241m=\u001b[39m \u001b[38;5;124m'\u001b[39m\u001b[38;5;124m, \u001b[39m\u001b[38;5;124m'\u001b[39m\u001b[38;5;241m.\u001b[39mjoin(\u001b[38;5;124mf\u001b[39m\u001b[38;5;124m'\u001b[39m\u001b[38;5;132;01m{\u001b[39;00mname\u001b[38;5;132;01m}\u001b[39;00m\u001b[38;5;124m=\u001b[39m\u001b[38;5;132;01m{\u001b[39;00mvalue\u001b[38;5;132;01m!r}\u001b[39;00m\u001b[38;5;124m'\u001b[39m\n\u001b[0;32m    163\u001b[0m                        \u001b[38;5;28;01mfor\u001b[39;00m name, value \u001b[38;5;129;01min\u001b[39;00m deprecated\u001b[38;5;241m.\u001b[39mitems())\n\u001b[0;32m    164\u001b[0m     warnings\u001b[38;5;241m.\u001b[39mwarn(\u001b[38;5;124mf\u001b[39m\u001b[38;5;124m'\u001b[39m\u001b[38;5;124mThe signature of \u001b[39m\u001b[38;5;132;01m{\u001b[39;00mfunc\u001b[38;5;241m.\u001b[39m\u001b[38;5;18m__name__\u001b[39m\u001b[38;5;132;01m}\u001b[39;00m\u001b[38;5;124m will be reduced\u001b[39m\u001b[38;5;124m'\u001b[39m\n\u001b[0;32m    165\u001b[0m                   \u001b[38;5;124mf\u001b[39m\u001b[38;5;124m'\u001b[39m\u001b[38;5;124m to \u001b[39m\u001b[38;5;132;01m{\u001b[39;00msupported_number\u001b[38;5;132;01m}\u001b[39;00m\u001b[38;5;124m positional args\u001b[39m\u001b[38;5;124m'\u001b[39m\n\u001b[0;32m    166\u001b[0m                   \u001b[38;5;124mf\u001b[39m\u001b[38;5;124m'\u001b[39m\u001b[38;5;124m \u001b[39m\u001b[38;5;132;01m{\u001b[39;00m\u001b[38;5;28mlist\u001b[39m(supported)\u001b[38;5;132;01m}\u001b[39;00m\u001b[38;5;124m: pass \u001b[39m\u001b[38;5;132;01m{\u001b[39;00mwanted\u001b[38;5;132;01m}\u001b[39;00m\u001b[38;5;124m'\u001b[39m\n\u001b[0;32m    167\u001b[0m                   \u001b[38;5;124m'\u001b[39m\u001b[38;5;124m as keyword arg(s)\u001b[39m\u001b[38;5;124m'\u001b[39m,\n\u001b[0;32m    168\u001b[0m                   stacklevel\u001b[38;5;241m=\u001b[39mstacklevel,\n\u001b[0;32m    169\u001b[0m                   category\u001b[38;5;241m=\u001b[39mcategory)\n\u001b[1;32m--> 171\u001b[0m \u001b[38;5;28;01mreturn\u001b[39;00m func(\u001b[38;5;241m*\u001b[39margs, \u001b[38;5;241m*\u001b[39m\u001b[38;5;241m*\u001b[39mkwargs)\n",
      "File \u001b[1;32m~\\miniconda3\\envs\\ml_tf\\lib\\site-packages\\graphviz\\piping.py:121\u001b[0m, in \u001b[0;36mPipe._pipe_legacy\u001b[1;34m(self, format, renderer, formatter, neato_no_op, quiet, engine, encoding)\u001b[0m\n\u001b[0;32m    112\u001b[0m \u001b[38;5;129m@_tools\u001b[39m\u001b[38;5;241m.\u001b[39mdeprecate_positional_args(supported_number\u001b[38;5;241m=\u001b[39m\u001b[38;5;241m2\u001b[39m)\n\u001b[0;32m    113\u001b[0m \u001b[38;5;28;01mdef\u001b[39;00m \u001b[38;5;21m_pipe_legacy\u001b[39m(\u001b[38;5;28mself\u001b[39m,\n\u001b[0;32m    114\u001b[0m                  \u001b[38;5;28mformat\u001b[39m: typing\u001b[38;5;241m.\u001b[39mOptional[\u001b[38;5;28mstr\u001b[39m] \u001b[38;5;241m=\u001b[39m \u001b[38;5;28;01mNone\u001b[39;00m,\n\u001b[1;32m   (...)\u001b[0m\n\u001b[0;32m    119\u001b[0m                  engine: typing\u001b[38;5;241m.\u001b[39mOptional[\u001b[38;5;28mstr\u001b[39m] \u001b[38;5;241m=\u001b[39m \u001b[38;5;28;01mNone\u001b[39;00m,\n\u001b[0;32m    120\u001b[0m                  encoding: typing\u001b[38;5;241m.\u001b[39mOptional[\u001b[38;5;28mstr\u001b[39m] \u001b[38;5;241m=\u001b[39m \u001b[38;5;28;01mNone\u001b[39;00m) \u001b[38;5;241m-\u001b[39m\u001b[38;5;241m>\u001b[39m typing\u001b[38;5;241m.\u001b[39mUnion[\u001b[38;5;28mbytes\u001b[39m, \u001b[38;5;28mstr\u001b[39m]:\n\u001b[1;32m--> 121\u001b[0m     \u001b[38;5;28;01mreturn\u001b[39;00m \u001b[38;5;28;43mself\u001b[39;49m\u001b[38;5;241;43m.\u001b[39;49m\u001b[43m_pipe_future\u001b[49m\u001b[43m(\u001b[49m\u001b[38;5;28;43mformat\u001b[39;49m\u001b[43m,\u001b[49m\n\u001b[0;32m    122\u001b[0m \u001b[43m                             \u001b[49m\u001b[43mrenderer\u001b[49m\u001b[38;5;241;43m=\u001b[39;49m\u001b[43mrenderer\u001b[49m\u001b[43m,\u001b[49m\n\u001b[0;32m    123\u001b[0m \u001b[43m                             \u001b[49m\u001b[43mformatter\u001b[49m\u001b[38;5;241;43m=\u001b[39;49m\u001b[43mformatter\u001b[49m\u001b[43m,\u001b[49m\n\u001b[0;32m    124\u001b[0m \u001b[43m                             \u001b[49m\u001b[43mneato_no_op\u001b[49m\u001b[38;5;241;43m=\u001b[39;49m\u001b[43mneato_no_op\u001b[49m\u001b[43m,\u001b[49m\n\u001b[0;32m    125\u001b[0m \u001b[43m                             \u001b[49m\u001b[43mquiet\u001b[49m\u001b[38;5;241;43m=\u001b[39;49m\u001b[43mquiet\u001b[49m\u001b[43m,\u001b[49m\n\u001b[0;32m    126\u001b[0m \u001b[43m                             \u001b[49m\u001b[43mengine\u001b[49m\u001b[38;5;241;43m=\u001b[39;49m\u001b[43mengine\u001b[49m\u001b[43m,\u001b[49m\n\u001b[0;32m    127\u001b[0m \u001b[43m                             \u001b[49m\u001b[43mencoding\u001b[49m\u001b[38;5;241;43m=\u001b[39;49m\u001b[43mencoding\u001b[49m\u001b[43m)\u001b[49m\n",
      "File \u001b[1;32m~\\miniconda3\\envs\\ml_tf\\lib\\site-packages\\graphviz\\piping.py:149\u001b[0m, in \u001b[0;36mPipe._pipe_future\u001b[1;34m(self, format, renderer, formatter, neato_no_op, quiet, engine, encoding)\u001b[0m\n\u001b[0;32m    146\u001b[0m \u001b[38;5;28;01mif\u001b[39;00m encoding \u001b[38;5;129;01mis\u001b[39;00m \u001b[38;5;129;01mnot\u001b[39;00m \u001b[38;5;28;01mNone\u001b[39;00m:\n\u001b[0;32m    147\u001b[0m     \u001b[38;5;28;01mif\u001b[39;00m codecs\u001b[38;5;241m.\u001b[39mlookup(encoding) \u001b[38;5;129;01mis\u001b[39;00m codecs\u001b[38;5;241m.\u001b[39mlookup(\u001b[38;5;28mself\u001b[39m\u001b[38;5;241m.\u001b[39mencoding):\n\u001b[0;32m    148\u001b[0m         \u001b[38;5;66;03m# common case: both stdin and stdout need the same encoding\u001b[39;00m\n\u001b[1;32m--> 149\u001b[0m         \u001b[38;5;28;01mreturn\u001b[39;00m \u001b[38;5;28mself\u001b[39m\u001b[38;5;241m.\u001b[39m_pipe_lines_string(\u001b[38;5;241m*\u001b[39margs, encoding\u001b[38;5;241m=\u001b[39mencoding, \u001b[38;5;241m*\u001b[39m\u001b[38;5;241m*\u001b[39mkwargs)\n\u001b[0;32m    150\u001b[0m     \u001b[38;5;28;01mtry\u001b[39;00m:\n\u001b[0;32m    151\u001b[0m         raw \u001b[38;5;241m=\u001b[39m \u001b[38;5;28mself\u001b[39m\u001b[38;5;241m.\u001b[39m_pipe_lines(\u001b[38;5;241m*\u001b[39margs, input_encoding\u001b[38;5;241m=\u001b[39m\u001b[38;5;28mself\u001b[39m\u001b[38;5;241m.\u001b[39mencoding, \u001b[38;5;241m*\u001b[39m\u001b[38;5;241m*\u001b[39mkwargs)\n",
      "File \u001b[1;32m~\\miniconda3\\envs\\ml_tf\\lib\\site-packages\\graphviz\\backend\\piping.py:212\u001b[0m, in \u001b[0;36mpipe_lines_string\u001b[1;34m(engine, format, input_lines, encoding, renderer, formatter, neato_no_op, quiet)\u001b[0m\n\u001b[0;32m    206\u001b[0m cmd \u001b[38;5;241m=\u001b[39m dot_command\u001b[38;5;241m.\u001b[39mcommand(engine, \u001b[38;5;28mformat\u001b[39m,\n\u001b[0;32m    207\u001b[0m                           renderer\u001b[38;5;241m=\u001b[39mrenderer,\n\u001b[0;32m    208\u001b[0m                           formatter\u001b[38;5;241m=\u001b[39mformatter,\n\u001b[0;32m    209\u001b[0m                           neato_no_op\u001b[38;5;241m=\u001b[39mneato_no_op)\n\u001b[0;32m    210\u001b[0m kwargs \u001b[38;5;241m=\u001b[39m {\u001b[38;5;124m'\u001b[39m\u001b[38;5;124minput_lines\u001b[39m\u001b[38;5;124m'\u001b[39m: input_lines, \u001b[38;5;124m'\u001b[39m\u001b[38;5;124mencoding\u001b[39m\u001b[38;5;124m'\u001b[39m: encoding}\n\u001b[1;32m--> 212\u001b[0m proc \u001b[38;5;241m=\u001b[39m execute\u001b[38;5;241m.\u001b[39mrun_check(cmd, capture_output\u001b[38;5;241m=\u001b[39m\u001b[38;5;28;01mTrue\u001b[39;00m, quiet\u001b[38;5;241m=\u001b[39mquiet, \u001b[38;5;241m*\u001b[39m\u001b[38;5;241m*\u001b[39mkwargs)\n\u001b[0;32m    213\u001b[0m \u001b[38;5;28;01mreturn\u001b[39;00m proc\u001b[38;5;241m.\u001b[39mstdout\n",
      "File \u001b[1;32m~\\miniconda3\\envs\\ml_tf\\lib\\site-packages\\graphviz\\backend\\execute.py:84\u001b[0m, in \u001b[0;36mrun_check\u001b[1;34m(cmd, input_lines, encoding, quiet, **kwargs)\u001b[0m\n\u001b[0;32m     82\u001b[0m \u001b[38;5;28;01mexcept\u001b[39;00m \u001b[38;5;167;01mOSError\u001b[39;00m \u001b[38;5;28;01mas\u001b[39;00m e:\n\u001b[0;32m     83\u001b[0m     \u001b[38;5;28;01mif\u001b[39;00m e\u001b[38;5;241m.\u001b[39merrno \u001b[38;5;241m==\u001b[39m errno\u001b[38;5;241m.\u001b[39mENOENT:\n\u001b[1;32m---> 84\u001b[0m         \u001b[38;5;28;01mraise\u001b[39;00m ExecutableNotFound(cmd) \u001b[38;5;28;01mfrom\u001b[39;00m \u001b[38;5;21;01me\u001b[39;00m\n\u001b[0;32m     85\u001b[0m     \u001b[38;5;28;01mraise\u001b[39;00m\n\u001b[0;32m     87\u001b[0m \u001b[38;5;28;01mif\u001b[39;00m \u001b[38;5;129;01mnot\u001b[39;00m quiet \u001b[38;5;129;01mand\u001b[39;00m proc\u001b[38;5;241m.\u001b[39mstderr:\n",
      "\u001b[1;31mExecutableNotFound\u001b[0m: failed to execute WindowsPath('dot'), make sure the Graphviz executables are on your systems' PATH"
     ]
    },
    {
     "data": {
      "text/plain": [
       "<graphviz.sources.Source at 0x1d024f785e0>"
      ]
     },
     "metadata": {},
     "output_type": "display_data"
    },
    {
     "data": {
      "image/png": "[encoded data removed]",
      "text/plain": [
       "<Figure size 640x480 with 1 Axes>"
      ]
     },
     "metadata": {},
     "output_type": "display_data"
    }
   ],
   "source": [
    "tree = mglearn.plots.plot_tree_not_monotone()\n",
    "display(tree)"
   ]
  },
  {
   "attachments": {},
   "cell_type": "markdown",
   "metadata": {},
   "source": [
    "- El gráfico muestra un conjunto de datos con dos características y dos clases. Aquí, toda la información está contenida en `X[1]` , y `X[0]` no se utiliza en absoluto. Pero la relación entre X[1] y la clase de salida no es monótona, lo que significa que no podemos decir `\"un valor alto de X[0] significa la clase 0, y un valor bajo significa la clase 1\" (o viceversa)`. Aunque hemos centrado nuestra discusión aquí en los árboles de decisión para la clasificación, todo lo que se ha dicho es igualmente cierto para los árboles de decisión para la regresión, como se implementa en `DecisionTreeRegressor`. \n",
    "\n",
    "- El uso y análisis de los árboles de regresión es muy similar al de los árboles de clasificación. Hay una propiedad particular del uso de modelos basados en árboles para regresión que queremos señalar, sin embargo, `DecisionTreeRegressor (y todos los otros modelos de regresión basados en árboles) no son capaces de extrapolar, o hacer predicciones fuera del rango de los datos de entrenamiento`. Veamos esto con más detalle, utilizando un conjunto de datos de los precios históricos de la memoria de los ordenadores (RAM). La siguiente figura muestra el conjunto de datos, con la fecha en el eje $x$ y el precio de un megabyte de RAM en ese año en el eje $y$:"
   ]
  },
  {
   "cell_type": "code",
   "execution_count": 16,
   "metadata": {},
   "outputs": [
    {
     "ename": "FileNotFoundError",
     "evalue": "[Errno 2] No such file or directory: 'D:/datasets/ram_price.csv'",
     "output_type": "error",
     "traceback": [
      "\u001b[1;31m---------------------------------------------------------------------------\u001b[0m",
      "\u001b[1;31mFileNotFoundError\u001b[0m                         Traceback (most recent call last)",
      "Cell \u001b[1;32mIn[16], line 2\u001b[0m\n\u001b[0;32m      1\u001b[0m \u001b[38;5;28;01mimport\u001b[39;00m \u001b[38;5;21;01mpandas\u001b[39;00m \u001b[38;5;28;01mas\u001b[39;00m \u001b[38;5;21;01mpd\u001b[39;00m\n\u001b[1;32m----> 2\u001b[0m ram_prices \u001b[38;5;241m=\u001b[39m \u001b[43mpd\u001b[49m\u001b[38;5;241;43m.\u001b[39;49m\u001b[43mread_csv\u001b[49m\u001b[43m(\u001b[49m\u001b[38;5;124;43m\"\u001b[39;49m\u001b[38;5;124;43mD:/datasets/ram_price.csv\u001b[39;49m\u001b[38;5;124;43m\"\u001b[39;49m\u001b[43m)\u001b[49m\n\u001b[0;32m      3\u001b[0m plt\u001b[38;5;241m.\u001b[39msemilogy(ram_prices\u001b[38;5;241m.\u001b[39mdate, ram_prices\u001b[38;5;241m.\u001b[39mprice)\n\u001b[0;32m      4\u001b[0m plt\u001b[38;5;241m.\u001b[39mxlabel(\u001b[38;5;124m\"\u001b[39m\u001b[38;5;124mYear\u001b[39m\u001b[38;5;124m\"\u001b[39m)\n",
      "File \u001b[1;32m~\\miniconda3\\envs\\ml_tf\\lib\\site-packages\\pandas\\io\\parsers\\readers.py:912\u001b[0m, in \u001b[0;36mread_csv\u001b[1;34m(filepath_or_buffer, sep, delimiter, header, names, index_col, usecols, dtype, engine, converters, true_values, false_values, skipinitialspace, skiprows, skipfooter, nrows, na_values, keep_default_na, na_filter, verbose, skip_blank_lines, parse_dates, infer_datetime_format, keep_date_col, date_parser, date_format, dayfirst, cache_dates, iterator, chunksize, compression, thousands, decimal, lineterminator, quotechar, quoting, doublequote, escapechar, comment, encoding, encoding_errors, dialect, on_bad_lines, delim_whitespace, low_memory, memory_map, float_precision, storage_options, dtype_backend)\u001b[0m\n\u001b[0;32m    899\u001b[0m kwds_defaults \u001b[38;5;241m=\u001b[39m _refine_defaults_read(\n\u001b[0;32m    900\u001b[0m     dialect,\n\u001b[0;32m    901\u001b[0m     delimiter,\n\u001b[1;32m   (...)\u001b[0m\n\u001b[0;32m    908\u001b[0m     dtype_backend\u001b[38;5;241m=\u001b[39mdtype_backend,\n\u001b[0;32m    909\u001b[0m )\n\u001b[0;32m    910\u001b[0m kwds\u001b[38;5;241m.\u001b[39mupdate(kwds_defaults)\n\u001b[1;32m--> 912\u001b[0m \u001b[38;5;28;01mreturn\u001b[39;00m \u001b[43m_read\u001b[49m\u001b[43m(\u001b[49m\u001b[43mfilepath_or_buffer\u001b[49m\u001b[43m,\u001b[49m\u001b[43m \u001b[49m\u001b[43mkwds\u001b[49m\u001b[43m)\u001b[49m\n",
      "File \u001b[1;32m~\\miniconda3\\envs\\ml_tf\\lib\\site-packages\\pandas\\io\\parsers\\readers.py:577\u001b[0m, in \u001b[0;36m_read\u001b[1;34m(filepath_or_buffer, kwds)\u001b[0m\n\u001b[0;32m    574\u001b[0m _validate_names(kwds\u001b[38;5;241m.\u001b[39mget(\u001b[38;5;124m\"\u001b[39m\u001b[38;5;124mnames\u001b[39m\u001b[38;5;124m\"\u001b[39m, \u001b[38;5;28;01mNone\u001b[39;00m))\n\u001b[0;32m    576\u001b[0m \u001b[38;5;66;03m# Create the parser.\u001b[39;00m\n\u001b[1;32m--> 577\u001b[0m parser \u001b[38;5;241m=\u001b[39m TextFileReader(filepath_or_buffer, \u001b[38;5;241m*\u001b[39m\u001b[38;5;241m*\u001b[39mkwds)\n\u001b[0;32m    579\u001b[0m \u001b[38;5;28;01mif\u001b[39;00m chunksize \u001b[38;5;129;01mor\u001b[39;00m iterator:\n\u001b[0;32m    580\u001b[0m     \u001b[38;5;28;01mreturn\u001b[39;00m parser\n",
      "File \u001b[1;32m~\\miniconda3\\envs\\ml_tf\\lib\\site-packages\\pandas\\io\\parsers\\readers.py:1407\u001b[0m, in \u001b[0;36mTextFileReader.__init__\u001b[1;34m(self, f, engine, **kwds)\u001b[0m\n\u001b[0;32m   1404\u001b[0m     \u001b[38;5;28mself\u001b[39m\u001b[38;5;241m.\u001b[39moptions[\u001b[38;5;124m\"\u001b[39m\u001b[38;5;124mhas_index_names\u001b[39m\u001b[38;5;124m\"\u001b[39m] \u001b[38;5;241m=\u001b[39m kwds[\u001b[38;5;124m\"\u001b[39m\u001b[38;5;124mhas_index_names\u001b[39m\u001b[38;5;124m\"\u001b[39m]\n\u001b[0;32m   1406\u001b[0m \u001b[38;5;28mself\u001b[39m\u001b[38;5;241m.\u001b[39mhandles: IOHandles \u001b[38;5;241m|\u001b[39m \u001b[38;5;28;01mNone\u001b[39;00m \u001b[38;5;241m=\u001b[39m \u001b[38;5;28;01mNone\u001b[39;00m\n\u001b[1;32m-> 1407\u001b[0m \u001b[38;5;28mself\u001b[39m\u001b[38;5;241m.\u001b[39m_engine \u001b[38;5;241m=\u001b[39m \u001b[38;5;28;43mself\u001b[39;49m\u001b[38;5;241;43m.\u001b[39;49m\u001b[43m_make_engine\u001b[49m\u001b[43m(\u001b[49m\u001b[43mf\u001b[49m\u001b[43m,\u001b[49m\u001b[43m \u001b[49m\u001b[38;5;28;43mself\u001b[39;49m\u001b[38;5;241;43m.\u001b[39;49m\u001b[43mengine\u001b[49m\u001b[43m)\u001b[49m\n",
      "File \u001b[1;32m~\\miniconda3\\envs\\ml_tf\\lib\\site-packages\\pandas\\io\\parsers\\readers.py:1661\u001b[0m, in \u001b[0;36mTextFileReader._make_engine\u001b[1;34m(self, f, engine)\u001b[0m\n\u001b[0;32m   1659\u001b[0m     \u001b[38;5;28;01mif\u001b[39;00m \u001b[38;5;124m\"\u001b[39m\u001b[38;5;124mb\u001b[39m\u001b[38;5;124m\"\u001b[39m \u001b[38;5;129;01mnot\u001b[39;00m \u001b[38;5;129;01min\u001b[39;00m mode:\n\u001b[0;32m   1660\u001b[0m         mode \u001b[38;5;241m+\u001b[39m\u001b[38;5;241m=\u001b[39m \u001b[38;5;124m\"\u001b[39m\u001b[38;5;124mb\u001b[39m\u001b[38;5;124m\"\u001b[39m\n\u001b[1;32m-> 1661\u001b[0m \u001b[38;5;28mself\u001b[39m\u001b[38;5;241m.\u001b[39mhandles \u001b[38;5;241m=\u001b[39m \u001b[43mget_handle\u001b[49m\u001b[43m(\u001b[49m\n\u001b[0;32m   1662\u001b[0m \u001b[43m    \u001b[49m\u001b[43mf\u001b[49m\u001b[43m,\u001b[49m\n\u001b[0;32m   1663\u001b[0m \u001b[43m    \u001b[49m\u001b[43mmode\u001b[49m\u001b[43m,\u001b[49m\n\u001b[0;32m   1664\u001b[0m \u001b[43m    \u001b[49m\u001b[43mencoding\u001b[49m\u001b[38;5;241;43m=\u001b[39;49m\u001b[38;5;28;43mself\u001b[39;49m\u001b[38;5;241;43m.\u001b[39;49m\u001b[43moptions\u001b[49m\u001b[38;5;241;43m.\u001b[39;49m\u001b[43mget\u001b[49m\u001b[43m(\u001b[49m\u001b[38;5;124;43m\"\u001b[39;49m\u001b[38;5;124;43mencoding\u001b[39;49m\u001b[38;5;124;43m\"\u001b[39;49m\u001b[43m,\u001b[49m\u001b[43m \u001b[49m\u001b[38;5;28;43;01mNone\u001b[39;49;00m\u001b[43m)\u001b[49m\u001b[43m,\u001b[49m\n\u001b[0;32m   1665\u001b[0m \u001b[43m    \u001b[49m\u001b[43mcompression\u001b[49m\u001b[38;5;241;43m=\u001b[39;49m\u001b[38;5;28;43mself\u001b[39;49m\u001b[38;5;241;43m.\u001b[39;49m\u001b[43moptions\u001b[49m\u001b[38;5;241;43m.\u001b[39;49m\u001b[43mget\u001b[49m\u001b[43m(\u001b[49m\u001b[38;5;124;43m\"\u001b[39;49m\u001b[38;5;124;43mcompression\u001b[39;49m\u001b[38;5;124;43m\"\u001b[39;49m\u001b[43m,\u001b[49m\u001b[43m \u001b[49m\u001b[38;5;28;43;01mNone\u001b[39;49;00m\u001b[43m)\u001b[49m\u001b[43m,\u001b[49m\n\u001b[0;32m   1666\u001b[0m \u001b[43m    \u001b[49m\u001b[43mmemory_map\u001b[49m\u001b[38;5;241;43m=\u001b[39;49m\u001b[38;5;28;43mself\u001b[39;49m\u001b[38;5;241;43m.\u001b[39;49m\u001b[43moptions\u001b[49m\u001b[38;5;241;43m.\u001b[39;49m\u001b[43mget\u001b[49m\u001b[43m(\u001b[49m\u001b[38;5;124;43m\"\u001b[39;49m\u001b[38;5;124;43mmemory_map\u001b[39;49m\u001b[38;5;124;43m\"\u001b[39;49m\u001b[43m,\u001b[49m\u001b[43m \u001b[49m\u001b[38;5;28;43;01mFalse\u001b[39;49;00m\u001b[43m)\u001b[49m\u001b[43m,\u001b[49m\n\u001b[0;32m   1667\u001b[0m \u001b[43m    \u001b[49m\u001b[43mis_text\u001b[49m\u001b[38;5;241;43m=\u001b[39;49m\u001b[43mis_text\u001b[49m\u001b[43m,\u001b[49m\n\u001b[0;32m   1668\u001b[0m \u001b[43m    \u001b[49m\u001b[43merrors\u001b[49m\u001b[38;5;241;43m=\u001b[39;49m\u001b[38;5;28;43mself\u001b[39;49m\u001b[38;5;241;43m.\u001b[39;49m\u001b[43moptions\u001b[49m\u001b[38;5;241;43m.\u001b[39;49m\u001b[43mget\u001b[49m\u001b[43m(\u001b[49m\u001b[38;5;124;43m\"\u001b[39;49m\u001b[38;5;124;43mencoding_errors\u001b[39;49m\u001b[38;5;124;43m\"\u001b[39;49m\u001b[43m,\u001b[49m\u001b[43m \u001b[49m\u001b[38;5;124;43m\"\u001b[39;49m\u001b[38;5;124;43mstrict\u001b[39;49m\u001b[38;5;124;43m\"\u001b[39;49m\u001b[43m)\u001b[49m\u001b[43m,\u001b[49m\n\u001b[0;32m   1669\u001b[0m \u001b[43m    \u001b[49m\u001b[43mstorage_options\u001b[49m\u001b[38;5;241;43m=\u001b[39;49m\u001b[38;5;28;43mself\u001b[39;49m\u001b[38;5;241;43m.\u001b[39;49m\u001b[43moptions\u001b[49m\u001b[38;5;241;43m.\u001b[39;49m\u001b[43mget\u001b[49m\u001b[43m(\u001b[49m\u001b[38;5;124;43m\"\u001b[39;49m\u001b[38;5;124;43mstorage_options\u001b[39;49m\u001b[38;5;124;43m\"\u001b[39;49m\u001b[43m,\u001b[49m\u001b[43m \u001b[49m\u001b[38;5;28;43;01mNone\u001b[39;49;00m\u001b[43m)\u001b[49m\u001b[43m,\u001b[49m\n\u001b[0;32m   1670\u001b[0m \u001b[43m\u001b[49m\u001b[43m)\u001b[49m\n\u001b[0;32m   1671\u001b[0m \u001b[38;5;28;01massert\u001b[39;00m \u001b[38;5;28mself\u001b[39m\u001b[38;5;241m.\u001b[39mhandles \u001b[38;5;129;01mis\u001b[39;00m \u001b[38;5;129;01mnot\u001b[39;00m \u001b[38;5;28;01mNone\u001b[39;00m\n\u001b[0;32m   1672\u001b[0m f \u001b[38;5;241m=\u001b[39m \u001b[38;5;28mself\u001b[39m\u001b[38;5;241m.\u001b[39mhandles\u001b[38;5;241m.\u001b[39mhandle\n",
      "File \u001b[1;32m~\\miniconda3\\envs\\ml_tf\\lib\\site-packages\\pandas\\io\\common.py:859\u001b[0m, in \u001b[0;36mget_handle\u001b[1;34m(path_or_buf, mode, encoding, compression, memory_map, is_text, errors, storage_options)\u001b[0m\n\u001b[0;32m    854\u001b[0m \u001b[38;5;28;01melif\u001b[39;00m \u001b[38;5;28misinstance\u001b[39m(handle, \u001b[38;5;28mstr\u001b[39m):\n\u001b[0;32m    855\u001b[0m     \u001b[38;5;66;03m# Check whether the filename is to be opened in binary mode.\u001b[39;00m\n\u001b[0;32m    856\u001b[0m     \u001b[38;5;66;03m# Binary mode does not support 'encoding' and 'newline'.\u001b[39;00m\n\u001b[0;32m    857\u001b[0m     \u001b[38;5;28;01mif\u001b[39;00m ioargs\u001b[38;5;241m.\u001b[39mencoding \u001b[38;5;129;01mand\u001b[39;00m \u001b[38;5;124m\"\u001b[39m\u001b[38;5;124mb\u001b[39m\u001b[38;5;124m\"\u001b[39m \u001b[38;5;129;01mnot\u001b[39;00m \u001b[38;5;129;01min\u001b[39;00m ioargs\u001b[38;5;241m.\u001b[39mmode:\n\u001b[0;32m    858\u001b[0m         \u001b[38;5;66;03m# Encoding\u001b[39;00m\n\u001b[1;32m--> 859\u001b[0m         handle \u001b[38;5;241m=\u001b[39m \u001b[38;5;28;43mopen\u001b[39;49m\u001b[43m(\u001b[49m\n\u001b[0;32m    860\u001b[0m \u001b[43m            \u001b[49m\u001b[43mhandle\u001b[49m\u001b[43m,\u001b[49m\n\u001b[0;32m    861\u001b[0m \u001b[43m            \u001b[49m\u001b[43mioargs\u001b[49m\u001b[38;5;241;43m.\u001b[39;49m\u001b[43mmode\u001b[49m\u001b[43m,\u001b[49m\n\u001b[0;32m    862\u001b[0m \u001b[43m            \u001b[49m\u001b[43mencoding\u001b[49m\u001b[38;5;241;43m=\u001b[39;49m\u001b[43mioargs\u001b[49m\u001b[38;5;241;43m.\u001b[39;49m\u001b[43mencoding\u001b[49m\u001b[43m,\u001b[49m\n\u001b[0;32m    863\u001b[0m \u001b[43m            \u001b[49m\u001b[43merrors\u001b[49m\u001b[38;5;241;43m=\u001b[39;49m\u001b[43merrors\u001b[49m\u001b[43m,\u001b[49m\n\u001b[0;32m    864\u001b[0m \u001b[43m            \u001b[49m\u001b[43mnewline\u001b[49m\u001b[38;5;241;43m=\u001b[39;49m\u001b[38;5;124;43m\"\u001b[39;49m\u001b[38;5;124;43m\"\u001b[39;49m\u001b[43m,\u001b[49m\n\u001b[0;32m    865\u001b[0m \u001b[43m        \u001b[49m\u001b[43m)\u001b[49m\n\u001b[0;32m    866\u001b[0m     \u001b[38;5;28;01melse\u001b[39;00m:\n\u001b[0;32m    867\u001b[0m         \u001b[38;5;66;03m# Binary mode\u001b[39;00m\n\u001b[0;32m    868\u001b[0m         handle \u001b[38;5;241m=\u001b[39m \u001b[38;5;28mopen\u001b[39m(handle, ioargs\u001b[38;5;241m.\u001b[39mmode)\n",
      "\u001b[1;31mFileNotFoundError\u001b[0m: [Errno 2] No such file or directory: 'D:/datasets/ram_price.csv'"
     ]
    }
   ],
   "source": [
    "import pandas as pd\n",
    "ram_prices = pd.read_csv(\"D:/datasets/ram_price.csv\")\n",
    "plt.semilogy(ram_prices.date, ram_prices.price)\n",
    "plt.xlabel(\"Year\")\n",
    "plt.ylabel(\"Price in $/Mbyte\")"
   ]
  },
  {
   "attachments": {},
   "cell_type": "markdown",
   "metadata": {},
   "source": [
    "- Nótese que en la escala logarítmica del eje $y$, `la relación parece ser bastante lineal y, por tanto, debería ser relativamente fácil de predecir`. Vamos a hacer una predicción para los años posteriores al 2000 utilizando los datos históricos hasta esa fecha como única característica. Compararemos dos modelos sencillos: un `DecisionTreeRegressor` y `LinearRegression`. \n",
    "\n",
    "- Cambiamos la escala de los precios utilizando un logaritmo, para que la relación sea relativamente lineal. Esto no supone ninguna diferencia para el `DecisionTreeRegressor`, pero supone una gran diferencia para el `LinearRegression`. Después de entrenar los modelos y hacer predicciones, aplicamos la función exponencial para deshacer la transformación del logaritmo. Realizamos predicciones sobre todo el conjunto de datos para su visualización, pero para una evaluación cuantitativa, sólo consideraríamos el conjunto de datos de prueba"
   ]
  },
  {
   "cell_type": "code",
   "execution_count": null,
   "metadata": {},
   "outputs": [],
   "source": [
    "from sklearn.tree import DecisionTreeRegressor\n",
    "from sklearn.linear_model import LinearRegression"
   ]
  },
  {
   "attachments": {},
   "cell_type": "markdown",
   "metadata": {},
   "source": [
    "- Utilizamos los datos históricos para prever los precios después del año 2000. `Realizamos predicción de los precios en función de la fecha`. Utilizamos una transformación logarítmica para obtener una relación más sencilla de los datos con el objetivo"
   ]
  },
  {
   "cell_type": "code",
   "execution_count": null,
   "metadata": {},
   "outputs": [],
   "source": [
    "data_train = ram_prices[ram_prices.date < 2000]\n",
    "data_test  = ram_prices[ram_prices.date >= 2000]"
   ]
  },
  {
   "cell_type": "code",
   "execution_count": null,
   "metadata": {},
   "outputs": [],
   "source": [
    "X_train = np.array(data_train.date)[:, None] # Vector columna\n",
    "y_train = np.log(data_train.price)"
   ]
  },
  {
   "cell_type": "code",
   "execution_count": null,
   "metadata": {},
   "outputs": [],
   "source": [
    "tree = DecisionTreeRegressor().fit(X_train, y_train)\n",
    "linear_reg = LinearRegression().fit(X_train, y_train)\n",
    "\n",
    "X_all = np.array(ram_prices.date)[:, None]\n",
    "pred_tree = tree.predict(X_all)\n",
    "pred_lr = linear_reg.predict(X_all)\n",
    "\n",
    "price_tree = np.exp(pred_tree)\n",
    "price_lr = np.exp(pred_lr)"
   ]
  },
  {
   "attachments": {},
   "cell_type": "markdown",
   "metadata": {},
   "source": [
    "- Realizamos una figura para comparar las predicciones del árbol de decisión y del modelo de regresión lineal con la los datos reales de entrenamiento y de prueba"
   ]
  },
  {
   "cell_type": "code",
   "execution_count": null,
   "metadata": {},
   "outputs": [],
   "source": [
    "plt.semilogy(data_train.date, data_train.price, label=\"Training data\")\n",
    "plt.semilogy(data_test.date, data_test.price, label=\"Test data\")\n",
    "plt.semilogy(ram_prices.date, price_tree, label=\"Tree prediction\")\n",
    "plt.semilogy(ram_prices.date, price_lr, label=\"Linear prediction\")\n",
    "plt.legend();"
   ]
  },
  {
   "attachments": {},
   "cell_type": "markdown",
   "metadata": {},
   "source": [
    "- La diferencia entre los modelos es bastante sorprendente. El modelo lineal se aproxima a los datos con una línea, como sabíamos que haría. Esta línea proporciona una previsión bastante buena para los datos de prueba (los años posteriores al 2000), mientras que pasa por alto algunas de las variaciones más finas en los datos de entrenamiento y de prueba. `El modelo de árbol, por su parte, hace predicciones perfectas sobre los datos de entrenamiento`, no restringimos la complejidad del árbol, por lo que aprendió de memoria todo el conjunto de datos. Sin embargo, `una vez que salimos del rango para el que el arbol tiene datos, el modelo simplemente sigue prediciendo el último punto conocido`. El árbol no tiene la capacidad para generar `\"nuevas\"` respuestas, fuera de lo que se vio en los datos de de entrenamiento. Esta deficiencia se aplica a todos los modelos basados en árboles."
   ]
  },
  {
   "attachments": {},
   "cell_type": "markdown",
   "metadata": {},
   "source": [
    "**`Puntos fuertes, puntos débiles y parámetros`**"
   ]
  },
  {
   "attachments": {},
   "cell_type": "markdown",
   "metadata": {},
   "source": [
    "- Como ya se ha comentado, los parámetros que controlan la complejidad del modelo en los árboles de decisión son los parámetros de pre-selección que detienen la construcción del árbol antes de que esté completamente desarrollado. Por lo general, la elección de una de las estrategias de pre-poda y configuración de: `max_depth, max_leaf_nodes, min_samples_leaf` es suficiente para evitar el overfitting de la misma.\n",
    "\n",
    "- Los árboles de decisión tienen dos ventajas sobre muchos de los algoritmos que hemos analizado hasta ahora: `el modelo resultante puede ser fácilmente visualizado y entendido por personas no expertas (al menos para los árboles más pequeños)`, y los `algoritmos son completamente invariables a la escala de los datos`. Como `cada característica se procesa por separado`, y las posibles divisiones de los datos no dependen de la escala, no es necesario un preprocesamiento como la normalización o la estandarización de las características para los algoritmos de árboles de decisión. \n",
    "\n",
    "- En particular, los árboles de decisión funcionan bien cuando se tienen características que están en escalas completamente diferentes, o una mezcla de características binarias y continuas. `El principal inconveniente de los árboles de decisión es que, incluso con el uso de la pre-poda, tienden a sobreajustarse y a proporcionar un pobre rendimiento de generalización`. Por lo tanto, en la mayoría de las aplicaciones, los `métodos combiandos` que analizamos a continuación suelen utilizarse en lugar de un único árbol de decisión."
   ]
  },
  {
   "attachments": {},
   "cell_type": "markdown",
   "metadata": {},
   "source": [
    "## Ensamble de árboles de decisión"
   ]
  },
  {
   "attachments": {},
   "cell_type": "markdown",
   "metadata": {},
   "source": [
    "- `Los ensambles son métodos que combinan múltiples modelos de aprendizaje automático para crear modelos más potentes`. Hay muchos modelos en la literatura de aprendizaje automático que pertenecen a esta categoría, pero hay dos modelos de ensamble que han demostrado su eficacia en una amplia gama de conjuntos de datos de clasificación y regresión, ambos utilizan árboles de decisión como bloques de construcción: los `random forest` y los `gradient boosted decision trees.`"
   ]
  },
  {
   "attachments": {},
   "cell_type": "markdown",
   "metadata": {},
   "source": [
    "**`Bosques aleatorios`**\n",
    "\n",
    "- Como acabamos de observar, uno de los principales inconvenientes de `los árboles de decisión es que tienden a sobreajustar los datos de entrenamiento. Los bosques aleatorios son una forma de abordar este problema`. Un bosque aleatorio es esencialmente una colección de árboles de decisión, donde cada árbol es ligeramente diferente de de los demás. La idea detrás de los bosques aleatorios es que cada árbol puede hacer un trabajo de predicción relativamente bien, pero es probable que se ajuste demasiado a una parte de los datos. `Si construimos muchos árboles, todos los cuales funcionan bien y se ajustan en exceso de diferentes maneras, podemos reducir la cantidad de sobreajuste promediando sus resultados`. Esta reducción de overfitting, al tiempo que se mantiene el poder de predicción de los árboles se puede verificar matemáticamente.\n",
    "\n",
    "- Para poner en práctica esta estrategia, tenemos que construir muchos árboles de decisión. Cada árbol debe hacer un trabajo aceptable de predicción del objetivo, y también debe ser diferente de los otros árboles. Los bosques aleatorios reciben su nombre de la inyección de aleatoriedad en la construcción de árboles para garantizar que cada árbol sea diferente. Hay dos formas de aleatorizar los árboles de un bosque aleatorio: `seleccionando los puntos de datos utilizados para construir un árbol y seleccionando las características en cada prueba de división`. Veamos este proceso con más detalle."
   ]
  },
  {
   "attachments": {},
   "cell_type": "markdown",
   "metadata": {},
   "source": [
    "**`Construcción de bosques aleatorios`**\n",
    "\n",
    "- Para construir un modelo de bosque aleatorio (`random forest`), hay que decidir el número de árboles a construir (el parámetro `n_estimators` de `RandomForestRegressor` o `RandomForestClassifier`). Digamos que queremos construir 10 árboles. Estos árboles se construirán de forma completamente independiente unos de otros, y `el algoritmo hará elecciones aleatorias diferentes para cada árbol con el fin de asegurarse de que los árboles son distintos`. \n",
    "\n",
    "- Para construir un árbol, primero tomamos lo que se llama una `muestra bootstrap` de nuestros datos. Es decir, a partir de nuestras `n_samples` (puntos de datos), extraemos repetidamente un ejemplo al azar con reemplazo (lo que significa que la misma muestra puede ser elegida varias veces), `n_samples` veces. Esto creará un conjunto de datos que es tan grande como el conjunto de datos original, pero en el que faltarán algunos puntos de dato (aproximadamente un tercio), y algunos se repetirán.\n",
    "\n",
    "- Para ilustrarlo, digamos que queremos crear una `muestra bootstrap` de la lista `['a', 'b', 'c', 'd']`. Una posible muestra bootstrap sería `['b', 'd', 'd', 'c']`. Otra muestra posible sería `['d', 'a', 'd', 'a']`. A continuación, `se construye un árbol de decisión basado en este conjunto de datos (muestra bootstrap) recién creado`. Sin embargo, el algoritmo que hemos descrito para el árbol de decisión se ha modificado ligeramente. En lugar de buscar la mejor prueba para cada nodo, el algoritmo `selecciona aleatoriamente un subconjunto de características y busca la mejor prueba posible que incluya una de estas características`."
   ]
  },
  {
   "attachments": {},
   "cell_type": "markdown",
   "metadata": {},
   "source": [
    "- El número de características que se seleccionan se controla con el parámetro `max_features`. La selección de un subconjunto de características se repite por separado en cada nodo, de modo que `cada nodo de un árbol puede tomar una decisión utilizando un subconjunto diferente de las características`. `El muestreo bootstrap hace que cada árbol de decisión del bosque aleatorio se construya en un conjunto de datos ligeramente diferente`. Debido a la selección de características en cada nodo, cada división de cada árbol opera con un subconjunto diferente de características. Juntos, estos dos mecanismos aseguran que todos los árboles del bosque aleatorio son diferentes.\n",
    "\n",
    "- En este proceso el parámetro `max_features` es crítico. Si establecemos `max_features` en `n_features`, `significa que cada división puede mirar todas las características del conjunto de datos, y no se inyectará aleatoriedad ninguna en la selección de características` (la aleatoriedad debida al bootstrap permanece, sin embargo). Si establecemos `max_features en 1, esto significa que las divisiones no tienen ninguna opción sobre qué característica probar`, y sólo pueden buscar sobre diferentes umbrales para la característica que fue seleccionada  al azar. Por lo tanto, un `max_feature` significa que los árboles del bosque aleatorio serán bastante similares y podrán con facilidad ajustarse a los datos, utilizando las características más distintivas. `Un max_features bajo significa que los árboles del bosque aleatorio serán bastante diferentes, y que cada árbol puede necesitar ser muy profundo para ajustarse bien a los datos`.\n",
    "\n",
    "- Para hacer una predicción utilizando el bosque aleatorio, el algoritmo realiza primero una predicción para cada árbol del bosque. `Para la regresión, podemos promediar estos resultados para obtener nuestra predicción final`. Para la clasificación, se utiliza una estrategia de `\"votación suave\"`. Esto significa que cada algoritmo hace una predicción `\"suave\"`, proporcionando una probabilidad para cada posible etiqueta de salida. `Las probabilidades predichas por todos los árboles se promedian y se predice la clase con la mayor probabilidad`."
   ]
  },
  {
   "attachments": {},
   "cell_type": "markdown",
   "metadata": {},
   "source": [
    "**`Análisis de los bosques aleatorios`**. Apliquemos un bosque aleatorio compuesto por cinco árboles al conjunto de datos `two_moons`"
   ]
  },
  {
   "cell_type": "code",
   "execution_count": null,
   "metadata": {},
   "outputs": [],
   "source": [
    "from sklearn.ensemble import RandomForestClassifier\n",
    "from sklearn.datasets import make_moons\n",
    "from sklearn.model_selection import train_test_split\n",
    "import matplotlib.pyplot as plt"
   ]
  },
  {
   "cell_type": "code",
   "execution_count": null,
   "metadata": {},
   "outputs": [],
   "source": [
    "X, y = make_moons(n_samples=100, noise=0.25, random_state=3)"
   ]
  },
  {
   "cell_type": "code",
   "execution_count": null,
   "metadata": {},
   "outputs": [],
   "source": [
    "X_train, X_test, y_train, y_test = train_test_split(X, y, stratify=y, random_state=42)\n",
    "forest = RandomForestClassifier(n_estimators=5, random_state=2)\n",
    "forest.fit(X_train, y_train)"
   ]
  },
  {
   "attachments": {},
   "cell_type": "markdown",
   "metadata": {},
   "source": [
    "- `Los árboles que se construyen como parte del bosque aleatorio se almacenan en estimator_attribute`. Visualicemos los límites de decisión aprendidos por cada árbol, junto con su predicción agregada"
   ]
  },
  {
   "cell_type": "code",
   "execution_count": null,
   "metadata": {},
   "outputs": [],
   "source": [
    "fig, axes = plt.subplots(2, 3, figsize=(20, 10))\n",
    "\n",
    "for i, (ax, tree) in enumerate(zip(axes.ravel(), forest.estimators_)):\n",
    "    ax.set_title(\"Tree {}\".format(i))\n",
    "    mglearn.plots.plot_tree_partition(X_train, y_train, tree, ax=ax)\n",
    "\n",
    "mglearn.plots.plot_2d_separator(forest, X_train, fill=True, ax=axes[-1, -1], alpha=.4)\n",
    "axes[-1, -1].set_title(\"Random Forest\")\n",
    "mglearn.discrete_scatter(X_train[:, 0], X_train[:, 1], y_train);"
   ]
  },
  {
   "attachments": {},
   "cell_type": "markdown",
   "metadata": {},
   "source": [
    "- Se puede ver claramente que los límites de decisión aprendidos por los cinco árboles son bastante diferentes. Cada uno de ellos comete algunos errores, ya que algunos de los puntos que se representan aquí no se incluyeron en los conjuntos de entrenamiento de los árboles, debido al muestreo bootstrap. `El bosque aleatorio se ajusta menos que cualquiera de los árboles por separado y proporciona un límite de decisión mucho más intuitivo`. En cualquier aplicación real, utilizaríamos muchos más árboles (a menudo cientos o miles), lo que daría lugar a límites aún más suaves."
   ]
  },
  {
   "attachments": {},
   "cell_type": "markdown",
   "metadata": {},
   "source": [
    "- Como otro ejemplo, apliquemos un bosque aleatorio compuesto por 100 árboles en el conjunto de datos `Breast Cancer`"
   ]
  },
  {
   "cell_type": "code",
   "execution_count": null,
   "metadata": {},
   "outputs": [],
   "source": [
    "from sklearn.datasets import load_breast_cancer\n",
    "cancer = load_breast_cancer()"
   ]
  },
  {
   "cell_type": "code",
   "execution_count": null,
   "metadata": {},
   "outputs": [],
   "source": [
    "X_train, X_test, y_train, y_test = train_test_split(cancer.data, cancer.target, random_state=0)\n",
    "forest = RandomForestClassifier(n_estimators=100, random_state=0)\n",
    "forest.fit(X_train, y_train)\n",
    "print(\"Accuracy on training set: {:.3f}\".format(forest.score(X_train, y_train)))\n",
    "print(\"Accuracy on test set: {:.3f}\".format(forest.score(X_test, y_test)))"
   ]
  },
  {
   "attachments": {},
   "cell_type": "markdown",
   "metadata": {},
   "source": [
    "- `El bosque aleatorio nos da una precisión del 97%, mejor que los modelos lineales o un árbol de decisión único, sin necesidad de ajustar ningún parámetro`. Podríamos ajustar la configuración de `max_features`, o aplicar la pre-selección como hicimos con el árbol de decisión simple. Sin embargo, a menudo los parámetros por defecto del bosque aleatorio ya funcionan bastante bien. `Al igual que el árbol de decisión, el bosque aleatorio proporciona importancias de características, que se calculan agregando las importancias de las características en los árboles del bosque`. Normalmente, las `importancias de las características proporcionadas por el bosque aleatorio son más fiables que las proporcionadas por un solo árbol`."
   ]
  },
  {
   "cell_type": "code",
   "execution_count": null,
   "metadata": {},
   "outputs": [],
   "source": [
    "plot_feature_importances_cancer(forest)"
   ]
  },
  {
   "attachments": {},
   "cell_type": "markdown",
   "metadata": {},
   "source": [
    "- Como puede ver, `el bosque aleatorio da una importancia no nula a muchas más características que el árbol simple`. Al igual que el árbol de decisión simple, el bosque aleatorio también da importancia a la característica `\"worst radius\"`, pero en realidad elige `\"worst perimeter\"` como la `característica más informativa`. `La aleatoriedad en la construcción del bosque aleatorio obliga al algoritmo a considerar muchas explicaciones posibles`. El resultado es que el bosque aleatorio capta una imagen mucho más amplia de los datos que un árbol simple."
   ]
  },
  {
   "attachments": {},
   "cell_type": "markdown",
   "metadata": {},
   "source": [
    "```{admonition} Observación\n",
    ":class: tip\n",
    "\n",
    "La `importancia de la característica` se calcula como la disminución de la impureza del nodo ponderada por la probabilidad de alcanzar ese nodo. `La probabilidad del nodo puede calcularse mediante el número de muestras que llegan al nodo, dividido por el número total de muestras. Cuanto mayor sea el valor, más importante será la característica`. Si tenemos $C$ clases totales y $p(i)$ es la probabilidad de escoger un punto de datos con la clase $i$, entonces la `impureza de Gini` se calcula como\n",
    "\n",
    "$$\n",
    "G=\\sum_{i=1}^{C}p(i)(1-p(i)).\n",
    "$$\n",
    "```"
   ]
  },
  {
   "attachments": {},
   "cell_type": "markdown",
   "metadata": {},
   "source": [
    "**`Puntos fuertes, puntos débiles y parámetros`**"
   ]
  },
  {
   "attachments": {},
   "cell_type": "markdown",
   "metadata": {},
   "source": [
    "- Los bosques aleatorios para la regresión y la clasificación se encuentran actualmente entre los métodos de aprendizaje automático más utilizados. `Son muy potentes, suelen funcionar bien sin necesidad de ajustar mucho los parámetros y no requieren el escalado de los datos`. Esencialmente, los bosques aleatorios comparten todos los beneficios de los árboles de decisión, mientras que compensan algunas de sus deficiencias. Una razón para seguir utilizando los árboles de decisión es, **`si se necesita una representación compacta del proceso de toma de decisiones`**. Es básicamente imposible interpretar decenas o cientos de árboles en detalle, y los árboles de los bosques aleatorios tienden a ser más profundos que los árboles de decisión (debido al uso de subconjuntos de características). Por lo tanto, si se necesita resumir las predicciones de forma visual para los no expertos, un único árbol de decisión puede ser la mejor opción. \n",
    "\n",
    "- Aunque la construcción de bosques aleatorios en grandes conjuntos de datos puede llevar algo de tiempo, `se puede paralelizar a través de múltiples núcleos de CPU dentro de un ordenador fácilmente`. Si utiliza un procesador multinúcleo (como casi todos los ordenadores modernos),  puede utilizar el parámetro `n_jobs` para ajustar el número de núcleos a utilizar. El uso de más núcleos de la CPU dará lugar a un aumento lineal de la velocidad (utilizando dos núcleos, el entrenamiento del bosque aleatorio será el doble de rápido), pero especificar `n_jobs` mayor que el número de núcleos no ayudará. `Puede establecer n_jobs=-1 para utilizar todos los núcleos en su ordenador`.\n",
    "\n",
    "- Debe tener en cuenta que los bosques aleatorios, por su naturaleza, son aleatorios, y establecen diferentes estados aleatorios (o no establecen el `random_state` en absoluto) puede cambiar drásticamente el modelo que se construye. `Cuanto más árboles haya en el bosque, más robusto será frente a la elección del estado aleatorio`. Si quiere tener resultados reproducibles, es importante fijar el `random_state` a caulquier número entero. `Los bosques aleatorios no tienden a funcionar bien en datos muy dimensionales y escasos, como los datos de texto`. Para este tipo de datos, los modelos lineales pueden ser más apropiados. Los bosques aleatorios suelen funcionar bien incluso en conjuntos de datos muy grandes, y el entrenamiento se puede paralelizar fácilmente en muchos núcleos de la CPU de un ordenador potente.  Sin embargo, `los bosques aleatorios requieren más memoria y son más lentos de entrenar y predecir que los modelos lineales`. Si el tiempo y la memoria son importantes en una aplicación, puede tener sentido utilizar un modelo lineal en su lugar.\n",
    "\n",
    "- Los parámetros importantes a ajustar son `n_estimators , max_features`, y posiblemente opciones de pre-poda como `max_depth`. En el caso de `n_estimators`, un número mayor es siempre mejor. `Promediar más árboles dará lugar a un conjunto más robusto al reducir el sobreajuste`. Sin embargo, hay rendimientos decrecientes, y más árboles necesitan más memoria y más tiempo para entrenar. Una regla común es construir \"tantos como tenga tiempo/memoria\".  Como se ha descrito anteriormente, `max_features` determina el grado de aleatoriedad de cada árbol, y un `max_features pequeño reduce el sobreajuste`. En general, es una buena regla general utilizar los valores por defecto: `max_features=sqrt(n_features)` para la clasificación y `max_features=log2(n_features)` para la regresión. Añadir `max_features` o `max_leaf_nodes` puede mejorar a veces el rendimiento. También puede reducir drásticamente los requisitos de espacio y tiempo para el entrenamiento y la predicción."
   ]
  },
  {
   "attachments": {},
   "cell_type": "markdown",
   "metadata": {},
   "source": [
    "**`Árboles de regresión de gradiente reforzado (máquinas de gradiente reforzado)`**"
   ]
  },
  {
   "attachments": {},
   "cell_type": "markdown",
   "metadata": {},
   "source": [
    "- El árbol de regresión de gradiente reforzado es otro método de conjunto que combina múltiples árboles de decisión. A pesar de la `\"regresión\"` en el nombre, estos modelos pueden utilizarse para la regresión y la clasificación. A diferencia del enfoque de bosque aleatorio, `el refuerzo de gradiente funciona construyendo árboles en forma de serie, en el que cada árbol trata de corregir los errores del anterior`. Por defecto, no hay aleatoriedad en los árboles de regresión de gradiente; en su lugar, `se utiliza una fuerte pre-poda`. Los árboles de impulso por gradiente suelen utilizar árboles muy poco profundos, de una a cinco profundidades, lo que hace que el modelo sea más pequeño en términos de memoria y que las predicciones sean más rápidas.\n",
    "\n",
    "- La idea principal del `gradient boosting` es combinar muchos modelos simples (en este contexto conocidos como aprendices débiles), como árboles poco profundos. Cada árbol sólo puede proporcionar buenas predicciones sobre una parte de los datos, por lo que se añaden más y más árboles para mejorar el rendimiento. `Los árboles con refuerzo de gradiente suelen ser los ganadores de los concursos de aprendizaje automático y se utilizan mucho en la industria`. Suelen ser un poco más sensibles a los ajustes de los parámetros que los bosques aleatorios, pero pueden proporcionar una mayor precisión si los parámetros se ajustan correctamente.\n",
    "\n",
    "- Aparte de la pre-poda y el número de árboles en el conjunto, otro parámetro importante del gradient boosting es la `tasa de aprendizaje, que controla la intensidad con la que cada árbol trata de corregir los errores de los árboles anteriores`. Una tasa de aprendizaje alta significa que cada árbol puede hacer correcciones más fuertes, lo que permite modelos más complejos. Si se añaden más árboles al conjunto, lo que puede conseguirse aumentando `n_estimators`, también aumenta la complejidad del modelo, ya que éste tiene más oportunidades de corregir errores en el conjunto de entrenamiento."
   ]
  },
  {
   "attachments": {},
   "cell_type": "markdown",
   "metadata": {},
   "source": [
    "- Este es un ejemplo del uso del clasificador `GradientBoosting` en el conjunto de datos del `Breast Cancer`. Por defecto, se utilizan 100 árboles de profundidad máxima 3 y una tasa de aprendizaje de 0.1"
   ]
  },
  {
   "cell_type": "code",
   "execution_count": null,
   "metadata": {},
   "outputs": [],
   "source": [
    "from sklearn.ensemble import GradientBoostingClassifier\n",
    "from sklearn.model_selection import train_test_split\n",
    "from sklearn.datasets import load_breast_cancer\n",
    "import matplotlib.pyplot as plt\n",
    "import numpy as np\n",
    "cancer = load_breast_cancer()"
   ]
  },
  {
   "cell_type": "code",
   "execution_count": null,
   "metadata": {},
   "outputs": [],
   "source": [
    "X_train, X_test, y_train, y_test = train_test_split(cancer.data, cancer.target, random_state=0)\n",
    "gbrt = GradientBoostingClassifier(random_state=0)\n",
    "gbrt.fit(X_train, y_train)\n",
    "print(\"Accuracy on training set: {:.3f}\".format(gbrt.score(X_train, y_train)))\n",
    "print(\"Accuracy on test set: {:.3f}\".format(gbrt.score(X_test, y_test)))"
   ]
  },
  {
   "attachments": {},
   "cell_type": "markdown",
   "metadata": {},
   "source": [
    "- Como la `precisión del conjunto de entrenamiento es del 100%, es probable que estemos sobreajustando. Para reducir el sobreajuste, podemos aplicar una pre-poda más fuerte limitando la profundidad máxima o reducir la tasa de aprendizaje`"
   ]
  },
  {
   "cell_type": "code",
   "execution_count": null,
   "metadata": {},
   "outputs": [],
   "source": [
    "gbrt = GradientBoostingClassifier(random_state=0, max_depth=1)\n",
    "gbrt.fit(X_train, y_train)\n",
    "print(\"Accuracy on training set: {:.3f}\".format(gbrt.score(X_train, y_train)))\n",
    "print(\"Accuracy on test set: {:.3f}\".format(gbrt.score(X_test, y_test)))"
   ]
  },
  {
   "cell_type": "code",
   "execution_count": null,
   "metadata": {},
   "outputs": [],
   "source": [
    "gbrt = GradientBoostingClassifier(random_state=0, learning_rate=0.01)\n",
    "gbrt.fit(X_train, y_train)\n",
    "print(\"Accuracy on training set: {:.3f}\".format(gbrt.score(X_train, y_train)))\n",
    "print(\"Accuracy on test set: {:.3f}\".format(gbrt.score(X_test, y_test)))"
   ]
  },
  {
   "attachments": {},
   "cell_type": "markdown",
   "metadata": {},
   "source": [
    "- Ambos métodos para disminuir la complejidad del modelo `redujeron la precisión del conjunto de entrenamiento, como era de esperar`. En este caso, `la reducción de la profundidad máxima de los árboles proporcionó una mejora significativa del modelo, mientras que la reducción de la tasa de aprendizaje sólo aumentó la precisión del conjunto de entrenamiento ligeramente`. En cuanto a los otros modelos basados en árboles de decisión, podemos volver a visualizar las características para obtener más información sobre nuestro modelo. Como utilizamos 100 árboles, es poco práctico inspeccionarlos todos, aunque todos tengan una profundidad de 1."
   ]
  },
  {
   "cell_type": "code",
   "execution_count": null,
   "metadata": {},
   "outputs": [],
   "source": [
    "gbrt = GradientBoostingClassifier(random_state=0, max_depth=1)\n",
    "gbrt.fit(X_train, y_train)\n",
    "plot_feature_importances_cancer(gbrt)"
   ]
  },
  {
   "attachments": {},
   "cell_type": "markdown",
   "metadata": {},
   "source": [
    "- Podemos ver que las importancias de las características de los árboles `gradient-boost` son algo similares a las de los bosques aleatorios, aunque el refuerzo del gradiente ignora por completo algunas de las características. Como tanto el refuerzo de gradiente como los bosques aleatorios funcionan bien en tipos de datos similares, `un enfoque común es probar primero los bosques aleatorios, que funcionan con bastante solidez. Si los bosques aleatorios funcionan bien, pero el tiempo de predicción es un problema, o si es importante exprimir el último porcentaje de precisión del modelo de aprendizaje automático, pasar a la refuerzo por gradiente suele ser útil`.\n",
    "\n",
    "- **`Si quiere aplicar el refuerzo de gradiente a un problema a gran escala, puede que merezca la pena investigar el paquete xgboost y su interfaz de Python, que hasta el momento es más rápido (y a veces más fácil de usar) que la implementación de scikit-learn en muchos conjuntos de datos`**."
   ]
  },
  {
   "attachments": {},
   "cell_type": "markdown",
   "metadata": {},
   "source": [
    "**`Puntos fuertes, puntos débiles y parámetros`** \n",
    "\n",
    "- Los árboles de decisión con refuerzo de gradiente se encuentran entre los modelos más potentes y utilizados para el aprendizaje supervisado. `Su principal inconveniente es que requieren un ajuste cuidadoso de los parámetros y pueden tardar mucho tiempo de entrenamiento`. Al igual que otros modelos basados en árboles, el algoritmo funciona bien sin escalar y con una mezcla de características binarias y continuas. Al igual que otros modelos basados en árboles tampoco suele funcionar bien con datos dispersos de alta dimensión.\n",
    "\n",
    "- Los principales parámetros de los modelos de árbol de gradiente reforzado son el número de árboles, `n_estimators`, y el `learning_rate` que `controla el grado en que cada árbol puede corregir los errores de los árboles anteriores`. Estos dos parámetros están muy interconectados, ya que una tasa de aprendizaje más baja significa que se necesitan más árboles para construir un modelo de complejidad similar. A diferencia de los bosques aleatorios, en los que un valor de `n_estimators` es siempre mejor, el aumento de `n_estimators` en el `gradient boosting` conduce a un modelo más complejo, lo que puede llevar a un sobreajuste. Una práctica común es ajustar `n_estimators` dependiendo del presupuesto de tiempo y memoria, y luego buscar sobre diferentes tasas de aprendizaje.\n",
    "\n",
    "- Otro parámetro importante es `max_depth` (o alternativamente `max_leaf_nodes`), para reducir la complejidad de cada árbol. `Por lo general, la profundidad máxima es muy baja para los modelos de gradiente, a menudo no más allá de cinco divisiones`."
   ]
  }
 ],
 "metadata": {
  "kernelspec": {
   "display_name": "ml_tf",
   "language": "python",
   "name": "ml_tf"
  },
  "language_info": {
   "codemirror_mode": {
    "name": "ipython",
    "version": 3
   },
   "file_extension": ".py",
   "mimetype": "text/x-python",
   "name": "python",
   "nbconvert_exporter": "python",
   "pygments_lexer": "ipython3",
   "version": "3.9.18"
  }
 },
 "nbformat": 4,
 "nbformat_minor": 4
}
